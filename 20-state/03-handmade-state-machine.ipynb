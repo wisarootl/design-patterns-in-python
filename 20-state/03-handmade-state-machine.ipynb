{
 "cells": [
  {
   "cell_type": "code",
   "execution_count": 41,
   "metadata": {},
   "outputs": [],
   "source": [
    "from enum import Enum, auto\n",
    "\n",
    "\n",
    "class State(Enum):\n",
    "    OFF_HOOK = auto()\n",
    "    CONNECTING = auto()\n",
    "    CONNECTED = auto()\n",
    "    ON_HOLD = auto()\n",
    "    ON_HOOK = auto()\n",
    "\n",
    "\n",
    "class Trigger(Enum):\n",
    "    CALL_DIALED = auto()\n",
    "    HUNG_UP = auto()\n",
    "    CALL_CONNECTED = auto()\n",
    "    PLACED_ON_HOLD = auto()\n",
    "    TAKEN_OFF_HOLD = auto()\n",
    "    LEFT_MESSAGE = auto()\n"
   ]
  },
  {
   "cell_type": "code",
   "execution_count": 42,
   "metadata": {},
   "outputs": [],
   "source": [
    "rules = {\n",
    "    State.OFF_HOOK: [\n",
    "        (Trigger.CALL_DIALED, State.CONNECTING)\n",
    "    ],\n",
    "    State.CONNECTING: [\n",
    "        (Trigger.HUNG_UP, State.ON_HOOK),\n",
    "        (Trigger.CALL_CONNECTED, State.CONNECTED)\n",
    "    ],\n",
    "    State.CONNECTED: [\n",
    "        (Trigger.LEFT_MESSAGE, State.ON_HOOK),\n",
    "        (Trigger.HUNG_UP, State.ON_HOOK),\n",
    "        (Trigger.PLACED_ON_HOLD, State.ON_HOLD)\n",
    "    ],\n",
    "    State.ON_HOLD: [\n",
    "        (Trigger.TAKEN_OFF_HOLD, State.CONNECTED),\n",
    "        (Trigger.HUNG_UP, State.ON_HOOK)\n",
    "    ]\n",
    "}"
   ]
  },
  {
   "cell_type": "code",
   "execution_count": 43,
   "metadata": {},
   "outputs": [
    {
     "name": "stdout",
     "output_type": "stream",
     "text": [
      "The phone is currently State.OFF_HOOK\n",
      "0: Trigger.CALL_DIALED\n",
      "The phone is currently State.CONNECTING\n",
      "0: Trigger.HUNG_UP\n",
      "1: Trigger.CALL_CONNECTED\n",
      "The phone is currently State.CONNECTED\n",
      "0: Trigger.LEFT_MESSAGE\n",
      "1: Trigger.HUNG_UP\n",
      "2: Trigger.PLACED_ON_HOLD\n",
      "We are done using the phone.\n"
     ]
    }
   ],
   "source": [
    "state = State.OFF_HOOK\n",
    "exit_state = State.ON_HOOK\n",
    "\n",
    "while state != exit_state:\n",
    "    print(f'The phone is currently {state}')\n",
    "\n",
    "    for i in range(len(rules[state])):\n",
    "        t = rules[state][i][0]\n",
    "        print(f'{i}: {t}')\n",
    "\n",
    "    idx = int(input('Select a trigger:'))\n",
    "    s = rules[state][idx][1]\n",
    "    state = s\n",
    "\n",
    "print('We are done using the phone.')"
   ]
  }
 ],
 "metadata": {
  "interpreter": {
   "hash": "20ac7aad763b689ebdaff2f53a3073c7ed55a0f51860968fbf5603f714378c4e"
  },
  "kernelspec": {
   "display_name": "Python 3.10.4 64-bit",
   "language": "python",
   "name": "python3"
  },
  "language_info": {
   "codemirror_mode": {
    "name": "ipython",
    "version": 3
   },
   "file_extension": ".py",
   "mimetype": "text/x-python",
   "name": "python",
   "nbconvert_exporter": "python",
   "pygments_lexer": "ipython3",
   "version": "3.10.4"
  },
  "orig_nbformat": 4
 },
 "nbformat": 4,
 "nbformat_minor": 2
}
