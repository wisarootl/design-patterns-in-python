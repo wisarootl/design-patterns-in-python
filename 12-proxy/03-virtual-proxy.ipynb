{
 "cells": [
  {
   "cell_type": "code",
   "execution_count": 3,
   "metadata": {},
   "outputs": [],
   "source": [
    "class Bitmap:\n",
    "    def __init__(self, filename):\n",
    "        self.filename = filename\n",
    "        print(f'Loading image from {filename}')\n",
    "\n",
    "    def draw(self):\n",
    "        print(f'Drawing image {self.filename}')"
   ]
  },
  {
   "cell_type": "code",
   "execution_count": 9,
   "metadata": {},
   "outputs": [],
   "source": [
    "class LazyBitmap:\n",
    "    def __init__(self, filename):\n",
    "        self.filename = filename\n",
    "        self._bitmap = None\n",
    "\n",
    "    def draw(self):\n",
    "        if not self._bitmap:\n",
    "            self._bitmap = Bitmap(self.filename)\n",
    "        self._bitmap.draw()"
   ]
  },
  {
   "cell_type": "code",
   "execution_count": 4,
   "metadata": {},
   "outputs": [],
   "source": [
    "def draw_image(image):\n",
    "    print('About to draw image')\n",
    "    image.draw()\n",
    "    print('Done drawing image')"
   ]
  },
  {
   "cell_type": "code",
   "execution_count": 14,
   "metadata": {},
   "outputs": [
    {
     "name": "stdout",
     "output_type": "stream",
     "text": [
      "Loading image from facepalm.jpg\n",
      "About to draw image\n",
      "Drawing image facepalm.jpg\n",
      "Done drawing image\n",
      "About to draw image\n",
      "Drawing image facepalm.jpg\n",
      "Done drawing image\n"
     ]
    }
   ],
   "source": [
    "bmp = Bitmap('facepalm.jpg')\n",
    "draw_image(bmp)\n",
    "draw_image(bmp)"
   ]
  },
  {
   "cell_type": "code",
   "execution_count": 8,
   "metadata": {},
   "outputs": [
    {
     "name": "stdout",
     "output_type": "stream",
     "text": [
      "Loading image from facepalm.jpg\n"
     ]
    }
   ],
   "source": [
    "bmp = Bitmap('facepalm.jpg')\n",
    "# draw_image(bmp)\n",
    "\n",
    "# if we don't want to draw an image. we still load the image.\n",
    "# loading image maybe expensive"
   ]
  },
  {
   "cell_type": "code",
   "execution_count": 12,
   "metadata": {},
   "outputs": [
    {
     "name": "stdout",
     "output_type": "stream",
     "text": [
      "About to draw image\n",
      "Loading image from facepalm.jpg\n",
      "Drawing image facepalm.jpg\n",
      "Done drawing image\n",
      "About to draw image\n",
      "Drawing image facepalm.jpg\n",
      "Done drawing image\n"
     ]
    }
   ],
   "source": [
    "bmp = LazyBitmap('facepalm.jpg')\n",
    "draw_image(bmp)\n",
    "draw_image(bmp)\n",
    "\n",
    "# Load image happen only one time"
   ]
  },
  {
   "cell_type": "code",
   "execution_count": 11,
   "metadata": {},
   "outputs": [],
   "source": [
    "bmp = LazyBitmap('facepalm.jpg')\n",
    "# draw_image(bmp)"
   ]
  }
 ],
 "metadata": {
  "interpreter": {
   "hash": "20ac7aad763b689ebdaff2f53a3073c7ed55a0f51860968fbf5603f714378c4e"
  },
  "kernelspec": {
   "display_name": "Python 3.10.4 64-bit",
   "language": "python",
   "name": "python3"
  },
  "language_info": {
   "codemirror_mode": {
    "name": "ipython",
    "version": 3
   },
   "file_extension": ".py",
   "mimetype": "text/x-python",
   "name": "python",
   "nbconvert_exporter": "python",
   "pygments_lexer": "ipython3",
   "version": "3.10.4"
  },
  "orig_nbformat": 4
 },
 "nbformat": 4,
 "nbformat_minor": 2
}
