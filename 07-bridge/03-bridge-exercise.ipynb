{
 "cells": [
  {
   "cell_type": "markdown",
   "metadata": {},
   "source": [
    "# Bridge Coding Exercise"
   ]
  },
  {
   "cell_type": "markdown",
   "metadata": {},
   "source": [
    "You are given an example of an inheritance hierarchy which results in Cartesian-product duplication.\n",
    "\n",
    "Please refactor this hierarchy, giving the base class `Shape` a constructor that takes an interface `Renderer` defined as\n",
    "\n",
    "```python\n",
    "class Renderer(ABC):\n",
    "    @property\n",
    "    def what_to_render_as(self):\n",
    "        return None\n",
    "```\n",
    "as well as `VectorRenderer` and `RasterRenderer` classes. Each inheritor of the `Shape` abstract class should have a constructor that takes a `Renderer` such that, subsequently, each constructed object's `__str__()`  operates correctly, for example,\n",
    "\n",
    "`str(Triangle(RasterRenderer()) # returns \"Drawing Triangle as pixels\"`"
   ]
  },
  {
   "cell_type": "code",
   "execution_count": 1,
   "metadata": {},
   "outputs": [],
   "source": [
    "# class Shape:\n",
    "#     def __init__(self):\n",
    "#         self.name = None\n",
    "#\n",
    "#\n",
    "# class Triangle(Shape):\n",
    "#     def __init__(self):\n",
    "#         super().__init__()\n",
    "#         self.name = 'Triangle'\n",
    "#\n",
    "#\n",
    "# class Square(Shape):\n",
    "#     def __init__(self):\n",
    "#         super().__init__()\n",
    "#         self.name = 'Square'\n",
    "#\n",
    "#\n",
    "# class VectorSquare(Square):\n",
    "#     def __str__(self):\n",
    "#         return f'Drawing {self.name} as lines'\n",
    "#\n",
    "#\n",
    "# class RasterSquare(Square):\n",
    "#     def __str__(self):\n",
    "#         return f'Drawing {self.name} as pixels'\n",
    "\n",
    "# imagine VectorTriangle and RasterTriangle are here too"
   ]
  },
  {
   "cell_type": "code",
   "execution_count": 2,
   "metadata": {},
   "outputs": [],
   "source": [
    "import unittest\n",
    "from abc import ABC"
   ]
  },
  {
   "cell_type": "code",
   "execution_count": 3,
   "metadata": {},
   "outputs": [],
   "source": [
    "class Renderer(ABC):\n",
    "    @property\n",
    "    def what_to_render_as(self):\n",
    "        return None"
   ]
  },
  {
   "cell_type": "code",
   "execution_count": 4,
   "metadata": {},
   "outputs": [],
   "source": [
    "class Shape(ABC):\n",
    "    def __init__(self, renderer, name):\n",
    "        self.renderer = renderer\n",
    "        self.name = name\n",
    "\n",
    "    def __str__(self):\n",
    "        return f'Drawing {self.name} as {self.renderer.what_to_render_as}'"
   ]
  },
  {
   "cell_type": "code",
   "execution_count": 5,
   "metadata": {},
   "outputs": [],
   "source": [
    "class Triangle(Shape):\n",
    "    def __init__(self, renderer):\n",
    "        super().__init__(renderer, 'Triangle')\n",
    "\n",
    "\n",
    "class Square(Shape):\n",
    "    def __init__(self, renderer):\n",
    "        super().__init__(renderer, 'Square')\n"
   ]
  },
  {
   "cell_type": "code",
   "execution_count": 6,
   "metadata": {},
   "outputs": [],
   "source": [
    "class RasterRenderer(Renderer):\n",
    "    @property\n",
    "    def what_to_render_as(self):\n",
    "        return 'pixels'\n",
    "\n",
    "\n",
    "class VectorRenderer(Renderer):\n",
    "    @property\n",
    "    def what_to_render_as(self):\n",
    "        return 'lines'"
   ]
  },
  {
   "cell_type": "code",
   "execution_count": 7,
   "metadata": {},
   "outputs": [
    {
     "name": "stdout",
     "output_type": "stream",
     "text": [
      "Drawing Square as lines\n"
     ]
    }
   ],
   "source": [
    "sq = Square(VectorRenderer())\n",
    "print(sq) # Drawing Square as lines"
   ]
  },
  {
   "cell_type": "code",
   "execution_count": 8,
   "metadata": {},
   "outputs": [
    {
     "name": "stdout",
     "output_type": "stream",
     "text": [
      "Drawing Triangle as pixels\n"
     ]
    }
   ],
   "source": [
    "tr = Triangle(RasterRenderer())\n",
    "print(tr) # Drawing Triangle as pixels"
   ]
  },
  {
   "cell_type": "code",
   "execution_count": 9,
   "metadata": {},
   "outputs": [],
   "source": [
    "class Evaluate(unittest.TestCase):\n",
    "    def test_square_vector(self):\n",
    "        sq = Square(VectorRenderer())\n",
    "        self.assertEqual(str(sq), 'Drawing Square as lines')\n",
    "        print('pass test')\n",
    "\n",
    "    def test_pixel_triangle(self):\n",
    "        tr = Triangle(RasterRenderer())\n",
    "        self.assertEqual(str(tr), 'Drawing Triangle as pixels')\n",
    "        print('pass test')"
   ]
  },
  {
   "cell_type": "code",
   "execution_count": 10,
   "metadata": {},
   "outputs": [
    {
     "name": "stderr",
     "output_type": "stream",
     "text": [
      "test_pixel_triangle (__main__.Evaluate) ... ok\n",
      "test_square_vector (__main__.Evaluate) ... ok\n",
      "\n",
      "----------------------------------------------------------------------\n",
      "Ran 2 tests in 0.002s\n",
      "\n",
      "OK\n"
     ]
    },
    {
     "name": "stdout",
     "output_type": "stream",
     "text": [
      "pass test\n",
      "pass test\n"
     ]
    },
    {
     "data": {
      "text/plain": [
       "<unittest.main.TestProgram at 0x2197f6379d0>"
      ]
     },
     "execution_count": 10,
     "metadata": {},
     "output_type": "execute_result"
    }
   ],
   "source": [
    "unittest.main(argv=['ignored', '-v'], exit=False)"
   ]
  }
 ],
 "metadata": {
  "interpreter": {
   "hash": "20ac7aad763b689ebdaff2f53a3073c7ed55a0f51860968fbf5603f714378c4e"
  },
  "kernelspec": {
   "display_name": "Python 3.10.4 64-bit",
   "language": "python",
   "name": "python3"
  },
  "language_info": {
   "codemirror_mode": {
    "name": "ipython",
    "version": 3
   },
   "file_extension": ".py",
   "mimetype": "text/x-python",
   "name": "python",
   "nbconvert_exporter": "python",
   "pygments_lexer": "ipython3",
   "version": "3.10.4"
  },
  "orig_nbformat": 4
 },
 "nbformat": 4,
 "nbformat_minor": 2
}
