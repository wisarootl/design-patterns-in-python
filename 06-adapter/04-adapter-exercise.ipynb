{
 "cells": [
  {
   "cell_type": "markdown",
   "metadata": {},
   "source": [
    "# Adapter Coding Exercise"
   ]
  },
  {
   "cell_type": "markdown",
   "metadata": {},
   "source": [
    "You are given a class called `Square` and a function `calculate_area()` which calculates the area of a given rectangle.\n",
    "\n",
    "In order to use Square in calculate_area, instead of augmenting it with width/height members, please implement the `SquareToRectangleAdapter` class. This adapter takes a square and adapts it in such a way that it can be used as an argument to `calculate_area()`."
   ]
  },
  {
   "cell_type": "code",
   "execution_count": 1,
   "metadata": {},
   "outputs": [],
   "source": [
    "# Adapter Coding Exercise"
   ]
  },
  {
   "cell_type": "code",
   "execution_count": 2,
   "metadata": {},
   "outputs": [],
   "source": [
    "class Square:\n",
    "    def __init__(self, side=0):\n",
    "        self.side = side\n",
    "\n",
    "def calculate_area(rc):\n",
    "    return rc.width * rc.height\n",
    "\n",
    "class SquareToRectangleAdapter:\n",
    "    def __init__(self, square):\n",
    "        self.square = square\n",
    "\n",
    "    @property\n",
    "    def width(self):\n",
    "        return self.square.side\n",
    "\n",
    "    @property\n",
    "    def height(self):\n",
    "        return self.square.side"
   ]
  },
  {
   "cell_type": "code",
   "execution_count": 3,
   "metadata": {},
   "outputs": [
    {
     "name": "stdout",
     "output_type": "stream",
     "text": [
      "121\n",
      "100\n"
     ]
    }
   ],
   "source": [
    "sq = Square(11)\n",
    "adapter = SquareToRectangleAdapter(sq)\n",
    "print(calculate_area(adapter))\n",
    "sq.side = 10\n",
    "print(calculate_area(adapter))"
   ]
  },
  {
   "cell_type": "code",
   "execution_count": 7,
   "metadata": {},
   "outputs": [],
   "source": [
    "from unittest import TestCase, main\n",
    "class Evaluate(TestCase):\n",
    "    def test_exercise(self):\n",
    "        sq = Square(11)\n",
    "        adapter = SquareToRectangleAdapter(sq)\n",
    "        self.assertEqual(121, calculate_area(adapter))\n",
    "        sq.side = 10\n",
    "        self.assertEqual(100, calculate_area(adapter))\n",
    "        print('pass test')\n"
   ]
  },
  {
   "cell_type": "code",
   "execution_count": 14,
   "metadata": {},
   "outputs": [
    {
     "name": "stderr",
     "output_type": "stream",
     "text": [
      "test_exercise (__main__.Evaluate) ... ok\n",
      "\n",
      "----------------------------------------------------------------------\n",
      "Ran 1 test in 0.001s\n",
      "\n",
      "OK\n"
     ]
    },
    {
     "name": "stdout",
     "output_type": "stream",
     "text": [
      "pass test\n",
      "=========\n",
      "unittest.main(argv=['ignored', '-v'], exit=False)\n",
      "=========\n",
      "pass test\n"
     ]
    },
    {
     "data": {
      "text/plain": [
       "<unittest.main.TestProgram at 0x259f83407f0>"
      ]
     },
     "execution_count": 14,
     "metadata": {},
     "output_type": "execute_result"
    }
   ],
   "source": [
    "Evaluate().test_exercise()\n",
    "# equivalent to\n",
    "print(\"=========\\nunittest.main(argv=['ignored', '-v'], exit=False)\\n=========\")\n",
    "main(argv=['ignored', '-v'], exit=False)"
   ]
  }
 ],
 "metadata": {
  "interpreter": {
   "hash": "20ac7aad763b689ebdaff2f53a3073c7ed55a0f51860968fbf5603f714378c4e"
  },
  "kernelspec": {
   "display_name": "Python 3.10.4 64-bit",
   "language": "python",
   "name": "python3"
  },
  "language_info": {
   "codemirror_mode": {
    "name": "ipython",
    "version": 3
   },
   "file_extension": ".py",
   "mimetype": "text/x-python",
   "name": "python",
   "nbconvert_exporter": "python",
   "pygments_lexer": "ipython3",
   "version": "3.10.4"
  },
  "orig_nbformat": 4
 },
 "nbformat": 4,
 "nbformat_minor": 2
}
