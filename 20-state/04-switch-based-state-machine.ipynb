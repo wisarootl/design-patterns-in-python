{
 "cells": [
  {
   "cell_type": "code",
   "execution_count": 1,
   "metadata": {},
   "outputs": [],
   "source": [
    "from enum import Enum, auto\n",
    "\n",
    "\n",
    "class State(Enum):\n",
    "    LOCKED = auto()\n",
    "    FAILED = auto()\n",
    "    UNLOCKED = auto()"
   ]
  },
  {
   "cell_type": "code",
   "execution_count": 2,
   "metadata": {},
   "outputs": [
    {
     "name": "stdout",
     "output_type": "stream",
     "text": [
      "\n",
      "FAILED\n",
      "\n",
      "FAILED\n",
      "\n",
      "FAILED\n",
      "\n",
      "FAILED\n",
      "\n",
      "FAILED\n",
      "\n",
      "UNLOCKED\n"
     ]
    }
   ],
   "source": [
    "code = '1234'\n",
    "state = State.LOCKED\n",
    "entry = ''\n",
    "\n",
    "while True:\n",
    "    if state == State.LOCKED:\n",
    "        entry += input(entry)\n",
    "\n",
    "        if entry == code:\n",
    "            state = State.UNLOCKED\n",
    "\n",
    "        if not code.startswith(entry):\n",
    "            # the code is wrong\n",
    "            state = State.FAILED\n",
    "    elif state == State.FAILED:\n",
    "        print('\\nFAILED')\n",
    "        entry = ''\n",
    "        state = State.LOCKED\n",
    "    elif state == State.UNLOCKED:\n",
    "        print('\\nUNLOCKED')\n",
    "        break"
   ]
  }
 ],
 "metadata": {
  "interpreter": {
   "hash": "20ac7aad763b689ebdaff2f53a3073c7ed55a0f51860968fbf5603f714378c4e"
  },
  "kernelspec": {
   "display_name": "Python 3.10.4 64-bit",
   "language": "python",
   "name": "python3"
  },
  "language_info": {
   "codemirror_mode": {
    "name": "ipython",
    "version": 3
   },
   "file_extension": ".py",
   "mimetype": "text/x-python",
   "name": "python",
   "nbconvert_exporter": "python",
   "pygments_lexer": "ipython3",
   "version": "3.10.4"
  },
  "orig_nbformat": 4
 },
 "nbformat": 4,
 "nbformat_minor": 2
}
