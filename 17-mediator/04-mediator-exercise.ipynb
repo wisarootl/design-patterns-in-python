{
 "cells": [
  {
   "cell_type": "markdown",
   "metadata": {},
   "source": [
    "# Mediator Coding Exercise"
   ]
  },
  {
   "cell_type": "markdown",
   "metadata": {},
   "source": [
    "Our system has any number of instances of `Participant` classes. Each Participant has a `value` integer attribute, initially zero.\n",
    "\n",
    "A participant can `say()` a particular value, which is broadcast to all other participants. At this point in time, every other participant is obliged to increase their value  by the `value` being broadcast.\n",
    "\n",
    "Example:\n",
    "- Two participants start with values 0 and 0 respectively\n",
    "- Participant 1 broadcasts the value 3. We now have Participant 1 value = 0, Participant 2 value = 3\n",
    "- Participant 2 broadcasts the value 2. We now have Participant 1 value = 2, Participant 2 value = 3"
   ]
  },
  {
   "cell_type": "code",
   "execution_count": 1,
   "metadata": {},
   "outputs": [],
   "source": [
    "import unittest"
   ]
  },
  {
   "cell_type": "code",
   "execution_count": 2,
   "metadata": {},
   "outputs": [],
   "source": [
    "class Participant:\n",
    "    def __init__(self, mediator):\n",
    "        self.value = 0\n",
    "        self.mediator = mediator\n",
    "        mediator.alert.append(self.mediator_alert)\n",
    "\n",
    "    def mediator_alert(self, sender, value):\n",
    "        if sender != self:\n",
    "            self.value += value\n",
    "\n",
    "    def say(self, value):\n",
    "        self.mediator.broadcast(self, value)\n"
   ]
  },
  {
   "cell_type": "code",
   "execution_count": 1,
   "metadata": {},
   "outputs": [],
   "source": [
    "# Event()(*args) will call dunder method __call__\n",
    "\n",
    "class Event(list):\n",
    "    def __call__(self, *args, **kwargs):\n",
    "        print('test')\n",
    "        for item in self:\n",
    "            item(*args, **kwargs)\n"
   ]
  },
  {
   "cell_type": "code",
   "execution_count": 4,
   "metadata": {},
   "outputs": [],
   "source": [
    "class Mediator:\n",
    "    def __init__(self):\n",
    "        self.alert = Event()\n",
    "\n",
    "    def broadcast(self, sender, value):\n",
    "        self.alert(sender, value)"
   ]
  },
  {
   "cell_type": "code",
   "execution_count": 5,
   "metadata": {},
   "outputs": [
    {
     "name": "stdout",
     "output_type": "stream",
     "text": [
      "0 0\n",
      "0 2\n",
      "4 2\n"
     ]
    }
   ],
   "source": [
    "m = Mediator()\n",
    "p1 = Participant(m)\n",
    "p2 = Participant(m)\n",
    "print(p1.value, p2.value) # 0 0\n",
    "p1.say(2)\n",
    "print(p1.value, p2.value) # 0 2\n",
    "p2.say(4)\n",
    "print(p1.value, p2.value) # 4 2"
   ]
  },
  {
   "cell_type": "code",
   "execution_count": 6,
   "metadata": {},
   "outputs": [
    {
     "name": "stderr",
     "output_type": "stream",
     "text": [
      "test (__main__.FirstTestSuite) ... ok\n",
      "\n",
      "----------------------------------------------------------------------\n",
      "Ran 1 test in 0.005s\n",
      "\n",
      "OK\n"
     ]
    },
    {
     "data": {
      "text/plain": [
       "<unittest.main.TestProgram at 0x1d102547c70>"
      ]
     },
     "execution_count": 6,
     "metadata": {},
     "output_type": "execute_result"
    }
   ],
   "source": [
    "\n",
    "class FirstTestSuite(unittest.TestCase):\n",
    "    def test(self):\n",
    "        m = Mediator()\n",
    "        p1 = Participant(m)\n",
    "        p2 = Participant(m)\n",
    "\n",
    "        self.assertEqual(0, p1.value)\n",
    "        self.assertEqual(0, p2.value)\n",
    "\n",
    "        p1.say(2)\n",
    "\n",
    "        self.assertEqual(0, p1.value)\n",
    "        self.assertEqual(2, p2.value)\n",
    "\n",
    "        p2.say(4)\n",
    "\n",
    "        self.assertEqual(4, p1.value)\n",
    "        self.assertEqual(2, p2.value)\n",
    "\n",
    "\n",
    "unittest.main(argv=['ignored', '-v'], exit=False)"
   ]
  }
 ],
 "metadata": {
  "interpreter": {
   "hash": "20ac7aad763b689ebdaff2f53a3073c7ed55a0f51860968fbf5603f714378c4e"
  },
  "kernelspec": {
   "display_name": "Python 3.10.4 64-bit",
   "language": "python",
   "name": "python3"
  },
  "language_info": {
   "codemirror_mode": {
    "name": "ipython",
    "version": 3
   },
   "file_extension": ".py",
   "mimetype": "text/x-python",
   "name": "python",
   "nbconvert_exporter": "python",
   "pygments_lexer": "ipython3",
   "version": "3.10.4"
  },
  "orig_nbformat": 4
 },
 "nbformat": 4,
 "nbformat_minor": 2
}
