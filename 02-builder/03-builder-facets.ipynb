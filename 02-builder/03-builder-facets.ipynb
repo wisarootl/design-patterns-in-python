{
 "cells": [
  {
   "cell_type": "code",
   "execution_count": 1,
   "metadata": {},
   "outputs": [],
   "source": [
    "class Person:\n",
    "    def __init__(self):\n",
    "        print('Creating an instance of Person')\n",
    "        # address\n",
    "        self.street_address = None\n",
    "        self.postcode = None\n",
    "        self.city = None\n",
    "        # employment info\n",
    "        self.company_name = None\n",
    "        self.position = None\n",
    "        self.annual_income = None\n",
    "\n",
    "    def __str__(self) -> str:\n",
    "        return f'Address: {self.street_address}, {self.postcode}, {self.city}\\n' +\\\n",
    "            f'Employed at {self.company_name} as a {self.postcode} earning {self.annual_income}'\n",
    "\n",
    "    def __repr__(self):\n",
    "        # return self.__str__()\n",
    "        # equivalents to\n",
    "        return str(self)\n",
    "\n"
   ]
  },
  {
   "cell_type": "code",
   "execution_count": 2,
   "metadata": {},
   "outputs": [
    {
     "name": "stdout",
     "output_type": "stream",
     "text": [
      "Creating an instance of Person\n",
      "Address: None, None, None\n",
      "Employed at None as a None earning None\n"
     ]
    }
   ],
   "source": [
    "p = Person()\n",
    "print(p)"
   ]
  },
  {
   "cell_type": "code",
   "execution_count": 3,
   "metadata": {},
   "outputs": [
    {
     "name": "stdout",
     "output_type": "stream",
     "text": [
      "Address: None, None, None\n",
      "Employed at None as a None earning None\n"
     ]
    }
   ],
   "source": [
    "print(repr(p))"
   ]
  },
  {
   "cell_type": "code",
   "execution_count": 4,
   "metadata": {},
   "outputs": [],
   "source": [
    "# base class for builder\n",
    "\n",
    "class PersonBuilder:  # facade\n",
    "    def __init__(self, person=None):\n",
    "        if person is None:\n",
    "            self.person = Person()\n",
    "        else:\n",
    "            self.person = person\n",
    "\n",
    "    @property\n",
    "    def lives(self):\n",
    "        return PersonAddressBuilder(self.person)\n",
    "\n",
    "    @property\n",
    "    def works(self):\n",
    "        return PersonJobBuilder(self.person)\n",
    "\n",
    "    def build(self):\n",
    "        return self.person\n"
   ]
  },
  {
   "cell_type": "code",
   "execution_count": 5,
   "metadata": {},
   "outputs": [],
   "source": [
    "class PersonJobBuilder(PersonBuilder):\n",
    "    def __init__(self, person):\n",
    "        super().__init__(person)\n",
    "\n",
    "    def at(self, company_name):\n",
    "        self.person.company_name = company_name\n",
    "        return self\n",
    "\n",
    "    def as_a(self, position):\n",
    "        self.person.position = position\n",
    "        return self\n",
    "\n",
    "    def earning(self, annual_income):\n",
    "        self.person.annual_income = annual_income\n",
    "        return self"
   ]
  },
  {
   "cell_type": "code",
   "execution_count": 6,
   "metadata": {},
   "outputs": [],
   "source": [
    "class PersonAddressBuilder(PersonBuilder):\n",
    "    def __init__(self, person):\n",
    "        super().__init__(person)\n",
    "\n",
    "    def at(self, street_address):\n",
    "        self.person.street_address = street_address\n",
    "        return self\n",
    "\n",
    "    def with_postcode(self, postcode):\n",
    "        self.person.postcode = postcode\n",
    "        return self\n",
    "\n",
    "    def in_city(self, city):\n",
    "        self.person.city = city\n",
    "        return self"
   ]
  },
  {
   "cell_type": "code",
   "execution_count": 7,
   "metadata": {},
   "outputs": [
    {
     "name": "stdout",
     "output_type": "stream",
     "text": [
      "Creating an instance of Person\n",
      "Address: 123 London Road, SW12BC, London\n",
      "Employed at Fabrikam as a SW12BC earning 123000\n"
     ]
    }
   ],
   "source": [
    "pb = PersonBuilder()\n",
    "p = pb\\\n",
    "    .lives\\\n",
    "        .at('123 London Road')\\\n",
    "        .in_city('London')\\\n",
    "        .with_postcode('SW12BC')\\\n",
    "    .works\\\n",
    "        .at('Fabrikam')\\\n",
    "        .as_a('Engineer')\\\n",
    "        .earning(123000)\\\n",
    "    .build()\n",
    "print(p)"
   ]
  },
  {
   "cell_type": "code",
   "execution_count": 8,
   "metadata": {},
   "outputs": [
    {
     "name": "stdout",
     "output_type": "stream",
     "text": [
      "Creating an instance of Person\n",
      "Address: None, None, None\n",
      "Employed at None as a None earning None\n"
     ]
    }
   ],
   "source": [
    "person2 = PersonBuilder().build()\n",
    "print(person2)"
   ]
  }
 ],
 "metadata": {
  "interpreter": {
   "hash": "20ac7aad763b689ebdaff2f53a3073c7ed55a0f51860968fbf5603f714378c4e"
  },
  "kernelspec": {
   "display_name": "Python 3.10.4 64-bit",
   "language": "python",
   "name": "python3"
  },
  "language_info": {
   "codemirror_mode": {
    "name": "ipython",
    "version": 3
   },
   "file_extension": ".py",
   "mimetype": "text/x-python",
   "name": "python",
   "nbconvert_exporter": "python",
   "pygments_lexer": "ipython3",
   "version": "3.10.4"
  },
  "orig_nbformat": 4
 },
 "nbformat": 4,
 "nbformat_minor": 2
}
