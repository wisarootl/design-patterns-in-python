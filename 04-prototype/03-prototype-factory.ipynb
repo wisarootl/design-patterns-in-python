{
 "cells": [
  {
   "cell_type": "code",
   "execution_count": 1,
   "metadata": {},
   "outputs": [],
   "source": [
    "import copy"
   ]
  },
  {
   "cell_type": "code",
   "execution_count": 2,
   "metadata": {},
   "outputs": [],
   "source": [
    "class Address:\n",
    "    def __init__(self, street_address, suite, city):\n",
    "        self.suite = suite\n",
    "        self.city = city\n",
    "        self.street_address = street_address\n",
    "\n",
    "    def __str__(self):\n",
    "        return f'{self.street_address}, Suite #{self.suite}, {self.city}'"
   ]
  },
  {
   "cell_type": "code",
   "execution_count": 3,
   "metadata": {},
   "outputs": [],
   "source": [
    "class Employee:\n",
    "    def __init__(self, name, address):\n",
    "        self.address = address\n",
    "        self.name = name\n",
    "\n",
    "    def __str__(self):\n",
    "        return f'{self.name} works at {self.address}'"
   ]
  },
  {
   "cell_type": "code",
   "execution_count": 4,
   "metadata": {},
   "outputs": [],
   "source": [
    "class EmployeeFactory:\n",
    "    # prototype\n",
    "    main_office_employee = Employee(\"\", Address(\"123 East Dr\", 0, \"London\"))\n",
    "    aux_office_employee = Employee(\"\", Address(\"123B East Dr\", 0, \"London\"))\n",
    "\n",
    "    @staticmethod\n",
    "    def __new_employee(proto, name, suite):\n",
    "        result = copy.deepcopy(proto)\n",
    "        result.name = name\n",
    "        result.address.suite = suite\n",
    "        return result\n",
    "\n",
    "    @staticmethod\n",
    "    def new_main_office_employee(name, suite):\n",
    "        return EmployeeFactory.__new_employee(\n",
    "            EmployeeFactory.main_office_employee,\n",
    "            name, suite\n",
    "        )\n",
    "\n",
    "    @staticmethod\n",
    "    def new_aux_office_employee(name, suite):\n",
    "        return EmployeeFactory.__new_employee(\n",
    "            EmployeeFactory.aux_office_employee,\n",
    "            name, suite\n",
    "        )"
   ]
  },
  {
   "cell_type": "code",
   "execution_count": 9,
   "metadata": {},
   "outputs": [],
   "source": [
    "john = EmployeeFactory.new_main_office_employee(\"John\", 101)\n",
    "jane = EmployeeFactory.new_aux_office_employee(\"Jane\", 500)"
   ]
  },
  {
   "cell_type": "code",
   "execution_count": 12,
   "metadata": {},
   "outputs": [
    {
     "name": "stdout",
     "output_type": "stream",
     "text": [
      "John works at 123 East Dr, Suite #101, London\n",
      "Jane works at 123B East Dr, Suite #500, London\n"
     ]
    }
   ],
   "source": [
    "print(john)\n",
    "print(jane)"
   ]
  }
 ],
 "metadata": {
  "interpreter": {
   "hash": "20ac7aad763b689ebdaff2f53a3073c7ed55a0f51860968fbf5603f714378c4e"
  },
  "kernelspec": {
   "display_name": "Python 3.10.4 64-bit",
   "language": "python",
   "name": "python3"
  },
  "language_info": {
   "codemirror_mode": {
    "name": "ipython",
    "version": 3
   },
   "file_extension": ".py",
   "mimetype": "text/x-python",
   "name": "python",
   "nbconvert_exporter": "python",
   "pygments_lexer": "ipython3",
   "version": "3.10.4"
  },
  "orig_nbformat": 4
 },
 "nbformat": 4,
 "nbformat_minor": 2
}
