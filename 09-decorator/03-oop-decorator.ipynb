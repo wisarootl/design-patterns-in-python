{
 "cells": [
  {
   "cell_type": "code",
   "execution_count": 1,
   "metadata": {},
   "outputs": [],
   "source": [
    "from abc import ABC\n",
    "\n",
    "\n",
    "class Shape(ABC):\n",
    "    def __str__(self):\n",
    "        return ''\n",
    "\n",
    "\n",
    "class Circle(Shape):\n",
    "    def __init__(self, radius=0.0):\n",
    "        self.radius = radius\n",
    "\n",
    "    def resize(self, factor):\n",
    "        self.radius *= factor\n",
    "\n",
    "    def __str__(self):\n",
    "        return f'A circle of radius {self.radius}'\n",
    "\n",
    "class Square(Shape):\n",
    "    def __init__(self, side):\n",
    "        self.side = side\n",
    "\n",
    "    def __str__(self):\n",
    "        return f'A square with side {self.side}'"
   ]
  },
  {
   "cell_type": "code",
   "execution_count": 4,
   "metadata": {},
   "outputs": [],
   "source": [
    "class ColoredShape(Shape):\n",
    "    def __init__(self, shape, color):\n",
    "        if isinstance(shape, ColoredShape):\n",
    "            raise Exception('Cannot apply ColoredDecorator twice')\n",
    "        self.shape = shape\n",
    "        self.color = color\n",
    "\n",
    "    def __str__(self):\n",
    "        return f'{self.shape} has the color {self.color}'"
   ]
  },
  {
   "cell_type": "code",
   "execution_count": 6,
   "metadata": {},
   "outputs": [],
   "source": [
    "class TransparentShape(Shape):\n",
    "    def __init__(self, shape, transparency):\n",
    "        self.shape = shape\n",
    "        self.transparency = transparency\n",
    "\n",
    "    def __str__(self):\n",
    "        return f'{self.shape} has {self.transparency * 100.0}% transparency'"
   ]
  },
  {
   "cell_type": "code",
   "execution_count": 5,
   "metadata": {},
   "outputs": [
    {
     "name": "stdout",
     "output_type": "stream",
     "text": [
      "A circle of radius 2\n",
      "A circle of radius 2 has the color red\n"
     ]
    }
   ],
   "source": [
    "circle = Circle(2)\n",
    "print(circle)\n",
    "\n",
    "red_circle = ColoredShape(circle, \"red\")\n",
    "print(red_circle)"
   ]
  },
  {
   "cell_type": "code",
   "execution_count": 8,
   "metadata": {},
   "outputs": [
    {
     "name": "stdout",
     "output_type": "stream",
     "text": [
      "A circle of radius 2 has the color red has 50.0% transparency\n"
     ]
    }
   ],
   "source": [
    "red_half_transparent_square = TransparentShape(red_circle, 0.5)\n",
    "print(red_half_transparent_square)"
   ]
  },
  {
   "cell_type": "code",
   "execution_count": 10,
   "metadata": {},
   "outputs": [
    {
     "name": "stdout",
     "output_type": "stream",
     "text": [
      "Error! Cannot apply ColoredDecorator twice\n"
     ]
    }
   ],
   "source": [
    "# nothing prevents double application\n",
    "try:\n",
    "  mixed = ColoredShape(ColoredShape(Circle(3), 'red'), 'blue')\n",
    "  print(mixed)\n",
    "except:\n",
    "  print('Error! Cannot apply ColoredDecorator twice')"
   ]
  },
  {
   "cell_type": "code",
   "execution_count": 11,
   "metadata": {},
   "outputs": [
    {
     "name": "stdout",
     "output_type": "stream",
     "text": [
      "'ColoredShape' object has no attribute 'resize'\n"
     ]
    }
   ],
   "source": [
    "# ColoredShape doesn't have resize()\n",
    "# ColoredShape is a shape not circle\n",
    "try:\n",
    "  red_circle.resize(3)\n",
    "except AttributeError:\n",
    "  print(\"'ColoredShape' object has no attribute 'resize'\")"
   ]
  }
 ],
 "metadata": {
  "interpreter": {
   "hash": "20ac7aad763b689ebdaff2f53a3073c7ed55a0f51860968fbf5603f714378c4e"
  },
  "kernelspec": {
   "display_name": "Python 3.10.4 64-bit",
   "language": "python",
   "name": "python3"
  },
  "language_info": {
   "codemirror_mode": {
    "name": "ipython",
    "version": 3
   },
   "file_extension": ".py",
   "mimetype": "text/x-python",
   "name": "python",
   "nbconvert_exporter": "python",
   "pygments_lexer": "ipython3",
   "version": "3.10.4"
  },
  "orig_nbformat": 4
 },
 "nbformat": 4,
 "nbformat_minor": 2
}
