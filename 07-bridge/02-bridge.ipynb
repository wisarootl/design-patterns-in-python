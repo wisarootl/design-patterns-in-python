{
 "cells": [
  {
   "cell_type": "code",
   "execution_count": 1,
   "metadata": {},
   "outputs": [],
   "source": [
    "# Circles and squares\n",
    "# Each can be rendered in vector or raster form\n",
    "\n",
    "class Renderer():\n",
    "    def render_circle(self, radius):\n",
    "        pass\n",
    "\n",
    "class VectorRenderer(Renderer):\n",
    "    def render_circle(self, radius):\n",
    "        print(f'Drawing a circle of radius {radius}')\n",
    "\n",
    "class RasterRenderer(Renderer):\n",
    "    def render_circle(self, radius):\n",
    "        print(f'Drawing pixels for circle of radius {radius}')"
   ]
  },
  {
   "cell_type": "code",
   "execution_count": 2,
   "metadata": {},
   "outputs": [],
   "source": [
    "class Shape:\n",
    "    def __init__(self, renderer):\n",
    "        self.renderer = renderer\n",
    "\n",
    "    def draw(self): pass\n",
    "    def resize(self, factor): pass\n",
    "\n",
    "class Circle(Shape):\n",
    "    def __init__(self, renderer, radius):\n",
    "        super().__init__(renderer)\n",
    "        self.radius = radius\n",
    "    \n",
    "    # this is bridge\n",
    "    # connect to different renderer\n",
    "    def draw(self):\n",
    "        self.renderer.render_circle(self.radius)\n",
    "\n",
    "    def resize(self, factor):\n",
    "        self.radius *= factor"
   ]
  },
  {
   "cell_type": "code",
   "execution_count": 3,
   "metadata": {},
   "outputs": [
    {
     "name": "stdout",
     "output_type": "stream",
     "text": [
      "Drawing a circle of radius 5\n",
      "Drawing a circle of radius 10\n"
     ]
    }
   ],
   "source": [
    "raster = RasterRenderer()\n",
    "vector = VectorRenderer()\n",
    "circle = Circle(vector, 5)\n",
    "circle.draw()\n",
    "circle.resize(2)\n",
    "circle.draw()"
   ]
  }
 ],
 "metadata": {
  "interpreter": {
   "hash": "20ac7aad763b689ebdaff2f53a3073c7ed55a0f51860968fbf5603f714378c4e"
  },
  "kernelspec": {
   "display_name": "Python 3.10.4 64-bit",
   "language": "python",
   "name": "python3"
  },
  "language_info": {
   "codemirror_mode": {
    "name": "ipython",
    "version": 3
   },
   "file_extension": ".py",
   "mimetype": "text/x-python",
   "name": "python",
   "nbconvert_exporter": "python",
   "pygments_lexer": "ipython3",
   "version": "3.10.4"
  },
  "orig_nbformat": 4
 },
 "nbformat": 4,
 "nbformat_minor": 2
}
