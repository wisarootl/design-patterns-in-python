{
 "cells": [
  {
   "cell_type": "markdown",
   "metadata": {},
   "source": [
    "# Strategy Coding Exercise"
   ]
  },
  {
   "cell_type": "markdown",
   "metadata": {},
   "source": [
    "Consider the quadratic equation and its canonical solution: \n",
    "\n",
    "$$\n",
    "ax^{2}+bx+c=0\n",
    "$$\n",
    "$$\n",
    "x=\\frac{-b\\pm \\sqrt{b^{2}-4ac}}{2a}\n",
    "$$\n",
    "\n",
    "The part $b^{2}-4ac$ is called the discriminant. Suppose we want to provide an API with two different strategies for calculating the discriminant:\n",
    "\n",
    "1. In `OrdinaryDiscriminantStrategy`, If the discriminant is negative, we return it as-is. This is OK, since our main API returns `Complex` numbers anyway.\n",
    "\n",
    "2. In `RealDiscriminantStrategy`, if the discriminant is negative, the return value is NaN (not a number). NaN propagates throughout the calculation, so the equation solver gives two NaN values. In Python, you make such a number with `float('nan')`.\n",
    "\n",
    "Please implement both of these strategies as well as the equation solver itself. With regards to plus-minus in the formula, please return the + result as the first element and - as the second. Note that the `solve()` method is expected to return complex values."
   ]
  },
  {
   "cell_type": "code",
   "execution_count": 12,
   "metadata": {},
   "outputs": [],
   "source": [
    "import math\n",
    "import cmath\n",
    "from unittest import TestCase, main\n",
    "from abc import ABC"
   ]
  },
  {
   "cell_type": "code",
   "execution_count": 13,
   "metadata": {},
   "outputs": [],
   "source": [
    "# interface for low-level (strategies)\n",
    "class DiscriminantStrategy(ABC):\n",
    "    def calculate_discriminant(self, a, b, c):\n",
    "        pass\n",
    "\n",
    "\n",
    "class OrdinaryDiscriminantStrategy(DiscriminantStrategy):\n",
    "    def calculate_discriminant(self, a, b, c):\n",
    "        return b*b - 4*a*c\n",
    "\n",
    "\n",
    "class RealDiscriminantStrategy(DiscriminantStrategy):\n",
    "    def calculate_discriminant(self, a, b, c):\n",
    "        result = b*b-4*a*c\n",
    "        return result if result >= 0 else float('nan')\n",
    "\n",
    "\n",
    "class QuadraticEquationSolver:\n",
    "    def __init__(self, strategy):\n",
    "        self.strategy = strategy\n",
    "\n",
    "    def solve(self, a, b, c):\n",
    "        \"\"\" Returns a pair of complex (!) values \"\"\"\n",
    "        disc = complex(self.strategy.calculate_discriminant(a, b, c), 0)\n",
    "        root_disc = cmath.sqrt(disc)\n",
    "        return (\n",
    "            (-b + root_disc) / (2 * a),\n",
    "            (-b - root_disc) / (2 * a)\n",
    "        )"
   ]
  },
  {
   "cell_type": "code",
   "execution_count": 14,
   "metadata": {},
   "outputs": [
    {
     "name": "stdout",
     "output_type": "stream",
     "text": [
      "((-2+0j), (-8+0j))\n"
     ]
    }
   ],
   "source": [
    "strategy = OrdinaryDiscriminantStrategy()\n",
    "solver = QuadraticEquationSolver(strategy)\n",
    "results = solver.solve(1, 10, 16)\n",
    "\n",
    "# ((-2+0j), (-8+0j))\n",
    "print(results)"
   ]
  },
  {
   "cell_type": "code",
   "execution_count": 15,
   "metadata": {},
   "outputs": [
    {
     "name": "stdout",
     "output_type": "stream",
     "text": [
      "((-2+0j), (-8+0j))\n"
     ]
    }
   ],
   "source": [
    "strategy = RealDiscriminantStrategy()\n",
    "solver = QuadraticEquationSolver(strategy)\n",
    "results = solver.solve(1, 10, 16)\n",
    "\n",
    "# ((-2+0j), (-8+0j))\n",
    "print(results)"
   ]
  },
  {
   "cell_type": "code",
   "execution_count": 16,
   "metadata": {},
   "outputs": [
    {
     "name": "stdout",
     "output_type": "stream",
     "text": [
      "((-2+1j), (-2-1j))\n"
     ]
    }
   ],
   "source": [
    "strategy = OrdinaryDiscriminantStrategy()\n",
    "solver = QuadraticEquationSolver(strategy)\n",
    "\n",
    "# ((-2+1j), (-2-1j))\n",
    "results = solver.solve(1, 4, 5)\n",
    "print(results)"
   ]
  },
  {
   "cell_type": "code",
   "execution_count": 17,
   "metadata": {},
   "outputs": [
    {
     "name": "stdout",
     "output_type": "stream",
     "text": [
      "((nan+nanj), (nan+nanj))\n"
     ]
    }
   ],
   "source": [
    "strategy = RealDiscriminantStrategy()\n",
    "solver = QuadraticEquationSolver(strategy)\n",
    "results = solver.solve(1, 4, 5)\n",
    "\n",
    "# ((nan+nanj), (nan+nanj))\n",
    "print(results)"
   ]
  },
  {
   "cell_type": "code",
   "execution_count": 18,
   "metadata": {},
   "outputs": [
    {
     "name": "stderr",
     "output_type": "stream",
     "text": [
      "test_negative_ordinary (__main__.Evaluate) ... ok\n",
      "test_negative_real (__main__.Evaluate) ... ok\n",
      "test_positive_ordinary (__main__.Evaluate) ... ok\n",
      "test_positive_real (__main__.Evaluate) ... ok\n",
      "\n",
      "----------------------------------------------------------------------\n",
      "Ran 4 tests in 0.004s\n",
      "\n",
      "OK\n"
     ]
    },
    {
     "data": {
      "text/plain": [
       "<unittest.main.TestProgram at 0x2cafa700a30>"
      ]
     },
     "execution_count": 18,
     "metadata": {},
     "output_type": "execute_result"
    }
   ],
   "source": [
    "class Evaluate(TestCase):\n",
    "    def test_positive_ordinary(self):\n",
    "        strategy = OrdinaryDiscriminantStrategy()\n",
    "        solver = QuadraticEquationSolver(strategy)\n",
    "        results = solver.solve(1, 10, 16)\n",
    "        self.assertEqual(complex(-2, 0), results[0])\n",
    "        self.assertEqual(complex(-8, 0), results[1])\n",
    "\n",
    "    def test_positive_real(self):\n",
    "        strategy = RealDiscriminantStrategy()\n",
    "        solver = QuadraticEquationSolver(strategy)\n",
    "        results = solver.solve(1, 10, 16)\n",
    "        self.assertEqual(complex(-2, 0), results[0])\n",
    "        self.assertEqual(complex(-8, 0), results[1])\n",
    "\n",
    "    def test_negative_ordinary(self):\n",
    "        strategy = OrdinaryDiscriminantStrategy()\n",
    "        solver = QuadraticEquationSolver(strategy)\n",
    "        results = solver.solve(1, 4, 5)\n",
    "        self.assertEqual(complex(-2, 1), results[0])\n",
    "        self.assertEqual(complex(-2, -1), results[1])\n",
    "\n",
    "    def test_negative_real(self):\n",
    "        strategy = RealDiscriminantStrategy()\n",
    "        solver = QuadraticEquationSolver(strategy)\n",
    "        results = solver.solve(1, 4, 5)\n",
    "        self.assertTrue(math.isnan(results[0].real))\n",
    "        self.assertTrue(math.isnan(results[1].real))\n",
    "        self.assertTrue(math.isnan(results[0].imag))\n",
    "        self.assertTrue(math.isnan(results[1].imag))\n",
    "\n",
    "main(argv=['ignored', '-v'], exit=False)"
   ]
  }
 ],
 "metadata": {
  "interpreter": {
   "hash": "20ac7aad763b689ebdaff2f53a3073c7ed55a0f51860968fbf5603f714378c4e"
  },
  "kernelspec": {
   "display_name": "Python 3.10.4 64-bit",
   "language": "python",
   "name": "python3"
  },
  "language_info": {
   "codemirror_mode": {
    "name": "ipython",
    "version": 3
   },
   "file_extension": ".py",
   "mimetype": "text/x-python",
   "name": "python",
   "nbconvert_exporter": "python",
   "pygments_lexer": "ipython3",
   "version": "3.10.4"
  },
  "orig_nbformat": 4
 },
 "nbformat": 4,
 "nbformat_minor": 2
}
