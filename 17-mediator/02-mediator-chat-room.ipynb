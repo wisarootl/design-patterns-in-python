{
 "cells": [
  {
   "cell_type": "code",
   "execution_count": 1,
   "metadata": {},
   "outputs": [],
   "source": [
    "class Person:\n",
    "    def __init__(self, name):\n",
    "        self.name = name\n",
    "        self.chat_log = []\n",
    "        self.room = None\n",
    "\n",
    "    def receive(self, sender, message):\n",
    "        s = f'{sender}: {message}'\n",
    "        print(f'[{self.name}\\'s chat session] {s}')\n",
    "        self.chat_log.append(s)\n",
    "\n",
    "    def say(self, message):\n",
    "        self.room.broadcast(self.name, message)\n",
    "\n",
    "    def private_message(self, who, message):\n",
    "        self.room.message(self.name, who, message)"
   ]
  },
  {
   "cell_type": "code",
   "execution_count": 2,
   "metadata": {},
   "outputs": [],
   "source": [
    "# chat room is mediator\n",
    "class ChatRoom:\n",
    "    def __init__(self):\n",
    "        self.people = []\n",
    "\n",
    "    def broadcast(self, source, message):\n",
    "        for p in self.people:\n",
    "            if p.name != source:\n",
    "                p.receive(source, message)\n",
    "\n",
    "\n",
    "    def join(self, person):\n",
    "        join_msg = f'{person.name} joins the chat'\n",
    "        self.broadcast('room', join_msg)\n",
    "        person.room = self\n",
    "        self.people.append(person)\n",
    "\n",
    "\n",
    "    def message(self, source, destination, message):\n",
    "        for p in self.people:\n",
    "            if p.name == destination:\n",
    "                p.receive(source, message)"
   ]
  },
  {
   "cell_type": "code",
   "execution_count": 3,
   "metadata": {},
   "outputs": [
    {
     "name": "stdout",
     "output_type": "stream",
     "text": [
      "[John's chat session] room: Jane joins the chat\n",
      "[Jane's chat session] John: hi room\n",
      "[John's chat session] Jane: oh, hey john\n",
      "[John's chat session] room: Simon joins the chat\n",
      "[Jane's chat session] room: Simon joins the chat\n",
      "[John's chat session] Simon: hi everyone!\n",
      "[Jane's chat session] Simon: hi everyone!\n",
      "[Simon's chat session] Jane: glad you could join us!\n"
     ]
    }
   ],
   "source": [
    "room = ChatRoom()\n",
    "\n",
    "john = Person('John')\n",
    "jane = Person('Jane')\n",
    "\n",
    "room.join(john)\n",
    "room.join(jane)\n",
    "\n",
    "john.say('hi room')\n",
    "jane.say('oh, hey john')\n",
    "\n",
    "simon = Person('Simon')\n",
    "room.join(simon)\n",
    "simon.say('hi everyone!')\n",
    "\n",
    "jane.private_message('Simon', 'glad you could join us!')"
   ]
  }
 ],
 "metadata": {
  "interpreter": {
   "hash": "20ac7aad763b689ebdaff2f53a3073c7ed55a0f51860968fbf5603f714378c4e"
  },
  "kernelspec": {
   "display_name": "Python 3.10.4 64-bit",
   "language": "python",
   "name": "python3"
  },
  "language_info": {
   "codemirror_mode": {
    "name": "ipython",
    "version": 3
   },
   "file_extension": ".py",
   "mimetype": "text/x-python",
   "name": "python",
   "nbconvert_exporter": "python",
   "pygments_lexer": "ipython3",
   "version": "3.10.4"
  },
  "orig_nbformat": 4
 },
 "nbformat": 4,
 "nbformat_minor": 2
}
