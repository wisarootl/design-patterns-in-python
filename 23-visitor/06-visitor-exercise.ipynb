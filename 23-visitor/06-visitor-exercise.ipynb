{
 "cells": [
  {
   "cell_type": "markdown",
   "metadata": {},
   "source": [
    "# Visitor Coding Exercise"
   ]
  },
  {
   "cell_type": "markdown",
   "metadata": {},
   "source": [
    "You are asked to implement a visitor called `ExpressionPrinter` for printing different mathematical expressions. The range of expressions covers addition and multiplication - please put round brackets around addition operations (but not multiplication ones)! Also, please avoid any blank spaces in output.\n",
    "\n",
    "Example:\n",
    "\n",
    "- Input: `AdditionExpression(Value(2), Value(3))`\n",
    "\n",
    "- Output: `(2+3)`\n",
    "\n",
    "Here is the corresponding unit test:\n",
    "\n",
    "```python\n",
    "class Evaluate(unittest.TestCase):\n",
    "    def test_simple_addition(self):\n",
    "        simple = AdditionExpression(Value(2), Value(3))\n",
    "        ep = ExpressionPrinter()\n",
    "        ep.visit(simple)\n",
    "        self.assertEqual(\"(2+3)\", str(ep))\n",
    "```"
   ]
  },
  {
   "cell_type": "code",
   "execution_count": 1,
   "metadata": {},
   "outputs": [],
   "source": [
    "# taken from https://tavianator.com/the-visitor-pattern-in-python/\n",
    "import unittest\n",
    "from abc import ABC\n",
    "\n",
    "\n",
    "def _qualname(obj):\n",
    "    \"\"\"Get the fully-qualified name of an object (including module).\"\"\"\n",
    "    return obj.__module__ + '.' + obj.__qualname__\n",
    "\n",
    "\n",
    "def _declaring_class(obj):\n",
    "    \"\"\"Get the name of the class that declared an object.\"\"\"\n",
    "    name = _qualname(obj)\n",
    "    return name[:name.rfind('.')]\n",
    "\n",
    "\n",
    "# Stores the actual visitor methods\n",
    "_methods = {}\n",
    "\n",
    "\n",
    "# Delegating visitor implementation\n",
    "def _visitor_impl(self, arg):\n",
    "    \"\"\"Actual visitor method implementation.\"\"\"\n",
    "    key = (_qualname(type(self)), type(arg))\n",
    "    if not key in _methods:\n",
    "        raise Exception('Key % not found' % key)\n",
    "    method = _methods[key]\n",
    "    return method(self, arg)\n",
    "\n",
    "\n",
    "# The actual @visitor decorator\n",
    "def visitor(arg_type):\n",
    "    \"\"\"Decorator that creates a visitor method.\"\"\"\n",
    "\n",
    "    def decorator(fn):\n",
    "        declaring_class = _declaring_class(fn)\n",
    "        _methods[(declaring_class, arg_type)] = fn\n",
    "\n",
    "        # Replace all decorated methods with _visitor_impl\n",
    "        return _visitor_impl\n",
    "\n",
    "    return decorator\n",
    "\n",
    "# ↑↑↑ LIBRARY CODE ↑↑↑"
   ]
  },
  {
   "cell_type": "code",
   "execution_count": 2,
   "metadata": {},
   "outputs": [],
   "source": [
    "class Value:\n",
    "    def __init__(self, value):\n",
    "        self.value = value\n",
    "\n",
    "\n",
    "class AdditionExpression:\n",
    "    def __init__(self, left, right):\n",
    "        self.right = right\n",
    "        self.left = left\n",
    "\n",
    "\n",
    "class MultiplicationExpression:\n",
    "    def __init__(self, left, right):\n",
    "        self.right = right\n",
    "        self.left = left\n",
    "\n",
    "\n",
    "class ExpressionPrinter:\n",
    "    def __init__(self):\n",
    "        self.buffer = []\n",
    "\n",
    "    @visitor(Value)\n",
    "    def visit(self, e):\n",
    "        self.buffer.append(str(e.value))\n",
    "\n",
    "    @visitor(AdditionExpression)\n",
    "    def visit(self, e):\n",
    "        self.buffer.append('(')\n",
    "        self.visit(e.left)\n",
    "        self.buffer.append('+')\n",
    "        self.visit(e.right)\n",
    "        self.buffer.append(')')\n",
    "\n",
    "    @visitor(MultiplicationExpression)\n",
    "    def visit(self, e):\n",
    "        self.visit(e.left)\n",
    "        self.buffer.append('*')\n",
    "        self.visit(e.right)\n",
    "\n",
    "    def __str__(self):\n",
    "        return ''.join(self.buffer)"
   ]
  },
  {
   "cell_type": "code",
   "execution_count": 3,
   "metadata": {},
   "outputs": [
    {
     "name": "stdout",
     "output_type": "stream",
     "text": [
      "(2+3)\n"
     ]
    }
   ],
   "source": [
    "simple = AdditionExpression(Value(2), Value(3))\n",
    "ep = ExpressionPrinter()\n",
    "ep.visit(simple)\n",
    "print(ep) # (2+3)"
   ]
  },
  {
   "cell_type": "code",
   "execution_count": 4,
   "metadata": {},
   "outputs": [
    {
     "name": "stdout",
     "output_type": "stream",
     "text": [
      "(2+3)*4\n"
     ]
    }
   ],
   "source": [
    "expr = MultiplicationExpression(\n",
    "    AdditionExpression(Value(2), Value(3)),\n",
    "    Value(4)\n",
    ")\n",
    "ep = ExpressionPrinter()\n",
    "ep.visit(expr)\n",
    "print(ep) # (2+3)*4"
   ]
  },
  {
   "cell_type": "code",
   "execution_count": 5,
   "metadata": {},
   "outputs": [
    {
     "name": "stderr",
     "output_type": "stream",
     "text": [
      "test_product_of_addition_and_value (__main__.Evaluate) ... ok\n",
      "test_simple_addition (__main__.Evaluate) ... ok\n",
      "\n",
      "----------------------------------------------------------------------\n",
      "Ran 2 tests in 0.003s\n",
      "\n",
      "OK\n"
     ]
    },
    {
     "data": {
      "text/plain": [
       "<unittest.main.TestProgram at 0x15a79f41de0>"
      ]
     },
     "execution_count": 5,
     "metadata": {},
     "output_type": "execute_result"
    }
   ],
   "source": [
    "class Evaluate(unittest.TestCase):\n",
    "    def test_simple_addition(self):\n",
    "        simple = AdditionExpression(Value(2), Value(3))\n",
    "        ep = ExpressionPrinter()\n",
    "        ep.visit(simple)\n",
    "        self.assertEqual(\"(2+3)\", str(ep))\n",
    "\n",
    "    def test_product_of_addition_and_value(self):\n",
    "        expr = MultiplicationExpression(\n",
    "            AdditionExpression(Value(2), Value(3)),\n",
    "            Value(4)\n",
    "        )\n",
    "        ep = ExpressionPrinter()\n",
    "        ep.visit(expr)\n",
    "        self.assertEqual(\"(2+3)*4\", str(ep))\n",
    "\n",
    "unittest.main(argv=['ignored', '-v'], exit=False)"
   ]
  }
 ],
 "metadata": {
  "interpreter": {
   "hash": "20ac7aad763b689ebdaff2f53a3073c7ed55a0f51860968fbf5603f714378c4e"
  },
  "kernelspec": {
   "display_name": "Python 3.10.4 64-bit",
   "language": "python",
   "name": "python3"
  },
  "language_info": {
   "codemirror_mode": {
    "name": "ipython",
    "version": 3
   },
   "file_extension": ".py",
   "mimetype": "text/x-python",
   "name": "python",
   "nbconvert_exporter": "python",
   "pygments_lexer": "ipython3",
   "version": "3.10.4"
  },
  "orig_nbformat": 4
 },
 "nbformat": 4,
 "nbformat_minor": 2
}
