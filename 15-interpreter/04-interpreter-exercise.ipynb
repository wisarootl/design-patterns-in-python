{
 "cells": [
  {
   "cell_type": "markdown",
   "metadata": {},
   "source": [
    "# Interpreter Coding Exercise"
   ]
  },
  {
   "cell_type": "markdown",
   "metadata": {},
   "source": [
    "You are asked to write an expression processor for simple numeric expressions with the following constraints:\n",
    "\n",
    "Expressions use integral values (e.g., `'13'`), single-letter variables defined in Variables, as well as + and - operators only\n",
    "\n",
    "There is no need to support braces or any other operations\n",
    "\n",
    "If a variable is not found in `variables` (or if we encounter a variable with >1 letter, e.g. ab), the evaluator returns 0 (zero)\n",
    "\n",
    "In case of any parsing failure, evaluator returns 0"
   ]
  },
  {
   "cell_type": "markdown",
   "metadata": {},
   "source": [
    "Example:\n",
    "\n",
    "`calculate(\"1+2+3\")`  should return 6\n",
    "\n",
    "`calculate(\"1+2+xy\")`  should return 0\n",
    "\n",
    "`calculate(\"10-2-x\")`  when x=3 is in variables  should return 5"
   ]
  },
  {
   "cell_type": "code",
   "execution_count": 1,
   "metadata": {},
   "outputs": [],
   "source": [
    "import re\n",
    "import unittest\n",
    "from enum import Enum"
   ]
  },
  {
   "cell_type": "code",
   "execution_count": 2,
   "metadata": {},
   "outputs": [],
   "source": [
    "def megasplit(pattern, string):\n",
    "    splits = list((m.start(), m.end()) for m in re.finditer(pattern, string))\n",
    "    starts = [0] + [i[1] for i in splits]\n",
    "    ends = [i[0] for i in splits] + [len(string)]\n",
    "    return [string[start:end] for start, end in zip(starts, ends)]"
   ]
  },
  {
   "cell_type": "code",
   "execution_count": 3,
   "metadata": {},
   "outputs": [],
   "source": [
    "class ExpressionProcessor:\n",
    "    class NextOp(Enum):\n",
    "        PLUS = 1\n",
    "        MINUS = 2\n",
    "\n",
    "    def __init__(self):\n",
    "        self.variables = {}\n",
    "\n",
    "    def calculate(self, expression):\n",
    "        current = 0\n",
    "        next_op = None\n",
    "\n",
    "        # doesn't work in python 3.5\n",
    "        # parts = re.split('(?<=[+-])', expression)\n",
    "        parts = megasplit('(?<=[+-])', expression)\n",
    "\n",
    "        for part in parts:\n",
    "            noop = re.split('[\\+\\-]', part)\n",
    "            first = noop[0]\n",
    "            value = 0\n",
    "\n",
    "            try:\n",
    "                value = int(first)\n",
    "            except ValueError:\n",
    "                if len(first) == 1 and first[0] in self.variables:\n",
    "                    value = self.variables[first[0]]\n",
    "                else:\n",
    "                    return 0\n",
    "\n",
    "            if not next_op:\n",
    "                current = value\n",
    "            elif next_op == self.NextOp.PLUS:\n",
    "                current += value\n",
    "            elif next_op == self.NextOp.MINUS:\n",
    "                current -= value\n",
    "\n",
    "            if part.endswith('+'):\n",
    "                next_op = self.NextOp.PLUS\n",
    "            elif part.endswith('-'):\n",
    "                next_op = self.NextOp.MINUS\n",
    "\n",
    "        return current"
   ]
  },
  {
   "cell_type": "code",
   "execution_count": 4,
   "metadata": {},
   "outputs": [
    {
     "name": "stdout",
     "output_type": "stream",
     "text": [
      "1\n",
      "3\n",
      "6\n",
      "0\n"
     ]
    }
   ],
   "source": [
    "ep = ExpressionProcessor()\n",
    "ep.variables['x'] = 5\n",
    "\n",
    "print(ep.calculate('1'))\n",
    "assert ep.calculate('1') == 1\n",
    "\n",
    "print(ep.calculate('1+2'))\n",
    "assert ep.calculate('1+2') == 3\n",
    "\n",
    "print(ep.calculate('1+x'))\n",
    "assert ep.calculate('1+x') == 6\n",
    "\n",
    "print(ep.calculate('1+xy'))\n",
    "assert ep.calculate('1+xy') == 0"
   ]
  },
  {
   "cell_type": "code",
   "execution_count": 5,
   "metadata": {},
   "outputs": [
    {
     "name": "stderr",
     "output_type": "stream",
     "text": [
      "test_addition (__main__.FirstTestSuite) ... ok\n",
      "test_addition_with_variable (__main__.FirstTestSuite) ... ok\n",
      "test_failure (__main__.FirstTestSuite) ... ok\n",
      "test_simple (__main__.FirstTestSuite) ... ok\n",
      "\n",
      "----------------------------------------------------------------------\n",
      "Ran 4 tests in 0.005s\n",
      "\n",
      "OK\n"
     ]
    },
    {
     "data": {
      "text/plain": [
       "<unittest.main.TestProgram at 0x211328fed70>"
      ]
     },
     "execution_count": 5,
     "metadata": {},
     "output_type": "execute_result"
    }
   ],
   "source": [
    "class FirstTestSuite(unittest.TestCase):\n",
    "    @classmethod\n",
    "    def setUpClass(cls):\n",
    "        ep = ExpressionProcessor()\n",
    "        ep.variables['x'] = 5\n",
    "        cls.ep = ep\n",
    "\n",
    "    def test_simple(self):\n",
    "        self.assertEqual(1, self.ep.calculate('1'))\n",
    "\n",
    "    def test_addition(self):\n",
    "        self.assertEqual(3, self.ep.calculate('1+2'))\n",
    "\n",
    "    def test_addition_with_variable(self):\n",
    "        self.assertEqual(6, self.ep.calculate('1+x'))\n",
    "\n",
    "    def test_failure(self):\n",
    "        self.assertEqual(0, self.ep.calculate('1+xy'))\n",
    "\n",
    "unittest.main(argv=['ignored', '-v'], exit=False)"
   ]
  }
 ],
 "metadata": {
  "interpreter": {
   "hash": "20ac7aad763b689ebdaff2f53a3073c7ed55a0f51860968fbf5603f714378c4e"
  },
  "kernelspec": {
   "display_name": "Python 3.10.4 64-bit",
   "language": "python",
   "name": "python3"
  },
  "language_info": {
   "codemirror_mode": {
    "name": "ipython",
    "version": 3
   },
   "file_extension": ".py",
   "mimetype": "text/x-python",
   "name": "python",
   "nbconvert_exporter": "python",
   "pygments_lexer": "ipython3",
   "version": "3.10.4"
  },
  "orig_nbformat": 4
 },
 "nbformat": 4,
 "nbformat_minor": 2
}
