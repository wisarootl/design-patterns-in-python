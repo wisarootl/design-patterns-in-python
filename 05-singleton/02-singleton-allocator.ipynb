{
 "cells": [
  {
   "cell_type": "code",
   "execution_count": 1,
   "metadata": {},
   "outputs": [],
   "source": [
    "import random"
   ]
  },
  {
   "cell_type": "code",
   "execution_count": 2,
   "metadata": {},
   "outputs": [
    {
     "name": "stdout",
     "output_type": "stream",
     "text": [
      "Generated an id of  100\n",
      "Loading database from file\n"
     ]
    }
   ],
   "source": [
    "class Database:\n",
    "    initialized = False\n",
    "\n",
    "    def __init__(self):\n",
    "        # init get call many time\n",
    "        # it is not proper singleton\n",
    "        self.id = random.randint(1,101)\n",
    "        print('Generated an id of ', self.id)\n",
    "        print('Loading database from file')\n",
    "        pass\n",
    "\n",
    "    _instance = None\n",
    "\n",
    "    def __new__(cls, *args, **kwargs):\n",
    "        if not cls._instance:\n",
    "            cls._instance = super(Database, cls)\\\n",
    "                .__new__(cls, *args, **kwargs)\n",
    "\n",
    "        return cls._instance\n",
    "\n",
    "database = Database()"
   ]
  },
  {
   "cell_type": "code",
   "execution_count": 3,
   "metadata": {},
   "outputs": [
    {
     "name": "stdout",
     "output_type": "stream",
     "text": [
      "Generated an id of  25\n",
      "Loading database from file\n",
      "Generated an id of  5\n",
      "Loading database from file\n"
     ]
    }
   ],
   "source": [
    "d1 = Database()\n",
    "d2 = Database()"
   ]
  },
  {
   "cell_type": "code",
   "execution_count": 4,
   "metadata": {},
   "outputs": [
    {
     "name": "stdout",
     "output_type": "stream",
     "text": [
      "5 5\n",
      "True\n",
      "True\n"
     ]
    }
   ],
   "source": [
    "print(d1.id, d2.id)\n",
    "print(d1 == d2)\n",
    "print(database == d1)"
   ]
  }
 ],
 "metadata": {
  "interpreter": {
   "hash": "20ac7aad763b689ebdaff2f53a3073c7ed55a0f51860968fbf5603f714378c4e"
  },
  "kernelspec": {
   "display_name": "Python 3.10.4 64-bit",
   "language": "python",
   "name": "python3"
  },
  "language_info": {
   "codemirror_mode": {
    "name": "ipython",
    "version": 3
   },
   "file_extension": ".py",
   "mimetype": "text/x-python",
   "name": "python",
   "nbconvert_exporter": "python",
   "pygments_lexer": "ipython3",
   "version": "3.10.4"
  },
  "orig_nbformat": 4
 },
 "nbformat": 4,
 "nbformat_minor": 2
}
