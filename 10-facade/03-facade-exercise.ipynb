{
 "cells": [
  {
   "cell_type": "markdown",
   "metadata": {},
   "source": [
    "# Façade Coding Exercise"
   ]
  },
  {
   "cell_type": "markdown",
   "metadata": {},
   "source": [
    "A magic square is a square matrix of numbers where the sum in each row, each column, and each of the diagonals is the same.\n",
    "\n",
    "You are given a system of 3 classes that can be used to make a magic square. The classes are:\n",
    "\n",
    "- **Generator**: this class generates a 1-dimensional list of random digits in range 1 to 9.\n",
    "\n",
    "- **Splitter**: this class takes a 2D list and splits it into all possible arrangements of 1D lists. It gives you the columns, the rows and the two diagonals.\n",
    "\n",
    "- **Verifier**: this class takes a 2D list and verifies that the sum of elements in every sublist is the same.\n",
    "\n",
    "Please implement a Façade class called `MagicSquareGenerator`  which simply generates the magic square of a given size."
   ]
  },
  {
   "cell_type": "code",
   "execution_count": 1,
   "metadata": {},
   "outputs": [],
   "source": [
    "from random import randint\n",
    "from unittest import TestCase, main\n",
    "\n",
    "class Generator:\n",
    "  def generate(self, count):\n",
    "    return [randint(1,9) for x in range(count)]\n",
    "\n",
    "class Splitter:\n",
    "  def split(self, array):\n",
    "    result = []\n",
    "\n",
    "    row_count = len(array)\n",
    "    col_count = len(array[0])\n",
    "\n",
    "    for r in range(row_count):\n",
    "      the_row = []\n",
    "      for c in range(col_count):\n",
    "        the_row.append(array[r][c])\n",
    "      result.append(the_row)\n",
    "\n",
    "    for c in range(col_count):\n",
    "      the_col = []\n",
    "      for r in range(row_count):\n",
    "        the_col.append(array[r][c])\n",
    "      result.append(the_col)\n",
    "\n",
    "    diag1 = []\n",
    "    diag2 = []\n",
    "\n",
    "    for c in range(col_count):\n",
    "      for r in range(row_count):\n",
    "        if c == r:\n",
    "          diag1.append(array[r][c])\n",
    "        r2 = row_count - r - 1\n",
    "        if c == r2:\n",
    "          diag2.append(array[r][c])\n",
    "\n",
    "    result.append(diag1)\n",
    "    result.append(diag2)\n",
    "\n",
    "    return result\n",
    "\n",
    "class Verifier:\n",
    "  def verify(self, arrays):\n",
    "    first = sum(arrays[0])\n",
    "\n",
    "    for i in range(1, len(arrays)):\n",
    "      if sum(arrays[i]) != first:\n",
    "        return False\n",
    "\n",
    "    return True"
   ]
  },
  {
   "cell_type": "code",
   "execution_count": 2,
   "metadata": {},
   "outputs": [],
   "source": [
    "# this is facade\n",
    "class MagicSquareGenerator:\n",
    "  def generate(self, size):\n",
    "    g = Generator()\n",
    "    s = Splitter()\n",
    "    v = Verifier()\n",
    "\n",
    "    while True:\n",
    "      square = []\n",
    "      for x in range(size):\n",
    "        square.append(g.generate(size))\n",
    "\n",
    "      if v.verify(s.split(square)):\n",
    "        break\n",
    "\n",
    "    return square"
   ]
  },
  {
   "cell_type": "code",
   "execution_count": 3,
   "metadata": {},
   "outputs": [
    {
     "name": "stdout",
     "output_type": "stream",
     "text": [
      "[[8, 8], [8, 8]]\n"
     ]
    }
   ],
   "source": [
    "gen = MagicSquareGenerator()\n",
    "square = gen.generate(2)\n",
    "print(square)"
   ]
  },
  {
   "cell_type": "code",
   "execution_count": 4,
   "metadata": {},
   "outputs": [
    {
     "name": "stdout",
     "output_type": "stream",
     "text": [
      "splitted : [[1, 2], [3, 4], [1, 3], [2, 4], [1, 4], [3, 2]]\n",
      "verify : False\n"
     ]
    }
   ],
   "source": [
    "# behind the scene\n",
    "\n",
    "square = [[1, 2], [3, 4]]\n",
    "s = Splitter()\n",
    "v = Verifier()\n",
    "print('splitted :', s.split(square))\n",
    "print('verify :', v.verify(s.split(square)))"
   ]
  },
  {
   "cell_type": "code",
   "execution_count": 5,
   "metadata": {},
   "outputs": [
    {
     "name": "stderr",
     "output_type": "stream",
     "text": [
      "test_exercise (__main__.Evaluate) ... ok\n",
      "\n",
      "----------------------------------------------------------------------\n",
      "Ran 1 test in 0.001s\n",
      "\n",
      "OK\n"
     ]
    },
    {
     "name": "stdout",
     "output_type": "stream",
     "text": [
      "[[3, 3], [3, 3]]\n"
     ]
    },
    {
     "data": {
      "text/plain": [
       "<unittest.main.TestProgram at 0x299415df9d0>"
      ]
     },
     "execution_count": 5,
     "metadata": {},
     "output_type": "execute_result"
    }
   ],
   "source": [
    "class Evaluate(TestCase):\n",
    "  def test_exercise(self):\n",
    "    gen = MagicSquareGenerator()\n",
    "    square = gen.generate(2)\n",
    "\n",
    "    print(square)\n",
    "\n",
    "    v = Verifier()\n",
    "    self.assertTrue(v.verify(square),\n",
    "                    'Verification failed. '\n",
    "                    'This is not a valid magic square.')\n",
    "\n",
    "main(argv=['ignored', '-v'], exit=False)"
   ]
  }
 ],
 "metadata": {
  "interpreter": {
   "hash": "20ac7aad763b689ebdaff2f53a3073c7ed55a0f51860968fbf5603f714378c4e"
  },
  "kernelspec": {
   "display_name": "Python 3.10.4 64-bit",
   "language": "python",
   "name": "python3"
  },
  "language_info": {
   "codemirror_mode": {
    "name": "ipython",
    "version": 3
   },
   "file_extension": ".py",
   "mimetype": "text/x-python",
   "name": "python",
   "nbconvert_exporter": "python",
   "pygments_lexer": "ipython3",
   "version": "3.10.4"
  },
  "orig_nbformat": 4
 },
 "nbformat": 4,
 "nbformat_minor": 2
}
