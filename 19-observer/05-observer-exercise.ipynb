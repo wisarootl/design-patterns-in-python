{
 "cells": [
  {
   "cell_type": "markdown",
   "metadata": {},
   "source": [
    "# Observer Coding Exercise"
   ]
  },
  {
   "cell_type": "markdown",
   "metadata": {},
   "source": [
    "Imagine a game where one or more rats can `attack` a player. Each individual rat has an initial `attack` value of 1. However, rats `attack` as a swarm, so each rat's attack value is actually equal to the total number of rats in play.\n",
    "\n",
    "Given that a rat enters play through the initializer and leaves play (dies) via its `__exit__` method, please implement the Game and Rat classes so that, at any point in the game, the Attack value of a rat is always consistent.\n",
    "\n",
    "Here's a sample unit test your code should pass:\n",
    "\n",
    "```python\n",
    "def test_three_rats_one_dies(self):\n",
    "    game = Game()\n",
    " \n",
    "    rat = Rat(game)\n",
    "    self.assertEqual(1, rat.attack)\n",
    " \n",
    "    rat2 = Rat(game)\n",
    "    self.assertEqual(2, rat.attack)\n",
    "    self.assertEqual(2, rat2.attack)\n",
    " \n",
    "    with Rat(game) as rat3:\n",
    "        self.assertEqual(3, rat.attack)\n",
    "        self.assertEqual(3, rat2.attack)\n",
    "        self.assertEqual(3, rat3.attack)\n",
    "```"
   ]
  },
  {
   "cell_type": "code",
   "execution_count": 1,
   "metadata": {},
   "outputs": [],
   "source": [
    "from unittest import TestCase"
   ]
  },
  {
   "cell_type": "code",
   "execution_count": 2,
   "metadata": {},
   "outputs": [],
   "source": [
    "class Event(list):\n",
    "    def __call__(self, *args, **kwargs):\n",
    "        for item in self:\n",
    "            item(*args, **kwargs)\n",
    "\n",
    "class Game:\n",
    "    def __init__(self):\n",
    "        self.rat_enters = Event()\n",
    "        self.rat_dies = Event()\n",
    "        self.notify_rat = Event()"
   ]
  },
  {
   "cell_type": "code",
   "execution_count": 3,
   "metadata": {},
   "outputs": [],
   "source": [
    "class Rat:\n",
    "    def __init__(self, game):\n",
    "        self.game = game\n",
    "        self.attack = 1\n",
    "\n",
    "        game.rat_enters.append(self.rat_enters)\n",
    "        game.notify_rat.append(self.notify_rat)\n",
    "        game.rat_dies.append(self.rat_dies)\n",
    "\n",
    "        self.game.rat_enters(self)\n",
    "\n",
    "    def __enter__(self):\n",
    "        return self\n",
    "\n",
    "    def __exit__(self, exc_type, exc_val, exc_tb):\n",
    "        self.game.rat_dies(self)\n",
    "\n",
    "    def rat_enters(self, which_rat):\n",
    "        if which_rat != self:\n",
    "            self.attack += 1\n",
    "            self.game.notify_rat(which_rat)\n",
    "\n",
    "    def notify_rat(self, which_rat):\n",
    "        if which_rat == self:\n",
    "            self.attack += 1\n",
    "\n",
    "    def rat_dies(self, which_rat):\n",
    "        self.attack -= 1"
   ]
  },
  {
   "cell_type": "code",
   "execution_count": 4,
   "metadata": {},
   "outputs": [
    {
     "name": "stdout",
     "output_type": "stream",
     "text": [
      "1\n"
     ]
    }
   ],
   "source": [
    "game = Game()\n",
    "rat = Rat(game)\n",
    "print(rat.attack) # 1"
   ]
  },
  {
   "cell_type": "code",
   "execution_count": 5,
   "metadata": {},
   "outputs": [
    {
     "name": "stdout",
     "output_type": "stream",
     "text": [
      "2\n",
      "2\n"
     ]
    }
   ],
   "source": [
    "game = Game()\n",
    "rat = Rat(game)\n",
    "rat2 = Rat(game)\n",
    "print(rat.attack) # 2\n",
    "print(rat2.attack) # 2"
   ]
  },
  {
   "cell_type": "code",
   "execution_count": 6,
   "metadata": {},
   "outputs": [
    {
     "name": "stdout",
     "output_type": "stream",
     "text": [
      "== 1 rat ==\n",
      "1\n",
      "== 2 rats ==\n",
      "2\n",
      "2\n",
      "== 3 rats ==\n",
      "3\n",
      "3\n",
      "3\n",
      "== 2 rats ==\n",
      "2\n",
      "2\n"
     ]
    }
   ],
   "source": [
    "game = Game()\n",
    "\n",
    "rat = Rat(game)\n",
    "print('== 1 rat ==')\n",
    "print(rat.attack) # 1\n",
    "\n",
    "rat2 = Rat(game)\n",
    "print('== 2 rats ==')\n",
    "print(rat.attack) # 2\n",
    "print(rat2.attack) # 2\n",
    "\n",
    "# this will call enter and exit\n",
    "print('== 3 rats ==')\n",
    "with Rat(game) as rat3:\n",
    "    print(rat.attack) # 3\n",
    "    print(rat2.attack) # 3\n",
    "    print(rat3.attack) # 3\n",
    "\n",
    "# equivalent to ...\n",
    "# rat3 = Rat(game)\n",
    "# print(rat.attack) # 3\n",
    "# print(rat2.attack) # 3\n",
    "# print(rat3.attack) # 3\n",
    "# rat3.__exit__(None, None, None)\n",
    "\n",
    "print('== 2 rats ==')\n",
    "print(rat.attack) # 2\n",
    "print(rat2.attack) # 2\n"
   ]
  }
 ],
 "metadata": {
  "interpreter": {
   "hash": "20ac7aad763b689ebdaff2f53a3073c7ed55a0f51860968fbf5603f714378c4e"
  },
  "kernelspec": {
   "display_name": "Python 3.10.4 64-bit",
   "language": "python",
   "name": "python3"
  },
  "language_info": {
   "codemirror_mode": {
    "name": "ipython",
    "version": 3
   },
   "file_extension": ".py",
   "mimetype": "text/x-python",
   "name": "python",
   "nbconvert_exporter": "python",
   "pygments_lexer": "ipython3",
   "version": "3.10.4"
  },
  "orig_nbformat": 4
 },
 "nbformat": 4,
 "nbformat_minor": 2
}
