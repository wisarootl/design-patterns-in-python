{
 "cells": [
  {
   "cell_type": "code",
   "execution_count": 1,
   "metadata": {},
   "outputs": [],
   "source": [
    "class Creature:\n",
    "    def __init__(self, name, attack, defense):\n",
    "        self.defense = defense\n",
    "        self.attack = attack\n",
    "        self.name = name\n",
    "\n",
    "    def __str__(self):\n",
    "        return f'{self.name} ({self.attack}/{self.defense})'"
   ]
  },
  {
   "cell_type": "code",
   "execution_count": 2,
   "metadata": {},
   "outputs": [],
   "source": [
    "class CreatureModifier:\n",
    "    def __init__(self, creature):\n",
    "        self.creature = creature\n",
    "        self.next_modifier = None\n",
    "\n",
    "    def add_modifier(self, modifier):\n",
    "        if self.next_modifier:\n",
    "            self.next_modifier.add_modifier(modifier)\n",
    "        else:\n",
    "            self.next_modifier = modifier\n",
    "\n",
    "    def handle(self):\n",
    "        if self.next_modifier:\n",
    "            self.next_modifier.handle()"
   ]
  },
  {
   "cell_type": "code",
   "execution_count": 5,
   "metadata": {},
   "outputs": [],
   "source": [
    "\n",
    "class DoubleAttackModifier(CreatureModifier):\n",
    "    def handle(self):\n",
    "        print(f'Doubling {self.creature.name}\\'s attack')\n",
    "        self.creature.attack *= 2\n",
    "        super().handle()\n",
    "\n",
    "class IncreaseDefenseModifier(CreatureModifier):\n",
    "    def handle(self):\n",
    "        if self.creature.attack <= 2:\n",
    "            print(f'Increasing {self.creature.name}\\'s defense')\n",
    "            self.creature.defense += 1\n",
    "        super().handle()\n",
    "\n",
    "class NoBonusesModifier(CreatureModifier):\n",
    "    def handle(self):\n",
    "        print('No bonuses for you!')\n"
   ]
  },
  {
   "cell_type": "code",
   "execution_count": 6,
   "metadata": {},
   "outputs": [
    {
     "name": "stdout",
     "output_type": "stream",
     "text": [
      "Goblin (1/1)\n",
      "No bonuses for you!\n",
      "Goblin (1/1)\n"
     ]
    }
   ],
   "source": [
    "goblin = Creature('Goblin', 1, 1)\n",
    "print(goblin)\n",
    "\n",
    "root = CreatureModifier(goblin)\n",
    "\n",
    "root.add_modifier(NoBonusesModifier(goblin)) # stop chain of responsibility\n",
    "\n",
    "root.add_modifier(DoubleAttackModifier(goblin))\n",
    "root.add_modifier(IncreaseDefenseModifier(goblin))\n",
    "root.add_modifier(DoubleAttackModifier(goblin))\n",
    "root.add_modifier(IncreaseDefenseModifier(goblin)) # no effect\n",
    "\n",
    "root.handle()\n",
    "\n",
    "print(goblin)"
   ]
  }
 ],
 "metadata": {
  "interpreter": {
   "hash": "20ac7aad763b689ebdaff2f53a3073c7ed55a0f51860968fbf5603f714378c4e"
  },
  "kernelspec": {
   "display_name": "Python 3.10.4 64-bit",
   "language": "python",
   "name": "python3"
  },
  "language_info": {
   "codemirror_mode": {
    "name": "ipython",
    "version": 3
   },
   "file_extension": ".py",
   "mimetype": "text/x-python",
   "name": "python",
   "nbconvert_exporter": "python",
   "pygments_lexer": "ipython3",
   "version": "3.10.4"
  },
  "orig_nbformat": 4
 },
 "nbformat": 4,
 "nbformat_minor": 2
}
