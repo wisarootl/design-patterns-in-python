{
 "cells": [
  {
   "cell_type": "markdown",
   "metadata": {},
   "source": [
    "# bad example"
   ]
  },
  {
   "cell_type": "code",
   "execution_count": 1,
   "metadata": {},
   "outputs": [],
   "source": [
    "class Creature:\n",
    "  def __init__(self):\n",
    "    self.strength = 10\n",
    "    self.agility = 10\n",
    "    self.intelligence = 10\n",
    "\n",
    "  @property\n",
    "  def sum_of_stats(self):\n",
    "    return self.strength + self.intelligence + self.agility\n",
    "\n",
    "  @property\n",
    "  def max_stat(self):\n",
    "    return max(self.strength, self.intelligence, self.agility)\n",
    "\n",
    "  @property\n",
    "  def average_stat(self):\n",
    "    return self.sum_of_stats / 3.0"
   ]
  },
  {
   "cell_type": "markdown",
   "metadata": {},
   "source": [
    "# improved be list-backed properties"
   ]
  },
  {
   "cell_type": "code",
   "execution_count": 2,
   "metadata": {},
   "outputs": [],
   "source": [
    "class Creature:\n",
    "  _strength = 0\n",
    "  _agility = 1\n",
    "  _intelligence = 2\n",
    "\n",
    "  def __init__(self):\n",
    "    # array-backed properties\n",
    "    # or list-backed properties in Python\n",
    "    self.stats = [10, 10, 10]\n",
    "  \n",
    "  @property\n",
    "  def strength(self):\n",
    "    return self.stats[Creature._strength]\n",
    "  \n",
    "  @strength.setter\n",
    "  def strength(self, value):\n",
    "    self.stats[Creature._strength] = value\n",
    "  \n",
    "  @property\n",
    "  def agility(self):\n",
    "    return self.stats[Creature._agility]\n",
    "  \n",
    "  @agility.setter\n",
    "  def agility(self, value):\n",
    "    self.stats[Creature._agility] = value\n",
    "  \n",
    "  @property\n",
    "  def intelligence(self):\n",
    "    return self.stats[Creature._intelligence]\n",
    "  \n",
    "  @intelligence.setter\n",
    "  def intelligence(self, value):\n",
    "    self.stats[Creature._intelligence] = value\n",
    "\n",
    "  @property\n",
    "  def sum_of_stats(self):\n",
    "    return sum(self.stats)\n",
    "\n",
    "  @property\n",
    "  def max_stat(self):\n",
    "    return max(self.stats)\n",
    "\n",
    "  @property\n",
    "  def average_stat(self):\n",
    "    return float(sum(self.stats) / len(self.stats))"
   ]
  }
 ],
 "metadata": {
  "interpreter": {
   "hash": "20ac7aad763b689ebdaff2f53a3073c7ed55a0f51860968fbf5603f714378c4e"
  },
  "kernelspec": {
   "display_name": "Python 3.10.4 64-bit",
   "language": "python",
   "name": "python3"
  },
  "language_info": {
   "codemirror_mode": {
    "name": "ipython",
    "version": 3
   },
   "file_extension": ".py",
   "mimetype": "text/x-python",
   "name": "python",
   "nbconvert_exporter": "python",
   "pygments_lexer": "ipython3",
   "version": "3.10.4"
  },
  "orig_nbformat": 4
 },
 "nbformat": 4,
 "nbformat_minor": 2
}
