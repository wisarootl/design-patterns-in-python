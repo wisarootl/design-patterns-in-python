{
 "cells": [
  {
   "cell_type": "markdown",
   "metadata": {},
   "source": [
    "# State Coding Exercise"
   ]
  },
  {
   "cell_type": "markdown",
   "metadata": {},
   "source": [
    "A combination lock is a lock that opens after the right digits have been entered. A lock is preprogrammed with a combination (e.g., `12345` ) and the user is expected to enter this combination to unlock the lock.\n",
    "\n",
    "The lock has a Status field that indicates the state of the lock. The rules are:\n",
    "- If the lock has just been locked (or at startup), the status is LOCKED.\n",
    "- If a digit has been entered, that digit is shown on the screen. As the user enters more digits, they are added to Status.\n",
    "- If the user has entered the correct sequence of digits, the lock status changes to OPEN.\n",
    "- If the user enters an incorrect sequence of digits, the lock status changes to ERROR.\n",
    "\n",
    "Please implement the `CombinationLock`  class to enable this behavior. Be sure to test both correct and incorrect inputs.\n",
    "\n",
    "Here is an example unit test for the lock:\n",
    "```python\n",
    "class FirstTestSuite(unittest.TestCase):\n",
    "    def test_success(self):\n",
    "        cl = CombinationLock([1, 2, 3, 4, 5])\n",
    "        self.assertEqual('LOCKED', cl.status)\n",
    "        cl.enter_digit(1)\n",
    "        self.assertEqual('1', cl.status)\n",
    "        cl.enter_digit(2)\n",
    "        self.assertEqual('12', cl.status)\n",
    "        cl.enter_digit(3)\n",
    "```"
   ]
  },
  {
   "cell_type": "code",
   "execution_count": 1,
   "metadata": {},
   "outputs": [],
   "source": [
    "import unittest"
   ]
  },
  {
   "cell_type": "code",
   "execution_count": 2,
   "metadata": {},
   "outputs": [],
   "source": [
    "class CombinationLock:\n",
    "    def __init__(self, combination):\n",
    "        self.combination = combination\n",
    "        self.reset()\n",
    "\n",
    "    def reset(self):\n",
    "        self.status = 'LOCKED'\n",
    "        self.digits_entered = 0\n",
    "        self.failed = False\n",
    "\n",
    "    def enter_digit(self, digit):\n",
    "        if self.status == 'LOCKED':\n",
    "            self.status = ''\n",
    "        self.status += str(digit)\n",
    "        if self.combination[self.digits_entered] != digit:\n",
    "            self.failed = True\n",
    "        self.digits_entered += 1\n",
    "\n",
    "        if self.digits_entered == len(self.combination):\n",
    "            self.status = 'ERROR' if self.failed else 'OPEN'"
   ]
  },
  {
   "cell_type": "code",
   "execution_count": 3,
   "metadata": {},
   "outputs": [
    {
     "name": "stdout",
     "output_type": "stream",
     "text": [
      "failed: False, status: LOCKED\n",
      "failed: False, status: 1\n",
      "failed: False, status: 12\n",
      "failed: False, status: 123\n",
      "failed: False, status: 1234\n",
      "failed: False, status: OPEN\n"
     ]
    }
   ],
   "source": [
    "cl = CombinationLock([1, 2, 3, 4, 5])\n",
    "# failed: False, status: LOCKED\n",
    "print(f'failed: {cl.failed}, status: {cl.status}')  # 'LOCKED'\n",
    "\n",
    "cl.enter_digit(1)\n",
    "# failed: False, status: 1\n",
    "print(f'failed: {cl.failed}, status: {cl.status}')  # 1\n",
    "\n",
    "cl.enter_digit(2)\n",
    "# failed: False, status: 12\n",
    "print(f'failed: {cl.failed}, status: {cl.status}')  # 12\n",
    "\n",
    "cl.enter_digit(3)\n",
    "# failed: False, status: 123\n",
    "print(f'failed: {cl.failed}, status: {cl.status}')  # 123\n",
    "\n",
    "cl.enter_digit(4)\n",
    "# failed: False, status: 1234\n",
    "print(f'failed: {cl.failed}, status: {cl.status}')  # 1234\n",
    "\n",
    "cl.enter_digit(5)\n",
    "# failed: False, status: OPEN\n",
    "print(f'failed: {cl.failed}, status: {cl.status}')  # 'OPEN'"
   ]
  },
  {
   "cell_type": "code",
   "execution_count": 4,
   "metadata": {},
   "outputs": [
    {
     "name": "stdout",
     "output_type": "stream",
     "text": [
      "failed: False, status: LOCKED\n",
      "failed: False, status: 1\n",
      "failed: True, status: 13\n",
      "failed: True, status: 135\n",
      "failed: True, status: 1354\n",
      "failed: True, status: ERROR\n"
     ]
    }
   ],
   "source": [
    "cl = CombinationLock([1, 2, 3, 4, 5])\n",
    "# failed: False, status: LOCKED\n",
    "print(f'failed: {cl.failed}, status: {cl.status}') \n",
    "\n",
    "cl.enter_digit(1)\n",
    "# failed: False, status: 1\n",
    "print(f'failed: {cl.failed}, status: {cl.status}') \n",
    "\n",
    "cl.enter_digit(3)\n",
    "# failed: True, status: 13\n",
    "print(f'failed: {cl.failed}, status: {cl.status}') \n",
    "\n",
    "cl.enter_digit(5)\n",
    "# failed: True, status: 135\n",
    "print(f'failed: {cl.failed}, status: {cl.status}') \n",
    "\n",
    "cl.enter_digit(4)\n",
    "# failed: True, status: 1354\n",
    "print(f'failed: {cl.failed}, status: {cl.status}') \n",
    "\n",
    "cl.enter_digit(5)\n",
    "# failed: True, status: ERROR\n",
    "print(f'failed: {cl.failed}, status: {cl.status}') "
   ]
  },
  {
   "cell_type": "code",
   "execution_count": 5,
   "metadata": {},
   "outputs": [
    {
     "name": "stderr",
     "output_type": "stream",
     "text": [
      "test_failure (__main__.FirstTestSuite) ... ok\n",
      "test_success (__main__.FirstTestSuite) ... ok\n",
      "\n",
      "----------------------------------------------------------------------\n",
      "Ran 2 tests in 0.003s\n",
      "\n",
      "OK\n"
     ]
    },
    {
     "data": {
      "text/plain": [
       "<unittest.main.TestProgram at 0x1bfe4f2f550>"
      ]
     },
     "execution_count": 5,
     "metadata": {},
     "output_type": "execute_result"
    }
   ],
   "source": [
    "class FirstTestSuite(unittest.TestCase):\n",
    "    def test_success(self):\n",
    "        cl = CombinationLock([1, 2, 3, 4, 5])\n",
    "        self.assertEqual('LOCKED', cl.status)\n",
    "        cl.enter_digit(1)\n",
    "        self.assertEqual('1', cl.status)\n",
    "        cl.enter_digit(2)\n",
    "        self.assertEqual('12', cl.status)\n",
    "        cl.enter_digit(3)\n",
    "        self.assertEqual('123', cl.status)\n",
    "        cl.enter_digit(4)\n",
    "        self.assertEqual('1234', cl.status)\n",
    "        cl.enter_digit(5)\n",
    "        self.assertEqual('OPEN', cl.status)\n",
    "\n",
    "    def test_failure(self):\n",
    "        cl = CombinationLock([1, 2, 3])\n",
    "        self.assertEqual('LOCKED', cl.status)\n",
    "        cl.enter_digit(1)\n",
    "        self.assertEqual('1', cl.status)\n",
    "        cl.enter_digit(2)\n",
    "        self.assertEqual('12', cl.status)\n",
    "        cl.enter_digit(5)\n",
    "        self.assertEqual('ERROR', cl.status)\n",
    "\n",
    "unittest.main(argv=['ignored', '-v'], exit=False)"
   ]
  }
 ],
 "metadata": {
  "interpreter": {
   "hash": "20ac7aad763b689ebdaff2f53a3073c7ed55a0f51860968fbf5603f714378c4e"
  },
  "kernelspec": {
   "display_name": "Python 3.10.4 64-bit",
   "language": "python",
   "name": "python3"
  },
  "language_info": {
   "codemirror_mode": {
    "name": "ipython",
    "version": 3
   },
   "file_extension": ".py",
   "mimetype": "text/x-python",
   "name": "python",
   "nbconvert_exporter": "python",
   "pygments_lexer": "ipython3",
   "version": "3.10.4"
  },
  "orig_nbformat": 4
 },
 "nbformat": 4,
 "nbformat_minor": 2
}
