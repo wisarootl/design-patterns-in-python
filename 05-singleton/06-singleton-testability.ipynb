{
 "cells": [
  {
   "cell_type": "code",
   "execution_count": 1,
   "metadata": {},
   "outputs": [],
   "source": [
    "import unittest"
   ]
  },
  {
   "cell_type": "code",
   "execution_count": 2,
   "metadata": {},
   "outputs": [],
   "source": [
    "class Singleton(type):\n",
    "    _instances = {}\n",
    "\n",
    "    def __call__(cls, *args, **kwargs):\n",
    "        if cls not in cls._instances:\n",
    "            cls._instances[cls] = super(Singleton, cls).__call__(*args, **kwargs)\n",
    "        return cls._instances[cls]\n",
    "\n",
    "\n",
    "class Database(metaclass=Singleton):\n",
    "    def __init__(self):\n",
    "        self.population = {}\n",
    "        f = open('./capitals.txt', 'r')\n",
    "        lines = f.readlines()\n",
    "        for i in range(0, len(lines), 2):\n",
    "            self.population[lines[i].strip()] = int(lines[i + 1].strip())\n",
    "        f.close()"
   ]
  },
  {
   "cell_type": "code",
   "execution_count": 3,
   "metadata": {},
   "outputs": [],
   "source": [
    "class SingletonRecordFinder:\n",
    "    def total_population(self, cities):\n",
    "        result = 0\n",
    "        for c in cities:\n",
    "            result += Database().population[c]\n",
    "        return result\n",
    "\n",
    "\n",
    "class ConfigurableRecordFinder:\n",
    "    def __init__(self, db):\n",
    "        self.db = db\n",
    "\n",
    "    def total_population(self, cities):\n",
    "        result = 0\n",
    "        for c in cities:\n",
    "            result += self.db.population[c]\n",
    "        return result"
   ]
  },
  {
   "cell_type": "code",
   "execution_count": 4,
   "metadata": {},
   "outputs": [],
   "source": [
    "class DummyDatabase:\n",
    "    population = {\n",
    "        'alpha': 1,\n",
    "        'beta': 2,\n",
    "        'gamma': 3\n",
    "    }\n",
    "\n",
    "    def get_population(self, name):\n",
    "        return self.population[name]"
   ]
  },
  {
   "cell_type": "code",
   "execution_count": 5,
   "metadata": {},
   "outputs": [],
   "source": [
    "class SingletonTests(unittest.TestCase):\n",
    "    def test_is_singleton(self):\n",
    "        db = Database()\n",
    "        db2 = Database()\n",
    "        self.assertEqual(db, db2)\n",
    "\n",
    "    def test_singleton_total_population(self):\n",
    "        \"\"\" This tests on a live database :( \"\"\"\n",
    "        rf = SingletonRecordFinder()\n",
    "        names = ['Seoul', 'Mexico City']\n",
    "        tp = rf.total_population(names)\n",
    "        self.assertEqual(tp, 17500000 + 17400000)  # what if these change?\n",
    "\n",
    "    ddb = DummyDatabase()\n",
    "\n",
    "    def test_dependent_total_population(self):\n",
    "        crf = ConfigurableRecordFinder(self.ddb)\n",
    "        self.assertEqual(\n",
    "            crf.total_population(['alpha', 'beta']),\n",
    "            3\n",
    "        )"
   ]
  },
  {
   "cell_type": "code",
   "execution_count": 6,
   "metadata": {},
   "outputs": [
    {
     "name": "stderr",
     "output_type": "stream",
     "text": [
      "test_dependent_total_population (__main__.SingletonTests) ... ok\n",
      "test_is_singleton (__main__.SingletonTests) ... ok\n",
      "test_singleton_total_population (__main__.SingletonTests)\n",
      "This tests on a live database :( ... ok\n",
      "\n",
      "----------------------------------------------------------------------\n",
      "Ran 3 tests in 0.003s\n",
      "\n",
      "OK\n"
     ]
    }
   ],
   "source": [
    "if __name__ == '__main__':\n",
    "    # cannot use unittest.main() in .ipynb\n",
    "    unittest.main(argv=['ignored', '-v'], exit=False)\n",
    "    # unittest.main(argv=['first-arg-is-ignored'], exit=False)"
   ]
  }
 ],
 "metadata": {
  "interpreter": {
   "hash": "20ac7aad763b689ebdaff2f53a3073c7ed55a0f51860968fbf5603f714378c4e"
  },
  "kernelspec": {
   "display_name": "Python 3.10.4 64-bit",
   "language": "python",
   "name": "python3"
  },
  "language_info": {
   "codemirror_mode": {
    "name": "ipython",
    "version": 3
   },
   "file_extension": ".py",
   "mimetype": "text/x-python",
   "name": "python",
   "nbconvert_exporter": "python",
   "pygments_lexer": "ipython3",
   "version": "3.10.4"
  },
  "orig_nbformat": 4
 },
 "nbformat": 4,
 "nbformat_minor": 2
}
