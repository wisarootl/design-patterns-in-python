{
 "cells": [
  {
   "cell_type": "markdown",
   "metadata": {},
   "source": [
    "# Dependency Inversion Principle\n",
    "\n",
    "DIP = high level modules should not depend upon low-level ones; use abstraction\n",
    "\n",
    "High-level modules should not import anything from low-level modules. Both should depend on abstractions (e.g., interfaces).\n",
    "\n",
    "Abstractions should not depend on details. Details (concrete implementations) should depend on abstractions."
   ]
  },
  {
   "cell_type": "code",
   "execution_count": 1,
   "metadata": {},
   "outputs": [],
   "source": [
    "from abc import abstractmethod\n",
    "# from enum import Enum\n",
    "\n",
    "# class Relationship(Enum):\n",
    "class Relationship():\n",
    "    PARENT = 0\n",
    "    CHILD = 1\n",
    "    SIBLING = 2\n",
    "\n",
    "class Person:\n",
    "    def __init__(self, name):\n",
    "        self.name = name\n",
    "\n",
    "class RelationshipBrowser: # abstraction / interface\n",
    "    @abstractmethod\n",
    "    def find_all_children_of(self, name): pass\n",
    "\n",
    "class Relationships(RelationshipBrowser):  # low-level\n",
    "    relations = []\n",
    "\n",
    "    def add_parent_and_child(self, parent, child):\n",
    "        self.relations.append((parent, Relationship.PARENT, child))\n",
    "        self.relations.append((child, Relationship.PARENT, parent))\n",
    "\n",
    "    def find_all_children_of(self, name):\n",
    "        for r in self.relations:\n",
    "            if r[0].name == name and r[1] == Relationship.PARENT:\n",
    "                yield r[2].name\n"
   ]
  },
  {
   "cell_type": "code",
   "execution_count": 2,
   "metadata": {},
   "outputs": [],
   "source": [
    "\n",
    "class Research: # high-level\n",
    "    # dependency on a low-level module directly\n",
    "    # bad because strongly dependent on e.g. storage type\n",
    "\n",
    "    # def __init__(self, relationships):\n",
    "    #     # high-level: find all of john's children\n",
    "    #     relations = relationships.relations\n",
    "    #     for r in relations:\n",
    "    #         if r[0].name == 'John' and r[1] == Relationship.PARENT:\n",
    "    #             print(f'John has a child called {r[2].name}.')\n",
    "\n",
    "    def __init__(self, browser):\n",
    "        for p in browser.find_all_children_of('John'):\n",
    "            print(f'John has a child called {p}')"
   ]
  },
  {
   "cell_type": "code",
   "execution_count": 3,
   "metadata": {},
   "outputs": [],
   "source": [
    "parent = Person('John')\n",
    "child1 = Person('Chris')\n",
    "child2 = Person('Matt')"
   ]
  },
  {
   "cell_type": "code",
   "execution_count": 4,
   "metadata": {},
   "outputs": [],
   "source": [
    "relationships = Relationships()\n",
    "relationships.add_parent_and_child(parent, child1)\n",
    "relationships.add_parent_and_child(parent, child2)"
   ]
  },
  {
   "cell_type": "code",
   "execution_count": 10,
   "metadata": {},
   "outputs": [
    {
     "name": "stdout",
     "output_type": "stream",
     "text": [
      "John has a child called Chris\n",
      "John has a child called Matt\n"
     ]
    },
    {
     "data": {
      "text/plain": [
       "<__main__.Research at 0x14c865e38b0>"
      ]
     },
     "execution_count": 10,
     "metadata": {},
     "output_type": "execute_result"
    }
   ],
   "source": [
    "Research(relationships)"
   ]
  }
 ],
 "metadata": {
  "interpreter": {
   "hash": "20ac7aad763b689ebdaff2f53a3073c7ed55a0f51860968fbf5603f714378c4e"
  },
  "kernelspec": {
   "display_name": "Python 3.10.4 64-bit",
   "language": "python",
   "name": "python3"
  },
  "language_info": {
   "codemirror_mode": {
    "name": "ipython",
    "version": 3
   },
   "file_extension": ".py",
   "mimetype": "text/x-python",
   "name": "python",
   "nbconvert_exporter": "python",
   "pygments_lexer": "ipython3",
   "version": "3.10.4"
  },
  "orig_nbformat": 4
 },
 "nbformat": 4,
 "nbformat_minor": 2
}
