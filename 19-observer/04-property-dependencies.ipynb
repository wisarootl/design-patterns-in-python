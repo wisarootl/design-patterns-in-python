{
 "cells": [
  {
   "cell_type": "code",
   "execution_count": 1,
   "metadata": {},
   "outputs": [],
   "source": [
    "# Property Dependency : is to handle property depend on another property for property observer\n",
    "\n",
    "class Event(list):\n",
    "  def __call__(self, *args, **kwargs):\n",
    "    for item in self:\n",
    "      item(*args, **kwargs)\n",
    "\n",
    "class PropertyObservable:\n",
    "  def __init__(self):\n",
    "    self.property_changed = Event()"
   ]
  },
  {
   "cell_type": "code",
   "execution_count": 2,
   "metadata": {},
   "outputs": [],
   "source": [
    "class Person(PropertyObservable):\n",
    "  def __init__(self, age=0):\n",
    "    super().__init__()\n",
    "    self._age = age\n",
    "\n",
    "  @property\n",
    "  def can_vote(self):\n",
    "    return self._age >= 18\n",
    "\n",
    "  @property\n",
    "  def age(self):\n",
    "    return self._age\n",
    "\n",
    "  @age.setter\n",
    "  def age(self, value):\n",
    "    if self._age == value:\n",
    "      return\n",
    "\n",
    "    # can_vote depend on age\n",
    "    old_can_vote = self.can_vote\n",
    "\n",
    "    self._age = value\n",
    "    self.property_changed('age', value)\n",
    "\n",
    "    if old_can_vote != self.can_vote:\n",
    "      self.property_changed('can_vote', self.can_vote)"
   ]
  },
  {
   "cell_type": "code",
   "execution_count": 3,
   "metadata": {},
   "outputs": [
    {
     "name": "stdout",
     "output_type": "stream",
     "text": [
      "Changing age to 16\n",
      "Changing age to 17\n",
      "Changing age to 18\n",
      "Voting status changed to True\n",
      "Changing age to 19\n",
      "Changing age to 20\n"
     ]
    }
   ],
   "source": [
    "def person_changed(name, value):\n",
    "  if name == 'can_vote':\n",
    "    print(f'Voting status changed to {value}')\n",
    "\n",
    "p = Person()\n",
    "p.property_changed.append(\n",
    "  person_changed\n",
    ")\n",
    "\n",
    "for age in range(16, 21):\n",
    "  print(f'Changing age to {age}')\n",
    "  p.age = age"
   ]
  }
 ],
 "metadata": {
  "interpreter": {
   "hash": "20ac7aad763b689ebdaff2f53a3073c7ed55a0f51860968fbf5603f714378c4e"
  },
  "kernelspec": {
   "display_name": "Python 3.10.4 64-bit",
   "language": "python",
   "name": "python3"
  },
  "language_info": {
   "codemirror_mode": {
    "name": "ipython",
    "version": 3
   },
   "file_extension": ".py",
   "mimetype": "text/x-python",
   "name": "python",
   "nbconvert_exporter": "python",
   "pygments_lexer": "ipython3",
   "version": "3.10.4"
  },
  "orig_nbformat": 4
 },
 "nbformat": 4,
 "nbformat_minor": 2
}
