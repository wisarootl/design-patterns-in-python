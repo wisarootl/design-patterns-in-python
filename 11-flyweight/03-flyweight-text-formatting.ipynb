{
 "cells": [
  {
   "cell_type": "code",
   "execution_count": 1,
   "metadata": {},
   "outputs": [],
   "source": [
    "class FormattedText:\n",
    "    # space for self.cap\n",
    "    def __init__(self, plain_text):\n",
    "        self.plain_text = plain_text.lower()\n",
    "        self.caps = [False] * len(plain_text)\n",
    "\n",
    "    def capitalize(self, start, end):\n",
    "        for i in range(start, end):\n",
    "            self.caps[i] = True\n",
    "\n",
    "    def __str__(self):\n",
    "        result = []\n",
    "        for i in range(len(self.plain_text)):\n",
    "            c = self.plain_text[i]\n",
    "            result.append(c.upper() if self.caps[i] else c)\n",
    "        return ''.join(result)"
   ]
  },
  {
   "cell_type": "code",
   "execution_count": 2,
   "metadata": {},
   "outputs": [],
   "source": [
    "class BetterFormattedText:\n",
    "    def __init__(self, plain_text):\n",
    "        self.plain_text = plain_text.lower()\n",
    "        self.formatting = []\n",
    "        \n",
    "    class TextRange:\n",
    "        def __init__(self, start, end, capitalize=False, bold=False, italic=False):\n",
    "            self.end = end\n",
    "            self.bold = bold\n",
    "            self.capitalize = capitalize\n",
    "            self.italic = italic\n",
    "            self.start = start\n",
    "\n",
    "        def covers(self, position):\n",
    "            return self.start <= position <= self.end\n",
    "\n",
    "    def get_range(self, start, end):\n",
    "        range = self.TextRange(start, end)\n",
    "        self.formatting.append(range)\n",
    "        return range\n",
    "\n",
    "    def __str__(self):\n",
    "        result = []\n",
    "        for i in range(len(self.plain_text)):\n",
    "            c = self.plain_text[i]\n",
    "            for r in self.formatting:\n",
    "                if r.covers(i) and r.capitalize:\n",
    "                    c = c.upper()\n",
    "            result.append(c)\n",
    "        return ''.join(result)"
   ]
  },
  {
   "cell_type": "code",
   "execution_count": 3,
   "metadata": {},
   "outputs": [
    {
     "name": "stdout",
     "output_type": "stream",
     "text": [
      "this is a BRAVE new world\n"
     ]
    }
   ],
   "source": [
    "ft = FormattedText('This is a brave new world')\n",
    "ft.capitalize(10, 15)\n",
    "print(ft)"
   ]
  },
  {
   "cell_type": "code",
   "execution_count": 4,
   "metadata": {},
   "outputs": [
    {
     "name": "stdout",
     "output_type": "stream",
     "text": [
      "this is a brave NEW world\n"
     ]
    }
   ],
   "source": [
    "bft = BetterFormattedText('This is a brave new world')\n",
    "bft.get_range(16, 19).capitalize = True\n",
    "print(bft)"
   ]
  }
 ],
 "metadata": {
  "interpreter": {
   "hash": "20ac7aad763b689ebdaff2f53a3073c7ed55a0f51860968fbf5603f714378c4e"
  },
  "kernelspec": {
   "display_name": "Python 3.10.4 64-bit",
   "language": "python",
   "name": "python3"
  },
  "language_info": {
   "codemirror_mode": {
    "name": "ipython",
    "version": 3
   },
   "file_extension": ".py",
   "mimetype": "text/x-python",
   "name": "python",
   "nbconvert_exporter": "python",
   "pygments_lexer": "ipython3",
   "version": "3.10.4"
  },
  "orig_nbformat": 4
 },
 "nbformat": 4,
 "nbformat_minor": 2
}
