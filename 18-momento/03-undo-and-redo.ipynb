{
 "cells": [
  {
   "cell_type": "code",
   "execution_count": 1,
   "metadata": {},
   "outputs": [],
   "source": [
    "class Memento:\n",
    "    def __init__(self, balance):\n",
    "        self.balance = balance"
   ]
  },
  {
   "cell_type": "code",
   "execution_count": 2,
   "metadata": {},
   "outputs": [],
   "source": [
    "class BankAccount:\n",
    "    def __init__(self, balance=0):\n",
    "        self.balance = balance\n",
    "\n",
    "        # list of momento\n",
    "        self.changes = [Memento(self.balance)]\n",
    "        self.current = 0\n",
    "\n",
    "\n",
    "    def deposit(self, amount):\n",
    "        self.balance += amount\n",
    "        m = Memento(self.balance)\n",
    "        self.changes.append(m)\n",
    "        self.current += 1\n",
    "        return m\n",
    "\n",
    "    def restore(self, memento):\n",
    "        if memento:\n",
    "            self.balance = memento.balance\n",
    "            self.changes.append(memento)\n",
    "            self.current = len(self.changes)-1\n",
    "\n",
    "    def undo(self):\n",
    "        if self.current > 0:\n",
    "            self.current -= 1\n",
    "            m = self.changes[self.current]\n",
    "            self.balance = m.balance\n",
    "            return m\n",
    "        return None\n",
    "\n",
    "    def redo(self):\n",
    "        if self.current + 1 < len(self.changes):\n",
    "            self.current += 1\n",
    "            m = self.changes[self.current]\n",
    "            self.balance = m.balance\n",
    "            return m\n",
    "        return None\n",
    "\n",
    "    def __str__(self):\n",
    "        return f'Balance = {self.balance}'"
   ]
  },
  {
   "cell_type": "code",
   "execution_count": 3,
   "metadata": {},
   "outputs": [
    {
     "name": "stdout",
     "output_type": "stream",
     "text": [
      "Balance = 175\n",
      "Undo 1: Balance = 150\n",
      "Undo 2: Balance = 100\n",
      "Redo 1: Balance = 150\n"
     ]
    }
   ],
   "source": [
    "\n",
    "ba = BankAccount(100)\n",
    "ba.deposit(50)\n",
    "ba.deposit(25)\n",
    "print(ba)\n",
    "\n",
    "ba.undo()\n",
    "print(f'Undo 1: {ba}')\n",
    "ba.undo()\n",
    "print(f'Undo 2: {ba}')\n",
    "ba.redo()\n",
    "print(f'Redo 1: {ba}')"
   ]
  }
 ],
 "metadata": {
  "interpreter": {
   "hash": "20ac7aad763b689ebdaff2f53a3073c7ed55a0f51860968fbf5603f714378c4e"
  },
  "kernelspec": {
   "display_name": "Python 3.10.4 64-bit",
   "language": "python",
   "name": "python3"
  },
  "language_info": {
   "codemirror_mode": {
    "name": "ipython",
    "version": 3
   },
   "file_extension": ".py",
   "mimetype": "text/x-python",
   "name": "python",
   "nbconvert_exporter": "python",
   "pygments_lexer": "ipython3",
   "version": "3.10.4"
  },
  "orig_nbformat": 4
 },
 "nbformat": 4,
 "nbformat_minor": 2
}
