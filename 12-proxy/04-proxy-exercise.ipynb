{
 "cells": [
  {
   "cell_type": "markdown",
   "metadata": {},
   "source": [
    "# Proxy Coding Exercise"
   ]
  },
  {
   "cell_type": "markdown",
   "metadata": {},
   "source": [
    "You are given the `Person` class and asked to write a `ResponsiblePerson` proxy that does the following:\n",
    "\n",
    "- Allows person to drink unless they are younger than 18 (in that case, return \"too young\")\n",
    "- Allows person to drive unless they are younger than 16 (otherwise, \"too young\")\n",
    "- In case of driving while drink, returns \"dead\", regardless of age"
   ]
  },
  {
   "cell_type": "code",
   "execution_count": 1,
   "metadata": {},
   "outputs": [],
   "source": [
    "from unittest import TestCase, main"
   ]
  },
  {
   "cell_type": "code",
   "execution_count": 2,
   "metadata": {},
   "outputs": [],
   "source": [
    "class Person:\n",
    "  def __init__(self, age):\n",
    "    self.age = age\n",
    "\n",
    "  def drink(self):\n",
    "    return 'drinking'\n",
    "\n",
    "  def drive(self):\n",
    "    return 'driving'\n",
    "\n",
    "  def drink_and_drive(self):\n",
    "    return 'driving while drunk'\n",
    "\n",
    "class ResponsiblePerson:\n",
    "  def __init__(self, person):\n",
    "    self.person = person\n",
    "\n",
    "  @property\n",
    "  def age(self):\n",
    "    return self.person.age\n",
    "\n",
    "  @age.setter\n",
    "  def age(self, value):\n",
    "    self.person.age = value\n",
    "\n",
    "  def drink(self):\n",
    "    if self.age >= 18:\n",
    "      return self.person.drink()\n",
    "    return 'too young'\n",
    "\n",
    "  def drive(self):\n",
    "    if self.age >= 16:\n",
    "      return self.person.drive()\n",
    "    return 'too young'\n",
    "\n",
    "  def drink_and_drive(self):\n",
    "    return 'dead'"
   ]
  },
  {
   "cell_type": "code",
   "execution_count": 3,
   "metadata": {},
   "outputs": [
    {
     "name": "stdout",
     "output_type": "stream",
     "text": [
      "too young\n",
      "too young\n",
      "dead\n"
     ]
    }
   ],
   "source": [
    "person = ResponsiblePerson(Person(10))\n",
    "print(person.drive()) # too young\n",
    "print(person.drink()) # too young\n",
    "print(person.drink_and_drive()) # dead"
   ]
  },
  {
   "cell_type": "code",
   "execution_count": 4,
   "metadata": {},
   "outputs": [
    {
     "name": "stdout",
     "output_type": "stream",
     "text": [
      "driving\n",
      "drinking\n",
      "dead\n"
     ]
    }
   ],
   "source": [
    "person.age = 20\n",
    "print(person.drive()) # driving\n",
    "print(person.drink()) # drinking\n",
    "print(person.drink_and_drive()) # dead"
   ]
  },
  {
   "cell_type": "code",
   "execution_count": 5,
   "metadata": {},
   "outputs": [
    {
     "name": "stderr",
     "output_type": "stream",
     "text": [
      "test_exercise (__main__.Evaluate) ... ok\n",
      "\n",
      "----------------------------------------------------------------------\n",
      "Ran 1 test in 0.002s\n",
      "\n",
      "OK\n"
     ]
    },
    {
     "data": {
      "text/plain": [
       "<unittest.main.TestProgram at 0x236fd963010>"
      ]
     },
     "execution_count": 5,
     "metadata": {},
     "output_type": "execute_result"
    }
   ],
   "source": [
    "class Evaluate(TestCase):\n",
    "  def test_exercise(self):\n",
    "    p = Person(10)\n",
    "    rp = ResponsiblePerson(p)\n",
    "\n",
    "    self.assertEqual('too young', rp.drive())\n",
    "    self.assertEqual('too young', rp.drink())\n",
    "    self.assertEqual('dead', rp.drink_and_drive())\n",
    "\n",
    "    rp.age = 20\n",
    "\n",
    "    self.assertEqual('driving', rp.drive())\n",
    "    self.assertEqual('drinking', rp.drink())\n",
    "    self.assertEqual('dead', rp.drink_and_drive())\n",
    "\n",
    "main(argv=['ignored', '-v'], exit=False)"
   ]
  }
 ],
 "metadata": {
  "interpreter": {
   "hash": "20ac7aad763b689ebdaff2f53a3073c7ed55a0f51860968fbf5603f714378c4e"
  },
  "kernelspec": {
   "display_name": "Python 3.10.4 64-bit",
   "language": "python",
   "name": "python3"
  },
  "language_info": {
   "codemirror_mode": {
    "name": "ipython",
    "version": 3
   },
   "file_extension": ".py",
   "mimetype": "text/x-python",
   "name": "python",
   "nbconvert_exporter": "python",
   "pygments_lexer": "ipython3",
   "version": "3.10.4"
  },
  "orig_nbformat": 4
 },
 "nbformat": 4,
 "nbformat_minor": 2
}
