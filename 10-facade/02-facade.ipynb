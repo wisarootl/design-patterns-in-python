{
 "cells": [
  {
   "cell_type": "code",
   "execution_count": 1,
   "metadata": {},
   "outputs": [],
   "source": [
    "class Buffer:\n",
    "  def __init__(self, width=30, height=20):\n",
    "    self.width = width\n",
    "    self.height = height\n",
    "    self.buffer = [' '] * (width*height)\n",
    "\n",
    "  def __getitem__(self, item):\n",
    "    return self.buffer.__getitem__(item)\n",
    "\n",
    "  def write(self, text):\n",
    "    self.buffer += text"
   ]
  },
  {
   "cell_type": "code",
   "execution_count": 2,
   "metadata": {},
   "outputs": [],
   "source": [
    "class Viewport:\n",
    "  def __init__(self, buffer=Buffer()):\n",
    "    self.buffer = buffer\n",
    "    self.offset = 0\n",
    "\n",
    "  def get_char_at(self, index):\n",
    "    return self.buffer[self.offset+index]\n",
    "\n",
    "  def append(self, text):\n",
    "    self.buffer += text"
   ]
  },
  {
   "cell_type": "code",
   "execution_count": 3,
   "metadata": {},
   "outputs": [],
   "source": [
    "# this is facade\n",
    "class Console:\n",
    "  def __init__(self):\n",
    "    b = Buffer()\n",
    "    self.current_viewport = Viewport(b)\n",
    "    self.buffers = [b]\n",
    "    self.viewports = [self.current_viewport]\n",
    "\n",
    "  # high-level\n",
    "  def write(self, text):\n",
    "    self.current_viewport.buffer.write(text)\n",
    "\n",
    "  # low-level\n",
    "  def get_char_at(self, index):\n",
    "    return self.current_viewport.get_char_at(index)"
   ]
  },
  {
   "cell_type": "code",
   "execution_count": 4,
   "metadata": {},
   "outputs": [],
   "source": [
    "c = Console()\n",
    "c.write('hello')\n",
    "ch = c.get_char_at(0)"
   ]
  },
  {
   "cell_type": "code",
   "execution_count": 5,
   "metadata": {},
   "outputs": [
    {
     "name": "stdout",
     "output_type": "stream",
     "text": [
      "  h e l l o\n"
     ]
    }
   ],
   "source": [
    "print(c.get_char_at(0), c.get_char_at(-5), c.get_char_at(-4), c.get_char_at(-3), c.get_char_at(-2), c.get_char_at(-1))"
   ]
  }
 ],
 "metadata": {
  "interpreter": {
   "hash": "20ac7aad763b689ebdaff2f53a3073c7ed55a0f51860968fbf5603f714378c4e"
  },
  "kernelspec": {
   "display_name": "Python 3.10.4 64-bit",
   "language": "python",
   "name": "python3"
  },
  "language_info": {
   "codemirror_mode": {
    "name": "ipython",
    "version": 3
   },
   "file_extension": ".py",
   "mimetype": "text/x-python",
   "name": "python",
   "nbconvert_exporter": "python",
   "pygments_lexer": "ipython3",
   "version": "3.10.4"
  },
  "orig_nbformat": 4
 },
 "nbformat": 4,
 "nbformat_minor": 2
}
