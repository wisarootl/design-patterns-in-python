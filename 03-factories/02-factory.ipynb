{
 "cells": [
  {
   "cell_type": "code",
   "execution_count": 1,
   "metadata": {},
   "outputs": [],
   "source": [
    "from enum import Enum\n",
    "from math import *"
   ]
  },
  {
   "cell_type": "code",
   "execution_count": 2,
   "metadata": {},
   "outputs": [],
   "source": [
    "class CoordinateSystem(Enum):\n",
    "    CARTESIAN = 1\n",
    "    POLAR = 2"
   ]
  },
  {
   "cell_type": "code",
   "execution_count": 3,
   "metadata": {},
   "outputs": [],
   "source": [
    "class Point:\n",
    "    def __init__(self, a, b, system=CoordinateSystem.CARTESIAN):\n",
    "        if system == CoordinateSystem.CARTESIAN:\n",
    "            self.x = a\n",
    "            self.y = b\n",
    "        elif system == CoordinateSystem.POLAR:\n",
    "            self.x = a * sin(b)\n",
    "            self.y = a * cos(b)\n",
    "        # steps to add a new system\n",
    "        # 1. augment CoordinateSystem\n",
    "        # 2. change init method\n",
    "\n",
    "    def __str__(self):\n",
    "        return f'x: {self.x}, y: {self.y}'\n",
    "\n",
    "    # put this one in factory class\n",
    "    @staticmethod\n",
    "    def new_cartesian_point(x, y):\n",
    "        return Point(x, y)\n",
    "\n",
    "    # put this one in factory class\n",
    "    @staticmethod\n",
    "    def new_polar_point(rho, theta):\n",
    "        return Point(rho * sin(theta), rho * cos(theta))\n",
    "\n",
    "    class Factory:\n",
    "        @staticmethod\n",
    "        def new_cartesian_point(x, y):\n",
    "            return Point(x, y)\n",
    "\n",
    "    factory = Factory()\n"
   ]
  },
  {
   "cell_type": "code",
   "execution_count": 4,
   "metadata": {},
   "outputs": [],
   "source": [
    "# take out factory methods to a separate class\n",
    "class PointFactory:\n",
    "    @staticmethod\n",
    "    def new_cartesian_point(x, y):\n",
    "        return Point(x, y)\n",
    "\n",
    "    @staticmethod\n",
    "    def new_polar_point(rho, theta):\n",
    "        return Point(rho * sin(theta), rho * cos(theta))"
   ]
  },
  {
   "cell_type": "code",
   "execution_count": 11,
   "metadata": {},
   "outputs": [
    {
     "name": "stdout",
     "output_type": "stream",
     "text": [
      "x: 2, y: 3\n",
      "x: 1, y: 2\n",
      "x: 5, y: 6\n",
      "x: 7, y: 8\n"
     ]
    }
   ],
   "source": [
    "  p1 = Point(2, 3, CoordinateSystem.CARTESIAN)\n",
    "  p2 = PointFactory.new_cartesian_point(1, 2)\n",
    "  # or you can expose factory through the type\n",
    "  p3 = Point.Factory.new_cartesian_point(5, 6)\n",
    "  p4 = Point.factory.new_cartesian_point(7, 8)\n",
    "  print('\\n'.join(map(str, [p1, p2, p3, p4])))"
   ]
  }
 ],
 "metadata": {
  "interpreter": {
   "hash": "20ac7aad763b689ebdaff2f53a3073c7ed55a0f51860968fbf5603f714378c4e"
  },
  "kernelspec": {
   "display_name": "Python 3.10.4 64-bit",
   "language": "python",
   "name": "python3"
  },
  "language_info": {
   "codemirror_mode": {
    "name": "ipython",
    "version": 3
   },
   "file_extension": ".py",
   "mimetype": "text/x-python",
   "name": "python",
   "nbconvert_exporter": "python",
   "pygments_lexer": "ipython3",
   "version": "3.10.4"
  },
  "orig_nbformat": 4
 },
 "nbformat": 4,
 "nbformat_minor": 2
}
