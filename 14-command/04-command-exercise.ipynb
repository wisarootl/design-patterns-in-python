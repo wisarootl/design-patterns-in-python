{
 "cells": [
  {
   "cell_type": "markdown",
   "metadata": {},
   "source": [
    "# Command Coding Exercise"
   ]
  },
  {
   "cell_type": "markdown",
   "metadata": {},
   "source": [
    "Implement the `Account.process()`  method to process different account commands.\n",
    "\n",
    "The rules are obvious:\n",
    "\n",
    "- success indicates whether the operation was successful\n",
    "- You can only withdraw money if you have enough in your account"
   ]
  },
  {
   "cell_type": "code",
   "execution_count": 1,
   "metadata": {},
   "outputs": [],
   "source": [
    "import unittest\n",
    "from enum import Enum"
   ]
  },
  {
   "cell_type": "code",
   "execution_count": 2,
   "metadata": {},
   "outputs": [],
   "source": [
    "class Command:\n",
    "    class Action(Enum):\n",
    "        DEPOSIT = 0\n",
    "        WITHDRAW = 1\n",
    "\n",
    "    def __init__(self, action, amount):\n",
    "        self.action = action\n",
    "        self.amount = amount\n",
    "        self.success = False\n",
    "        \n",
    "class Account:\n",
    "    def __init__(self, balance=0):\n",
    "        self.balance = balance\n",
    "\n",
    "    def process(self, command):\n",
    "        if command.action == Command.Action.DEPOSIT:\n",
    "            self.balance += command.amount\n",
    "            command.success = True\n",
    "        elif command.action == Command.Action.WITHDRAW:\n",
    "            command.success = self.balance >= command.amount\n",
    "            if command.success:\n",
    "                self.balance -= command.amount"
   ]
  },
  {
   "cell_type": "code",
   "execution_count": 3,
   "metadata": {},
   "outputs": [
    {
     "name": "stdout",
     "output_type": "stream",
     "text": [
      "100\n",
      "75\n",
      "75\n"
     ]
    }
   ],
   "source": [
    "a = Account()\n",
    "cmd = Command(Command.Action.DEPOSIT, 100)\n",
    "a.process(cmd)\n",
    "print(a.balance)\n",
    "assert a.balance == 100\n",
    "\n",
    "cmd = Command(Command.Action.WITHDRAW, 25)\n",
    "a.process(cmd)\n",
    "print(a.balance)\n",
    "assert a.balance == 75\n",
    "\n",
    "cmd.amount = 150\n",
    "a.process(cmd)\n",
    "print(a.balance)\n",
    "assert a.balance == 75"
   ]
  },
  {
   "cell_type": "code",
   "execution_count": 4,
   "metadata": {},
   "outputs": [
    {
     "name": "stderr",
     "output_type": "stream",
     "text": [
      "test (__main__.Evaluate) ... ok\n",
      "\n",
      "----------------------------------------------------------------------\n",
      "Ran 1 test in 0.003s\n",
      "\n",
      "OK\n"
     ]
    },
    {
     "name": "stdout",
     "output_type": "stream",
     "text": [
      "== deposit\n",
      "== withdraw\n",
      "== failed withdraw (withdraw > balance)\n"
     ]
    },
    {
     "data": {
      "text/plain": [
       "<unittest.main.TestProgram at 0x18c1d82a950>"
      ]
     },
     "execution_count": 4,
     "metadata": {},
     "output_type": "execute_result"
    }
   ],
   "source": [
    "class Evaluate(unittest.TestCase):\n",
    "    def test(self):\n",
    "        a = Account()\n",
    "\n",
    "        print('== deposit')\n",
    "        cmd = Command(Command.Action.DEPOSIT, 100)\n",
    "        a.process(cmd)\n",
    "\n",
    "        self.assertEqual(100, a.balance)\n",
    "        self.assertTrue(cmd.success)\n",
    "\n",
    "        print('== withdraw')\n",
    "        cmd = Command(Command.Action.WITHDRAW, 50)\n",
    "        a.process(cmd)\n",
    "\n",
    "        self.assertEqual(50, a.balance)\n",
    "        self.assertTrue(cmd.success)\n",
    "\n",
    "        print('== failed withdraw (withdraw > balance)')\n",
    "        cmd.amount = 150\n",
    "        a.process(cmd)\n",
    "\n",
    "        self.assertEqual(50, a.balance)\n",
    "        self.assertFalse(cmd.success)\n",
    "\n",
    "unittest.main(argv=['ignored', '-v'], exit=False)"
   ]
  }
 ],
 "metadata": {
  "interpreter": {
   "hash": "20ac7aad763b689ebdaff2f53a3073c7ed55a0f51860968fbf5603f714378c4e"
  },
  "kernelspec": {
   "display_name": "Python 3.10.4 64-bit",
   "language": "python",
   "name": "python3"
  },
  "language_info": {
   "codemirror_mode": {
    "name": "ipython",
    "version": 3
   },
   "file_extension": ".py",
   "mimetype": "text/x-python",
   "name": "python",
   "nbconvert_exporter": "python",
   "pygments_lexer": "ipython3",
   "version": "3.10.4"
  },
  "orig_nbformat": 4
 },
 "nbformat": 4,
 "nbformat_minor": 2
}
