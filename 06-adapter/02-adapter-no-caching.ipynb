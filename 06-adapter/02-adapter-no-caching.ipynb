{
 "cells": [
  {
   "cell_type": "code",
   "execution_count": 1,
   "metadata": {},
   "outputs": [],
   "source": [
    "class Point:\n",
    "    def __init__(self, x, y):\n",
    "        self.y = y\n",
    "        self.x = x\n",
    "\n",
    "def draw_point(p):\n",
    "    print('.', end='')\n",
    "\n",
    "# ^^ you are given this\n"
   ]
  },
  {
   "cell_type": "code",
   "execution_count": 2,
   "metadata": {},
   "outputs": [],
   "source": [
    "# vv you are working with this\n",
    "class Line:\n",
    "    def __init__(self, start, end):\n",
    "        self.end = end\n",
    "        self.start = start\n",
    "\n",
    "class Rectangle(list):\n",
    "    \"\"\" Represented as a list of lines. \"\"\"\n",
    "\n",
    "    def __init__(self, x, y, width, height):\n",
    "        super().__init__()\n",
    "        self.append(Line(Point(x, y), Point(x + width, y)))\n",
    "        self.append(Line(Point(x + width, y), Point(x + width, y + height)))\n",
    "        self.append(Line(Point(x, y), Point(x, y + height)))\n",
    "        self.append(Line(Point(x, y + height), Point(x + width, y + height)))"
   ]
  },
  {
   "cell_type": "code",
   "execution_count": 3,
   "metadata": {},
   "outputs": [],
   "source": [
    "class LineToPointAdapter(list):\n",
    "    count = 0\n",
    "\n",
    "    def __init__(self, line):\n",
    "        self.count += 1\n",
    "        print(f'{self.count}: Generating points for line '\n",
    "              f'[{line.start.x},{line.start.y}]→'\n",
    "              f'[{line.end.x},{line.end.y}]')\n",
    "\n",
    "        left = min(line.start.x, line.end.x)\n",
    "        right = max(line.start.x, line.end.x)\n",
    "        top = min(line.start.y, line.end.y)\n",
    "        bottom = min(line.start.y, line.end.y)\n",
    "\n",
    "        if right - left == 0:\n",
    "            for y in range(top, bottom):\n",
    "                self.append(Point(left, y))\n",
    "        elif line.end.y - line.start.y == 0:\n",
    "            for x in range(left, right):\n",
    "                self.append(Point(x, top))"
   ]
  },
  {
   "cell_type": "code",
   "execution_count": 4,
   "metadata": {},
   "outputs": [],
   "source": [
    "def draw(rcs):\n",
    "    print(\"\\n\\n--- Drawing some stuff ---\\n\")\n",
    "    for rc in rcs:\n",
    "        for line in rc:\n",
    "            # adapter change line to point\n",
    "            adapter = LineToPointAdapter(line)\n",
    "            for p in adapter:\n",
    "                draw_point(p)"
   ]
  },
  {
   "cell_type": "code",
   "execution_count": 5,
   "metadata": {},
   "outputs": [
    {
     "name": "stdout",
     "output_type": "stream",
     "text": [
      "\n",
      "\n",
      "--- Drawing some stuff ---\n",
      "\n",
      "1: Generating points for line [1,1]→[11,1]\n",
      "..........1: Generating points for line [11,1]→[11,11]\n",
      "1: Generating points for line [1,1]→[1,11]\n",
      "1: Generating points for line [1,11]→[11,11]\n",
      "..........1: Generating points for line [3,3]→[9,3]\n",
      "......1: Generating points for line [9,3]→[9,9]\n",
      "1: Generating points for line [3,3]→[3,9]\n",
      "1: Generating points for line [3,9]→[9,9]\n",
      "......\n",
      "\n",
      "--- Drawing some stuff ---\n",
      "\n",
      "1: Generating points for line [1,1]→[11,1]\n",
      "..........1: Generating points for line [11,1]→[11,11]\n",
      "1: Generating points for line [1,1]→[1,11]\n",
      "1: Generating points for line [1,11]→[11,11]\n",
      "..........1: Generating points for line [3,3]→[9,3]\n",
      "......1: Generating points for line [9,3]→[9,9]\n",
      "1: Generating points for line [3,3]→[3,9]\n",
      "1: Generating points for line [3,9]→[9,9]\n",
      "......"
     ]
    }
   ],
   "source": [
    "rs = [\n",
    "    Rectangle(1, 1, 10, 10),\n",
    "    Rectangle(3, 3, 6, 6)\n",
    "]\n",
    "draw(rs)\n",
    "draw(rs)"
   ]
  }
 ],
 "metadata": {
  "interpreter": {
   "hash": "3822405be9f5fb329f7270cbdcf73e762c62b3f383c5e71390a1a4648678c1cb"
  },
  "kernelspec": {
   "display_name": "Python 3.10.4 64-bit (windows store)",
   "language": "python",
   "name": "python3"
  },
  "language_info": {
   "codemirror_mode": {
    "name": "ipython",
    "version": 3
   },
   "file_extension": ".py",
   "mimetype": "text/x-python",
   "name": "python",
   "nbconvert_exporter": "python",
   "pygments_lexer": "ipython3",
   "version": "3.10.4"
  },
  "orig_nbformat": 4
 },
 "nbformat": 4,
 "nbformat_minor": 2
}
