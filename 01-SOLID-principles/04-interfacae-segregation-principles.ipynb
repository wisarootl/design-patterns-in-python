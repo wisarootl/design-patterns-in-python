{
 "cells": [
  {
   "cell_type": "markdown",
   "metadata": {},
   "source": [
    "# Interface Segregation Principles (ISP)\n",
    "\n",
    "ISP = Don't put too much into an interface; split into separate interfaces\n",
    "\n",
    "The interface segregation principle states that the interface of a program should be split in a way that the user/client would only have access to the necessary methods related to their needs.\n",
    "\n",
    "Note: Note too many method in interface"
   ]
  },
  {
   "cell_type": "markdown",
   "metadata": {},
   "source": [
    "## Bad Example"
   ]
  },
  {
   "cell_type": "code",
   "execution_count": 1,
   "metadata": {},
   "outputs": [],
   "source": [
    "class Machine:\n",
    "    def print(self, document):\n",
    "        raise NotImplementedError()\n",
    "\n",
    "    def fax(self, document):\n",
    "        raise NotImplementedError()\n",
    "\n",
    "    def scan(self, document):\n",
    "        raise NotImplementedError()"
   ]
  },
  {
   "cell_type": "code",
   "execution_count": 2,
   "metadata": {},
   "outputs": [],
   "source": [
    "\n",
    "\n",
    "# ok if you need a multifunction device\n",
    "class MultiFunctionPrinter(Machine):\n",
    "    def print(self, document):\n",
    "        pass\n",
    "\n",
    "    def fax(self, document):\n",
    "        pass\n",
    "\n",
    "    def scan(self, document):\n",
    "        pass"
   ]
  },
  {
   "cell_type": "code",
   "execution_count": 3,
   "metadata": {},
   "outputs": [],
   "source": [
    "class OldFashionedPrinter(Machine):\n",
    "    def print(self, document):\n",
    "        # ok - print stuff\n",
    "        pass\n",
    "\n",
    "    def fax(self, document):\n",
    "        pass  # do-nothing\n",
    "\n",
    "    def scan(self, document):\n",
    "        \"\"\"Not supported!\"\"\"\n",
    "        raise NotImplementedError('Printer cannot scan!')"
   ]
  },
  {
   "cell_type": "code",
   "execution_count": 4,
   "metadata": {},
   "outputs": [
    {
     "name": "stdout",
     "output_type": "stream",
     "text": [
      "Error: Printer cannot scan!\n"
     ]
    }
   ],
   "source": [
    "printer = OldFashionedPrinter()\n",
    "printer.fax(123)  # nothing happens\n",
    "try:\n",
    "  printer.scan(123)  # oops!\n",
    "except NotImplementedError:\n",
    "  print('Error: Printer cannot scan!')"
   ]
  },
  {
   "cell_type": "markdown",
   "metadata": {},
   "source": [
    "## Improved by ISP"
   ]
  },
  {
   "cell_type": "code",
   "execution_count": 5,
   "metadata": {},
   "outputs": [],
   "source": [
    "# split one large interface (Machine class) to small interface\n",
    "\n",
    "from abc import abstractmethod\n",
    "\n",
    "class Printer:\n",
    "    @abstractmethod\n",
    "    def print(self, document): pass\n",
    "\n",
    "\n",
    "class Scanner:\n",
    "    @abstractmethod\n",
    "    def scan(self, document): pass\n",
    "\n",
    "# same for Fax, etc."
   ]
  },
  {
   "cell_type": "code",
   "execution_count": 6,
   "metadata": {},
   "outputs": [],
   "source": [
    "class MyPrinter(Printer):\n",
    "    def print(self, document):\n",
    "        print(document)\n",
    "\n",
    "\n",
    "class Photocopier(Printer, Scanner):\n",
    "    def print(self, document):\n",
    "        print(document)\n",
    "\n",
    "    def scan(self, document):\n",
    "        pass  # something meaningful\n",
    "\n",
    "\n",
    "class MultiFunctionDevice(Printer, Scanner):  # , Fax, etc\n",
    "    @abstractmethod\n",
    "    def print(self, document):\n",
    "        pass\n",
    "\n",
    "    @abstractmethod\n",
    "    def scan(self, document):\n",
    "        pass"
   ]
  }
 ],
 "metadata": {
  "interpreter": {
   "hash": "20ac7aad763b689ebdaff2f53a3073c7ed55a0f51860968fbf5603f714378c4e"
  },
  "kernelspec": {
   "display_name": "Python 3.10.4 64-bit",
   "language": "python",
   "name": "python3"
  },
  "language_info": {
   "codemirror_mode": {
    "name": "ipython",
    "version": 3
   },
   "file_extension": ".py",
   "mimetype": "text/x-python",
   "name": "python",
   "nbconvert_exporter": "python",
   "pygments_lexer": "ipython3",
   "version": "3.10.4"
  },
  "orig_nbformat": 4
 },
 "nbformat": 4,
 "nbformat_minor": 2
}
