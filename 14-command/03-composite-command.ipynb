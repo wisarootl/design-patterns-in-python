{
 "cells": [
  {
   "cell_type": "code",
   "execution_count": 1,
   "metadata": {},
   "outputs": [],
   "source": [
    "import unittest\n",
    "from abc import ABC\n",
    "from enum import Enum"
   ]
  },
  {
   "cell_type": "code",
   "execution_count": 2,
   "metadata": {},
   "outputs": [],
   "source": [
    "class BankAccount:\n",
    "    OVERDRAFT_LIMIT = -500\n",
    "\n",
    "    def __init__(self, balance=0):\n",
    "        self.balance = balance\n",
    "\n",
    "    def deposit(self, amount):\n",
    "        self.balance += amount\n",
    "        print(f'Deposited {amount}, balance = {self.balance}')\n",
    "\n",
    "    def withdraw(self, amount):\n",
    "        if self.balance - amount >= BankAccount.OVERDRAFT_LIMIT:\n",
    "            self.balance -= amount\n",
    "            print(f'Withdrew {amount}, balance = {self.balance}')\n",
    "            return True\n",
    "        return False\n",
    "\n",
    "    def __str__(self):\n",
    "        return f'Balance = {self.balance}'"
   ]
  },
  {
   "cell_type": "code",
   "execution_count": 3,
   "metadata": {},
   "outputs": [],
   "source": [
    "# optional\n",
    "class Command(ABC):\n",
    "    def __init__(self):\n",
    "        self.success = False\n",
    "        \n",
    "    def invoke(self):\n",
    "        pass\n",
    "\n",
    "    def undo(self):\n",
    "        pass"
   ]
  },
  {
   "cell_type": "code",
   "execution_count": 4,
   "metadata": {},
   "outputs": [],
   "source": [
    "class BankAccountCommand(Command):\n",
    "\n",
    "    class Action(Enum):\n",
    "        DEPOSIT = 0\n",
    "        WITHDRAW = 1\n",
    "\n",
    "    def __init__(self, account, action, amount):\n",
    "        super().__init__()\n",
    "        self.amount = amount\n",
    "        self.action = action\n",
    "        self.account = account\n",
    "        # self.success = None\n",
    "\n",
    "    def invoke(self):\n",
    "        if self.action == self.Action.DEPOSIT:\n",
    "            self.account.deposit(self.amount)\n",
    "            self.success = True\n",
    "        elif self.action == self.Action.WITHDRAW:\n",
    "            self.success = self.account.withdraw(self.amount)\n",
    "\n",
    "    def undo(self):\n",
    "        if not self.success:\n",
    "            return\n",
    "        # strictly speaking this is not correct\n",
    "        # (you don't undo a deposit by withdrawing)\n",
    "        # but it works for this demo, so...\n",
    "        if self.action == self.Action.DEPOSIT:\n",
    "            self.account.withdraw(self.amount)\n",
    "        elif self.action == self.Action.WITHDRAW:\n",
    "            self.account.deposit(self.amount)"
   ]
  },
  {
   "cell_type": "code",
   "execution_count": 5,
   "metadata": {},
   "outputs": [],
   "source": [
    "# ba = BankAccount()\n",
    "# cmd = BankAccountCommand(ba, BankAccountCommand.Action.DEPOSIT, 100)\n",
    "# cmd.invoke()\n",
    "# print('After $100 deposit:', ba)\n",
    "\n",
    "# cmd.undo()\n",
    "# print('$100 deposit undone:', ba)"
   ]
  },
  {
   "cell_type": "code",
   "execution_count": 6,
   "metadata": {},
   "outputs": [],
   "source": [
    "# illegal_cmd = BankAccountCommand(ba, BankAccountCommand.Action.WITHDRAW, 1000)\n",
    "# illegal_cmd.invoke()\n",
    "# print('After impossible withdrawal:', ba)\n",
    "# illegal_cmd.undo()\n",
    "# print('After undo:', ba)"
   ]
  },
  {
   "cell_type": "code",
   "execution_count": 7,
   "metadata": {},
   "outputs": [],
   "source": [
    "# try using this before using MoneyTransferCommand!\n",
    "class CompositeBankAccountCommand(Command, list):\n",
    "    def __init__(self, items=[]):\n",
    "        super().__init__()\n",
    "        for i in items:\n",
    "            self.append(i)\n",
    "\n",
    "    def invoke(self):\n",
    "        for x in self:\n",
    "            x.invoke()\n",
    "\n",
    "    def undo(self):\n",
    "        for x in reversed(self):\n",
    "            x.undo()"
   ]
  },
  {
   "cell_type": "code",
   "execution_count": 8,
   "metadata": {},
   "outputs": [],
   "source": [
    "class MoneyTransferCommand(CompositeBankAccountCommand):\n",
    "    def __init__(self, from_acct, to_acct, amount):\n",
    "        super().__init__([\n",
    "            BankAccountCommand(from_acct,\n",
    "                               BankAccountCommand.Action.WITHDRAW,\n",
    "                               amount),\n",
    "            BankAccountCommand(to_acct,\n",
    "                               BankAccountCommand.Action.DEPOSIT,\n",
    "                               amount)])\n",
    "\n",
    "    def invoke(self):\n",
    "        ok = True\n",
    "        for cmd in self:\n",
    "            if ok:\n",
    "                cmd.invoke()\n",
    "                ok = cmd.success\n",
    "            else:\n",
    "                cmd.success = False\n",
    "        self.success = ok\n"
   ]
  },
  {
   "cell_type": "code",
   "execution_count": 10,
   "metadata": {},
   "outputs": [
    {
     "name": "stderr",
     "output_type": "stream",
     "text": [
      "test_better_transfer (__main__.TestSuite) ... ok\n",
      "test_composite_deposit (__main__.TestSuite) ... ok\n",
      "test_transfer_fail (__main__.TestSuite) ... ok\n",
      "\n",
      "----------------------------------------------------------------------\n",
      "Ran 3 tests in 0.004s\n",
      "\n",
      "OK\n"
     ]
    },
    {
     "name": "stdout",
     "output_type": "stream",
     "text": [
      "\n",
      "===test_better_transfer===\n",
      "Withdrew 50, balance = 50\n",
      "Deposited 50, balance = 50\n",
      "ba1: Balance = 50 ba2: Balance = 50\n",
      "Withdrew 50, balance = 0\n",
      "Deposited 50, balance = 100\n",
      "ba1: Balance = 100 ba2: Balance = 0\n",
      "True\n",
      "\n",
      "===test_composite_deposit===\n",
      "Deposited 1000, balance = 1000\n",
      "Deposited 500, balance = 1500\n",
      "Balance = 1500\n",
      "Withdrew 500, balance = 1000\n",
      "Withdrew 1000, balance = 0\n",
      "Balance = 0\n",
      "\n",
      "===test_transfer_fail===\n",
      "Deposited 1000, balance = 1000\n",
      "ba1: Balance = 100 ba2: Balance = 1000\n",
      "Withdrew 1000, balance = 0\n",
      "ba1: Balance = 100 ba2: Balance = 0\n"
     ]
    },
    {
     "data": {
      "text/plain": [
       "<unittest.main.TestProgram at 0x1e61a85ef80>"
      ]
     },
     "execution_count": 10,
     "metadata": {},
     "output_type": "execute_result"
    }
   ],
   "source": [
    "class TestSuite(unittest.TestCase):\n",
    "    def test_composite_deposit(self):\n",
    "        print('\\n===test_composite_deposit===')\n",
    "        ba = BankAccount()\n",
    "        deposit1 = BankAccountCommand(ba, BankAccountCommand.Action.DEPOSIT, 1000)\n",
    "        deposit2 = BankAccountCommand(ba, BankAccountCommand.Action.DEPOSIT, 500)\n",
    "        composite = CompositeBankAccountCommand([deposit1, deposit2])\n",
    "        composite.invoke()\n",
    "        print(ba)\n",
    "        composite.undo()\n",
    "        print(ba)\n",
    "\n",
    "    def test_transfer_fail(self):\n",
    "        print('\\n===test_transfer_fail===')\n",
    "        ba1 = BankAccount(100)\n",
    "        ba2 = BankAccount()\n",
    "\n",
    "        # composite isn't so good because of failure\n",
    "        amount = 1000  # try 1000: no transactions should happen\n",
    "        wc = BankAccountCommand(ba1, BankAccountCommand.Action.WITHDRAW, amount)\n",
    "        dc = BankAccountCommand(ba2, BankAccountCommand.Action.DEPOSIT, amount)\n",
    "\n",
    "        transfer = CompositeBankAccountCommand([wc, dc])\n",
    "\n",
    "        transfer.invoke()\n",
    "        print('ba1:', ba1, 'ba2:', ba2)  # end up in incorrect state\n",
    "        transfer.undo()\n",
    "        print('ba1:', ba1, 'ba2:', ba2)\n",
    "\n",
    "    def test_better_transfer(self):\n",
    "        print('\\n===test_better_transfer===')\n",
    "        ba1 = BankAccount(100)\n",
    "        ba2 = BankAccount()\n",
    "\n",
    "        amount = 50\n",
    "\n",
    "        transfer = MoneyTransferCommand(ba1, ba2, amount)\n",
    "        transfer.invoke()\n",
    "        print('ba1:', ba1, 'ba2:', ba2)\n",
    "        transfer.undo()\n",
    "        print('ba1:', ba1, 'ba2:', ba2)\n",
    "        print(transfer.success)\n",
    "\n",
    "unittest.main(argv=['ignored', '-v'], exit=False)"
   ]
  }
 ],
 "metadata": {
  "interpreter": {
   "hash": "20ac7aad763b689ebdaff2f53a3073c7ed55a0f51860968fbf5603f714378c4e"
  },
  "kernelspec": {
   "display_name": "Python 3.10.4 64-bit",
   "language": "python",
   "name": "python3"
  },
  "language_info": {
   "codemirror_mode": {
    "name": "ipython",
    "version": 3
   },
   "file_extension": ".py",
   "mimetype": "text/x-python",
   "name": "python",
   "nbconvert_exporter": "python",
   "pygments_lexer": "ipython3",
   "version": "3.10.4"
  },
  "orig_nbformat": 4
 },
 "nbformat": 4,
 "nbformat_minor": 2
}
