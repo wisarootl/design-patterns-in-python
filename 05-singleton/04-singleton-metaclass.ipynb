{
 "cells": [
  {
   "cell_type": "code",
   "execution_count": 20,
   "metadata": {},
   "outputs": [],
   "source": [
    "# A class defines how an instance of the class (i.e. an object) behaves \n",
    "# while a metaclass defines how a class behaves. \n",
    "# A class is an instance of a metaclass.\n",
    "\n",
    "class Singleton(type):\n",
    "    \"\"\" Metaclass that creates a Singleton base type when called. \"\"\"\n",
    "    _instances = {}\n",
    "\n",
    "    def __call__(cls, *args, **kwargs):\n",
    "        # print(1)\n",
    "        print(cls._instances)\n",
    "        if cls not in cls._instances:\n",
    "            cls._instances[cls] = super(Singleton, cls)\\\n",
    "                .__call__(*args, **kwargs)\n",
    "        return cls._instances[cls]"
   ]
  },
  {
   "cell_type": "code",
   "execution_count": 21,
   "metadata": {},
   "outputs": [],
   "source": [
    "class Database(metaclass=Singleton):\n",
    "\n",
    "    # initialize get called only once.\n",
    "    # Therefore, metaclass is proper approach to implement singleton\n",
    "    def __init__(self):\n",
    "        print('Loading database')"
   ]
  },
  {
   "cell_type": "code",
   "execution_count": 22,
   "metadata": {},
   "outputs": [
    {
     "name": "stdout",
     "output_type": "stream",
     "text": [
      "{}\n",
      "Loading database\n",
      "{<class '__main__.Database'>: <__main__.Database object at 0x000001E941D6BBE0>}\n",
      "True\n"
     ]
    }
   ],
   "source": [
    "d1 = Database()\n",
    "d2 = Database()\n",
    "print(d1 == d2)"
   ]
  }
 ],
 "metadata": {
  "interpreter": {
   "hash": "20ac7aad763b689ebdaff2f53a3073c7ed55a0f51860968fbf5603f714378c4e"
  },
  "kernelspec": {
   "display_name": "Python 3.10.4 64-bit",
   "language": "python",
   "name": "python3"
  },
  "language_info": {
   "codemirror_mode": {
    "name": "ipython",
    "version": 3
   },
   "file_extension": ".py",
   "mimetype": "text/x-python",
   "name": "python",
   "nbconvert_exporter": "python",
   "pygments_lexer": "ipython3",
   "version": "3.10.4"
  },
  "orig_nbformat": 4
 },
 "nbformat": 4,
 "nbformat_minor": 2
}
