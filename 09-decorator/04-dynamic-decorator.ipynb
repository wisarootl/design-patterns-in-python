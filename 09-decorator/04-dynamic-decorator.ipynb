{
 "cells": [
  {
   "cell_type": "code",
   "execution_count": 8,
   "metadata": {},
   "outputs": [],
   "source": [
    "class FileWithLogging:\n",
    "    def __init__(self, file):\n",
    "        self.file = file\n",
    "\n",
    "    def writelines(self, strings):\n",
    "        self.file.writelines(strings)\n",
    "        print(f'wrote {len(strings)} lines')\n",
    "\n",
    "    def __iter__(self):\n",
    "        return self.file.__iter__()\n",
    "\n",
    "    def __next__(self):\n",
    "        return self.file.__next__()\n",
    "\n",
    "    def __getattr__(self, item):\n",
    "        return getattr(self.__dict__['file'], item)\n",
    "\n",
    "    def __setattr__(self, key, value):\n",
    "        if key == 'file':\n",
    "            self.__dict__[key] = value\n",
    "        else:\n",
    "            setattr(self.__dict__['file'], key)\n",
    "\n",
    "    def __delattr__(self, item):\n",
    "        delattr(self.__dict__['file'], item)\n"
   ]
  },
  {
   "cell_type": "code",
   "execution_count": 22,
   "metadata": {},
   "outputs": [
    {
     "name": "stdout",
     "output_type": "stream",
     "text": [
      "wrote 2 lines\n"
     ]
    }
   ],
   "source": [
    "file = FileWithLogging(open('hello.txt', 'w'))\n",
    "file.writelines(['hello', 'world'])\n",
    "file.write('testing') # called __getattr__\n",
    "# equivalent to ..\n",
    "# file.__dict__['file'].write('testing')\n",
    "file.close()"
   ]
  },
  {
   "cell_type": "code",
   "execution_count": 16,
   "metadata": {},
   "outputs": [
    {
     "data": {
      "text/plain": [
       "<function TextIOWrapper.write(text, /)>"
      ]
     },
     "execution_count": 16,
     "metadata": {},
     "output_type": "execute_result"
    }
   ],
   "source": [
    "file.write"
   ]
  },
  {
   "cell_type": "code",
   "execution_count": 18,
   "metadata": {},
   "outputs": [
    {
     "data": {
      "text/plain": [
       "<function TextIOWrapper.write(text, /)>"
      ]
     },
     "execution_count": 18,
     "metadata": {},
     "output_type": "execute_result"
    }
   ],
   "source": [
    "file.__dict__['file'].write"
   ]
  }
 ],
 "metadata": {
  "interpreter": {
   "hash": "20ac7aad763b689ebdaff2f53a3073c7ed55a0f51860968fbf5603f714378c4e"
  },
  "kernelspec": {
   "display_name": "Python 3.10.4 64-bit",
   "language": "python",
   "name": "python3"
  },
  "language_info": {
   "codemirror_mode": {
    "name": "ipython",
    "version": 3
   },
   "file_extension": ".py",
   "mimetype": "text/x-python",
   "name": "python",
   "nbconvert_exporter": "python",
   "pygments_lexer": "ipython3",
   "version": "3.10.4"
  },
  "orig_nbformat": 4
 },
 "nbformat": 4,
 "nbformat_minor": 2
}
