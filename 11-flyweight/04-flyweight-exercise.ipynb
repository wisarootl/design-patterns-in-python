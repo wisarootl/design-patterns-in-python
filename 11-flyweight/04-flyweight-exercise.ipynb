{
 "cells": [
  {
   "cell_type": "markdown",
   "metadata": {},
   "source": [
    "# Flyweight Coding Exercise"
   ]
  },
  {
   "cell_type": "markdown",
   "metadata": {},
   "source": [
    "You are given a class called `Sentence`, which takes a string such as `'hello world'`. You need to provide an interface such that the indexer returns a flyweight that can be used to capitalize a particular word in the sentence.\n",
    "\n",
    "Typical use would be something like:\n",
    "```python\n",
    "sentence = Sentence('hello world')\n",
    "sentence[1].capitalize = True\n",
    "print(sentence)  # writes \"hello WORLD\"\n",
    "```"
   ]
  },
  {
   "cell_type": "code",
   "execution_count": 1,
   "metadata": {},
   "outputs": [],
   "source": [
    "import unittest"
   ]
  },
  {
   "cell_type": "code",
   "execution_count": 2,
   "metadata": {},
   "outputs": [],
   "source": [
    "class Sentence:\n",
    "    def __init__(self, plain_text):\n",
    "        self.words = plain_text.split(' ')\n",
    "        self.tokens = {}\n",
    "\n",
    "    def __getitem__(self, item):\n",
    "        if item not in self.tokens:\n",
    "            wt = self.WordToken()\n",
    "            self.tokens[item] = wt\n",
    "        return self.tokens[item]\n",
    "\n",
    "    class WordToken:\n",
    "        def __init__(self, capitalize=False):\n",
    "            self.capitalize = capitalize\n",
    "\n",
    "    def __str__(self):\n",
    "        result = []\n",
    "        for i in range(len(self.words)):\n",
    "            w = self.words[i]\n",
    "            if i in self.tokens and self.tokens[i].capitalize:\n",
    "                w = w.upper()\n",
    "            result.append(w)\n",
    "        return ' '.join(result)"
   ]
  },
  {
   "cell_type": "code",
   "execution_count": 3,
   "metadata": {},
   "outputs": [
    {
     "name": "stdout",
     "output_type": "stream",
     "text": [
      "alpha BETA gamma\n"
     ]
    }
   ],
   "source": [
    "s = Sentence('alpha beta gamma')\n",
    "s[1].capitalize = True\n",
    "print(s)"
   ]
  },
  {
   "cell_type": "code",
   "execution_count": 4,
   "metadata": {},
   "outputs": [
    {
     "name": "stderr",
     "output_type": "stream",
     "text": [
      "test_exercise (__main__.Evaluate) ... ok\n",
      "\n",
      "----------------------------------------------------------------------\n",
      "Ran 1 test in 0.004s\n",
      "\n",
      "OK\n"
     ]
    },
    {
     "data": {
      "text/plain": [
       "<unittest.main.TestProgram at 0x26c60557760>"
      ]
     },
     "execution_count": 4,
     "metadata": {},
     "output_type": "execute_result"
    }
   ],
   "source": [
    "class Evaluate(unittest.TestCase):\n",
    "    def test_exercise(self):\n",
    "        s = Sentence('alpha beta gamma')\n",
    "        s[1].capitalize = True\n",
    "        self.assertEqual(str(s), 'alpha BETA gamma')\n",
    "\n",
    "unittest.main(argv=['ignored', '-v'], exit=False)"
   ]
  }
 ],
 "metadata": {
  "interpreter": {
   "hash": "20ac7aad763b689ebdaff2f53a3073c7ed55a0f51860968fbf5603f714378c4e"
  },
  "kernelspec": {
   "display_name": "Python 3.10.4 64-bit",
   "language": "python",
   "name": "python3"
  },
  "language_info": {
   "codemirror_mode": {
    "name": "ipython",
    "version": 3
   },
   "file_extension": ".py",
   "mimetype": "text/x-python",
   "name": "python",
   "nbconvert_exporter": "python",
   "pygments_lexer": "ipython3",
   "version": "3.10.4"
  },
  "orig_nbformat": 4
 },
 "nbformat": 4,
 "nbformat_minor": 2
}
