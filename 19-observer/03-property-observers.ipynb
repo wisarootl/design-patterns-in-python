{
 "cells": [
  {
   "cell_type": "code",
   "execution_count": 1,
   "metadata": {},
   "outputs": [],
   "source": [
    "class Event(list):\n",
    "  def __call__(self, *args, **kwargs):\n",
    "    for item in self:\n",
    "      item(*args, **kwargs)\n",
    "\n",
    "# to observe whn property change\n",
    "class PropertyObservable:\n",
    "  def __init__(self):\n",
    "    self.property_changed = Event()\n"
   ]
  },
  {
   "cell_type": "code",
   "execution_count": 2,
   "metadata": {},
   "outputs": [],
   "source": [
    "class Person(PropertyObservable):\n",
    "  def __init__(self, age=0):\n",
    "    super().__init__()\n",
    "    self._age = age\n",
    "\n",
    "  @property\n",
    "  def age(self):\n",
    "    return self._age\n",
    "\n",
    "  @age.setter\n",
    "  def age(self, value):\n",
    "    if self._age == value:\n",
    "      return\n",
    "    self._age = value\n",
    "    self.property_changed('age', value)"
   ]
  },
  {
   "cell_type": "code",
   "execution_count": 3,
   "metadata": {},
   "outputs": [],
   "source": [
    "class TrafficAuthority:\n",
    "  def __init__(self, person):\n",
    "    self.person = person\n",
    "    person.property_changed.append(self.person_changed)\n",
    "\n",
    "  def person_changed(self, name, value):\n",
    "    if name == 'age':\n",
    "      if value < 16:\n",
    "        print('Sorry, you still cannot drive')\n",
    "      else:\n",
    "        print('Okay, you can drive now')\n",
    "        \n",
    "        # unsubscribe\n",
    "        self.person.property_changed.remove(\n",
    "          self.person_changed\n",
    "        )"
   ]
  },
  {
   "cell_type": "code",
   "execution_count": 4,
   "metadata": {},
   "outputs": [
    {
     "name": "stdout",
     "output_type": "stream",
     "text": [
      "Setting age to 14\n",
      "Sorry, you still cannot drive\n",
      "Setting age to 15\n",
      "Sorry, you still cannot drive\n",
      "Setting age to 16\n",
      "Okay, you can drive now\n",
      "Setting age to 17\n",
      "Setting age to 18\n",
      "Setting age to 19\n"
     ]
    }
   ],
   "source": [
    "p = Person()\n",
    "ta = TrafficAuthority(p)\n",
    "for age in range(14, 20):\n",
    "  print(f'Setting age to {age}')\n",
    "  p.age = age"
   ]
  }
 ],
 "metadata": {
  "interpreter": {
   "hash": "20ac7aad763b689ebdaff2f53a3073c7ed55a0f51860968fbf5603f714378c4e"
  },
  "kernelspec": {
   "display_name": "Python 3.10.4 64-bit",
   "language": "python",
   "name": "python3"
  },
  "language_info": {
   "codemirror_mode": {
    "name": "ipython",
    "version": 3
   },
   "file_extension": ".py",
   "mimetype": "text/x-python",
   "name": "python",
   "nbconvert_exporter": "python",
   "pygments_lexer": "ipython3",
   "version": "3.10.4"
  },
  "orig_nbformat": 4
 },
 "nbformat": 4,
 "nbformat_minor": 2
}
