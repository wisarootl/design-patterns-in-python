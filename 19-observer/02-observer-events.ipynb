{
 "cells": [
  {
   "cell_type": "code",
   "execution_count": 1,
   "metadata": {},
   "outputs": [],
   "source": [
    "# event is a list\n",
    "class Event(list):\n",
    "    def __call__(self, *args, **kwargs):\n",
    "        for item in self:\n",
    "            item(*args, **kwargs)"
   ]
  },
  {
   "cell_type": "code",
   "execution_count": 2,
   "metadata": {},
   "outputs": [],
   "source": [
    "class Person:\n",
    "    def __init__(self, name, address):\n",
    "        self.name = name\n",
    "        self.address = address\n",
    "        self.falls_ill = Event()\n",
    "\n",
    "    def catch_a_cold(self):\n",
    "        self.falls_ill(self.name, self.address)"
   ]
  },
  {
   "cell_type": "code",
   "execution_count": 3,
   "metadata": {},
   "outputs": [],
   "source": [
    "def call_doctor(name, address):\n",
    "    print(f'A doctor has been called to {address}')"
   ]
  },
  {
   "cell_type": "code",
   "execution_count": 9,
   "metadata": {},
   "outputs": [
    {
     "name": "stdout",
     "output_type": "stream",
     "text": [
      "== person catch a cold ==\n",
      "Sherlock is ill\n",
      "A doctor has been called to 221B Baker St\n"
     ]
    }
   ],
   "source": [
    "person = Person('Sherlock', '221B Baker St')\n",
    "person.falls_ill.append(lambda name, addr: print(f'{name} is ill'))\n",
    "person.falls_ill.append(call_doctor)\n",
    "\n",
    "print('== person catch a cold ==')\n",
    "person.catch_a_cold()"
   ]
  },
  {
   "cell_type": "code",
   "execution_count": 10,
   "metadata": {},
   "outputs": [
    {
     "name": "stdout",
     "output_type": "stream",
     "text": [
      "Sherlock is ill\n",
      "A doctor has been called to 221B Baker St\n"
     ]
    }
   ],
   "source": [
    "person.catch_a_cold()"
   ]
  },
  {
   "cell_type": "code",
   "execution_count": 11,
   "metadata": {},
   "outputs": [
    {
     "name": "stdout",
     "output_type": "stream",
     "text": [
      "== unsubscribe ==\n",
      "Sherlock is ill\n"
     ]
    }
   ],
   "source": [
    "print('== unsubscribe ==')\n",
    "person.falls_ill.remove(call_doctor)\n",
    "person.catch_a_cold()"
   ]
  }
 ],
 "metadata": {
  "interpreter": {
   "hash": "20ac7aad763b689ebdaff2f53a3073c7ed55a0f51860968fbf5603f714378c4e"
  },
  "kernelspec": {
   "display_name": "Python 3.10.4 64-bit",
   "language": "python",
   "name": "python3"
  },
  "language_info": {
   "codemirror_mode": {
    "name": "ipython",
    "version": 3
   },
   "file_extension": ".py",
   "mimetype": "text/x-python",
   "name": "python",
   "nbconvert_exporter": "python",
   "pygments_lexer": "ipython3",
   "version": "3.10.4"
  },
  "orig_nbformat": 4
 },
 "nbformat": 4,
 "nbformat_minor": 2
}
