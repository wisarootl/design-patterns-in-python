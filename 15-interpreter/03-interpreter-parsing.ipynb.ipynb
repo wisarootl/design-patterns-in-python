{
 "cells": [
  {
   "cell_type": "markdown",
   "metadata": {},
   "source": [
    "# Lexing"
   ]
  },
  {
   "cell_type": "code",
   "execution_count": 1,
   "metadata": {},
   "outputs": [],
   "source": [
    "from enum import Enum, auto"
   ]
  },
  {
   "cell_type": "code",
   "execution_count": 2,
   "metadata": {},
   "outputs": [],
   "source": [
    "class Token:\n",
    "    class Type(Enum):\n",
    "        INTEGER = auto()\n",
    "        PLUS = auto()\n",
    "        MINUS = auto()\n",
    "        LPAREN = auto()\n",
    "        RPAREN = auto()\n",
    "\n",
    "    def __init__(self, type, text):\n",
    "        self.type = type\n",
    "        self.text = text\n",
    "\n",
    "    def __str__(self):\n",
    "        return f'`{self.text}`'\n"
   ]
  },
  {
   "cell_type": "code",
   "execution_count": 3,
   "metadata": {},
   "outputs": [],
   "source": [
    "def lex(input):\n",
    "    result = []\n",
    "\n",
    "    i = 0\n",
    "    while i < len(input):\n",
    "        if input[i] == '+':\n",
    "            result.append(Token(Token.Type.PLUS, '+'))\n",
    "        elif input[i] == '-':\n",
    "            result.append(Token(Token.Type.MINUS, '-'))\n",
    "        elif input[i] == '(':\n",
    "            result.append(Token(Token.Type.LPAREN, '('))\n",
    "        elif input[i] == ')':\n",
    "            result.append(Token(Token.Type.RPAREN, ')'))\n",
    "        else:  # must be a number\n",
    "            digits = [input[i]]\n",
    "            for j in range(i + 1, len(input)):\n",
    "                if input[j].isdigit():\n",
    "                    digits.append(input[j])\n",
    "                    i += 1\n",
    "                else:\n",
    "                    result.append(Token(Token.Type.INTEGER,\n",
    "                                        ''.join(digits)))\n",
    "                    break\n",
    "        i += 1\n",
    "\n",
    "    return result"
   ]
  },
  {
   "cell_type": "code",
   "execution_count": 4,
   "metadata": {},
   "outputs": [],
   "source": [
    "def calc(input):\n",
    "  tokens = lex(input)\n",
    "  print(' '.join(map(str, tokens)))\n"
   ]
  },
  {
   "cell_type": "code",
   "execution_count": 5,
   "metadata": {},
   "outputs": [
    {
     "name": "stdout",
     "output_type": "stream",
     "text": [
      "`(` `13` `+` `4` `)` `-` `(` `12` `+` `1` `)`\n"
     ]
    }
   ],
   "source": [
    "calc('(13+4)-(12+1)')"
   ]
  },
  {
   "cell_type": "markdown",
   "metadata": {},
   "source": [
    "# Parsing"
   ]
  },
  {
   "cell_type": "code",
   "execution_count": 6,
   "metadata": {},
   "outputs": [],
   "source": [
    "class Integer:\n",
    "    def __init__(self, value):\n",
    "        self.value = value"
   ]
  },
  {
   "cell_type": "code",
   "execution_count": 7,
   "metadata": {},
   "outputs": [],
   "source": [
    "class BinaryOperation:\n",
    "    class Type(Enum):\n",
    "        ADDITION = auto()\n",
    "        SUBTRACTION = auto()\n",
    "\n",
    "    def __init__(self):\n",
    "        self.type = None\n",
    "        self.left = None\n",
    "        self.right = None\n",
    "\n",
    "    @property\n",
    "    def value(self):\n",
    "        if self.type == self.Type.ADDITION:\n",
    "            return self.left.value + self.right.value\n",
    "        elif self.type == self.Type.SUBTRACTION:\n",
    "            return self.left.value - self.right.value"
   ]
  },
  {
   "cell_type": "code",
   "execution_count": 8,
   "metadata": {},
   "outputs": [],
   "source": [
    "def parse(tokens):\n",
    "    result = BinaryOperation()\n",
    "    # lhs = left hand side\n",
    "    have_lhs = False\n",
    "    i = 0\n",
    "    while i < len(tokens):\n",
    "        token = tokens[i]\n",
    "\n",
    "        if token.type == Token.Type.INTEGER:\n",
    "            integer = Integer(int(token.text))\n",
    "            if not have_lhs:\n",
    "                result.left = integer\n",
    "                have_lhs = True\n",
    "            else:\n",
    "                result.right = integer\n",
    "        elif token.type == Token.Type.PLUS:\n",
    "            result.type = BinaryOperation.Type.ADDITION\n",
    "        elif token.type == Token.Type.MINUS:\n",
    "            result.type = BinaryOperation.Type.SUBTRACTION\n",
    "        elif token.type == Token.Type.LPAREN:  # note: no if for RPAREN\n",
    "            j = i\n",
    "            while j < len(tokens):\n",
    "                if tokens[j].type == Token.Type.RPAREN:\n",
    "                    break\n",
    "                j += 1\n",
    "            # preprocess subexpression\n",
    "            subexpression = tokens[i + 1:j]\n",
    "            element = parse(subexpression)\n",
    "            if not have_lhs:\n",
    "                result.left = element\n",
    "                have_lhs = True\n",
    "            else:\n",
    "                result.right = element\n",
    "            i = j  # advance\n",
    "        i += 1\n",
    "    return result"
   ]
  },
  {
   "cell_type": "code",
   "execution_count": 9,
   "metadata": {},
   "outputs": [],
   "source": [
    "def calc(input):\n",
    "  tokens = lex(input)\n",
    "  # print(' '.join(map(str, tokens)))\n",
    "\n",
    "  # parse into binary tree\n",
    "  parsed = parse(tokens)\n",
    "  print(f'{input} = {parsed.value}')\n"
   ]
  },
  {
   "cell_type": "code",
   "execution_count": 10,
   "metadata": {},
   "outputs": [
    {
     "name": "stdout",
     "output_type": "stream",
     "text": [
      "(13+4)-(12+1) = 4\n"
     ]
    }
   ],
   "source": [
    "calc('(13+4)-(12+1)')"
   ]
  },
  {
   "cell_type": "code",
   "execution_count": 11,
   "metadata": {},
   "outputs": [
    {
     "name": "stdout",
     "output_type": "stream",
     "text": [
      "1+(3-4) = 0\n"
     ]
    }
   ],
   "source": [
    "calc('1+(3-4)')"
   ]
  },
  {
   "cell_type": "code",
   "execution_count": 12,
   "metadata": {},
   "outputs": [
    {
     "name": "stdout",
     "output_type": "stream",
     "text": [
      "1+2+(3-4) = 0\n"
     ]
    }
   ],
   "source": [
    "# this won't work\n",
    "calc('1+2+(3-4)')"
   ]
  }
 ],
 "metadata": {
  "interpreter": {
   "hash": "20ac7aad763b689ebdaff2f53a3073c7ed55a0f51860968fbf5603f714378c4e"
  },
  "kernelspec": {
   "display_name": "Python 3.10.4 64-bit",
   "language": "python",
   "name": "python3"
  },
  "language_info": {
   "codemirror_mode": {
    "name": "ipython",
    "version": 3
   },
   "file_extension": ".py",
   "mimetype": "text/x-python",
   "name": "python",
   "nbconvert_exporter": "python",
   "pygments_lexer": "ipython3",
   "version": "3.10.4"
  },
  "orig_nbformat": 4
 },
 "nbformat": 4,
 "nbformat_minor": 2
}
