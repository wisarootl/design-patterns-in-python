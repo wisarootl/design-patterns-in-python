{
 "cells": [
  {
   "cell_type": "markdown",
   "metadata": {},
   "source": [
    "# Prototype Coding Exercise"
   ]
  },
  {
   "cell_type": "markdown",
   "metadata": {},
   "source": [
    "Given the definitions shown in code, you are asked to implement `Line.deep_copy()`  to perform a deep copy of the given `Line` object. This method should return a copy of a Line that contains copies of its start/end points.\n",
    "\n",
    "Note: please do not confuse `deep_copy()` with `__deepcopy__()`"
   ]
  },
  {
   "cell_type": "code",
   "execution_count": 1,
   "metadata": {},
   "outputs": [],
   "source": [
    "from unittest import TestCase\n",
    "import copy"
   ]
  },
  {
   "cell_type": "code",
   "execution_count": 2,
   "metadata": {},
   "outputs": [],
   "source": [
    "class Point:\n",
    "    def __init__(self, x=0, y=0):\n",
    "        self.x = x\n",
    "        self.y = y\n",
    "\n",
    "class Line:\n",
    "    def __init__(self, start=Point(), end=Point()):\n",
    "        self.start = start\n",
    "        self.end = end\n",
    "\n",
    "    def deep_copy(self):\n",
    "        # return copy.deepcopy(self)\n",
    "        # equivalent to ...\n",
    "        new_start = Point(self.start.x, self.start.y)\n",
    "        new_end = Point(self.end.x, self.end.y)\n",
    "        return Line(new_start, new_end)"
   ]
  },
  {
   "cell_type": "code",
   "execution_count": 3,
   "metadata": {},
   "outputs": [],
   "source": [
    "line1 = Line(\n",
    "            Point(3, 3),\n",
    "            Point(10, 10)\n",
    "        )\n",
    "line2 = line1.deep_copy()"
   ]
  },
  {
   "cell_type": "code",
   "execution_count": 4,
   "metadata": {},
   "outputs": [],
   "source": [
    "line1.start.x = line1.end.x = line1.start.y = line1.end.y = 0"
   ]
  },
  {
   "cell_type": "code",
   "execution_count": 5,
   "metadata": {},
   "outputs": [
    {
     "name": "stdout",
     "output_type": "stream",
     "text": [
      "3 3\n",
      "10 10\n"
     ]
    }
   ],
   "source": [
    "print(line2.start.x, line2.start.y)\n",
    "print(line2.end.x, line2.end.y)"
   ]
  },
  {
   "cell_type": "code",
   "execution_count": 13,
   "metadata": {},
   "outputs": [
    {
     "name": "stdout",
     "output_type": "stream",
     "text": [
      "pass test\n"
     ]
    }
   ],
   "source": [
    "class Evaluate(TestCase):\n",
    "    def test_exercise(self):\n",
    "        line1 = Line(\n",
    "            Point(3, 3),\n",
    "            Point(10, 10)\n",
    "        )\n",
    "        line2 = line1.deep_copy()\n",
    "        line1.start.x = line1.end.x = line1.start.y = line1.end.y = 0\n",
    "\n",
    "        self.assertEqual(3, line2.start.x)\n",
    "        self.assertEqual(3, line2.start.y)\n",
    "        self.assertEqual(10, line2.end.x)\n",
    "        self.assertEqual(10, line2.end.y)\n",
    "        print('pass test')\n",
    "\n",
    "Evaluate().test_exercise()"
   ]
  }
 ],
 "metadata": {
  "interpreter": {
   "hash": "20ac7aad763b689ebdaff2f53a3073c7ed55a0f51860968fbf5603f714378c4e"
  },
  "kernelspec": {
   "display_name": "Python 3.10.4 64-bit",
   "language": "python",
   "name": "python3"
  },
  "language_info": {
   "codemirror_mode": {
    "name": "ipython",
    "version": 3
   },
   "file_extension": ".py",
   "mimetype": "text/x-python",
   "name": "python",
   "nbconvert_exporter": "python",
   "pygments_lexer": "ipython3",
   "version": "3.10.4"
  },
  "orig_nbformat": 4
 },
 "nbformat": 4,
 "nbformat_minor": 2
}
