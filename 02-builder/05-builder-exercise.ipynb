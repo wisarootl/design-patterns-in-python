{
 "cells": [
  {
   "cell_type": "markdown",
   "metadata": {},
   "source": [
    "# Builder Coding Exercise"
   ]
  },
  {
   "cell_type": "markdown",
   "metadata": {},
   "source": [
    "You are asked to implement the Builder design pattern for rendering simple chunks of code.\n",
    "\n",
    "Sample use of the builder you are asked to create:\n",
    "\n",
    "```python\n",
    "cb = CodeBuilder('Person').add_field('name', '\"\"') \\\n",
    "                          .add_field('age', '0')\n",
    "print(cb)\n",
    "```\n",
    "\n",
    "The expected output of the above code is:\n",
    "```python\n",
    "class Person:\n",
    "  def __init__(self):\n",
    "    self.name = \"\"\n",
    "    self.age = 0\n",
    "```\n",
    "\n",
    "Please observe the same placement of spaces and indentation."
   ]
  },
  {
   "cell_type": "markdown",
   "metadata": {},
   "source": [
    "## Solution"
   ]
  },
  {
   "cell_type": "code",
   "execution_count": 1,
   "metadata": {},
   "outputs": [],
   "source": [
    "class Class:\n",
    "    def __init__(self, name):\n",
    "        self.name = name\n",
    "        self.fields = []\n",
    "\n",
    "    def __str__(self):\n",
    "        lines = [f'class {self.name}:']\n",
    "        if not self.fields:\n",
    "            lines.append('  pass')\n",
    "        else:\n",
    "            lines.append('  def __init__(self):')\n",
    "            for f in self.fields:\n",
    "                lines.append(f'    {f}')\n",
    "        return '\\n'.join(lines)"
   ]
  },
  {
   "cell_type": "code",
   "execution_count": 2,
   "metadata": {},
   "outputs": [],
   "source": [
    "class Field:\n",
    "    def __init__(self, name, value):\n",
    "        self.value = value\n",
    "        self.name = name\n",
    "\n",
    "    def __str__(self):\n",
    "        return f'self.{self.name} = {self.value}'\n"
   ]
  },
  {
   "cell_type": "code",
   "execution_count": 3,
   "metadata": {},
   "outputs": [],
   "source": [
    "class CodeBuilder:\n",
    "    def __init__(self, root_name):\n",
    "        self.__class = Class(root_name)\n",
    "\n",
    "    def add_field(self, type, name):\n",
    "        self.__class.fields.append(Field(type, name))\n",
    "        return self\n",
    "\n",
    "    def __str__(self):\n",
    "        return self.__class.__str__()"
   ]
  },
  {
   "cell_type": "code",
   "execution_count": 4,
   "metadata": {},
   "outputs": [
    {
     "name": "stdout",
     "output_type": "stream",
     "text": [
      "class Person:\n",
      "  def __init__(self):\n",
      "    self.name = \"\"\n",
      "    self.age = 0\n"
     ]
    }
   ],
   "source": [
    " cb = CodeBuilder('Person').add_field('name', '\"\"').add_field('age', 0)\n",
    " print(cb)"
   ]
  },
  {
   "cell_type": "code",
   "execution_count": 5,
   "metadata": {},
   "outputs": [
    {
     "name": "stdout",
     "output_type": "stream",
     "text": [
      "class Person:\n",
      "  pass\n"
     ]
    }
   ],
   "source": [
    " cb = CodeBuilder('Person')\n",
    " print(cb)"
   ]
  },
  {
   "cell_type": "code",
   "execution_count": 6,
   "metadata": {},
   "outputs": [],
   "source": [
    "from unittest import TestCase\n",
    "class Evaluate(TestCase):\n",
    "    @staticmethod\n",
    "    def preprocess(s=''):\n",
    "        return s.strip().replace('\\r\\n', '\\n')\n",
    "\n",
    "    def test_empty(self):\n",
    "        cb = CodeBuilder('Foo')\n",
    "        self.assertEqual(\n",
    "            self.preprocess(str(cb)),\n",
    "            'class Foo:\\n  pass'\n",
    "        )\n",
    "        print('pass test_empty')\n",
    "\n",
    "    def test_person(self):\n",
    "        cb = CodeBuilder('Person').add_field('name', '\"\"') \\\n",
    "            .add_field('age', 0)\n",
    "        self.assertEqual(self.preprocess(str(cb)),\n",
    "                         \"\"\"class Person:\n",
    "  def __init__(self):\n",
    "    self.name = \\\"\\\"\n",
    "    self.age = 0\"\"\")\n",
    "        print('pass test_person')"
   ]
  },
  {
   "cell_type": "code",
   "execution_count": 7,
   "metadata": {},
   "outputs": [
    {
     "name": "stdout",
     "output_type": "stream",
     "text": [
      "pass test_empty\n",
      "pass test_person\n"
     ]
    }
   ],
   "source": [
    "Evaluate().test_empty()\n",
    "Evaluate().test_person()"
   ]
  }
 ],
 "metadata": {
  "interpreter": {
   "hash": "20ac7aad763b689ebdaff2f53a3073c7ed55a0f51860968fbf5603f714378c4e"
  },
  "kernelspec": {
   "display_name": "Python 3.10.4 64-bit",
   "language": "python",
   "name": "python3"
  },
  "language_info": {
   "codemirror_mode": {
    "name": "ipython",
    "version": 3
   },
   "file_extension": ".py",
   "mimetype": "text/x-python",
   "name": "python",
   "nbconvert_exporter": "python",
   "pygments_lexer": "ipython3",
   "version": "3.10.4"
  },
  "orig_nbformat": 4
 },
 "nbformat": 4,
 "nbformat_minor": 2
}
