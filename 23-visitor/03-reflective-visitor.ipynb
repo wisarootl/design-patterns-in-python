{
 "cells": [
  {
   "cell_type": "code",
   "execution_count": 1,
   "metadata": {},
   "outputs": [],
   "source": [
    "from abc import ABC"
   ]
  },
  {
   "cell_type": "code",
   "execution_count": 2,
   "metadata": {},
   "outputs": [],
   "source": [
    "class Expression(ABC):\n",
    "    pass\n",
    "\n",
    "\n",
    "class DoubleExpression(Expression):\n",
    "    def __init__(self, value):\n",
    "        self.value = value\n",
    "\n",
    "\n",
    "class AdditionExpression(Expression):\n",
    "    def __init__(self, left, right):\n",
    "        self.right = right\n",
    "        self.left = left"
   ]
  },
  {
   "cell_type": "code",
   "execution_count": 3,
   "metadata": {},
   "outputs": [],
   "source": [
    "class ExpressionPrinter:\n",
    "    @staticmethod\n",
    "    def print(e, buffer):\n",
    "        \"\"\" Will fail silently on a missing case. \"\"\"\n",
    "        if isinstance(e, DoubleExpression):\n",
    "            buffer.append(str(e.value))\n",
    "        elif isinstance(e, AdditionExpression):\n",
    "            buffer.append('(')\n",
    "            ExpressionPrinter.print(e.left, buffer)\n",
    "            buffer.append('+')\n",
    "            ExpressionPrinter.print(e.right, buffer)\n",
    "            buffer.append(')')\n",
    "    \n",
    "    Expression.print = lambda self, b: ExpressionPrinter.print(self, b)"
   ]
  },
  {
   "cell_type": "code",
   "execution_count": 4,
   "metadata": {},
   "outputs": [
    {
     "name": "stdout",
     "output_type": "stream",
     "text": [
      "(1+(2+3))\n"
     ]
    }
   ],
   "source": [
    "e = AdditionExpression(\n",
    "    DoubleExpression(1),\n",
    "    AdditionExpression(\n",
    "        DoubleExpression(2),\n",
    "        DoubleExpression(3)\n",
    "    )\n",
    ")\n",
    "\n",
    "buffer = []\n",
    "e.print(buffer)\n",
    "# ExpressionPrinter.print(e, buffer)\n",
    "print(''.join(buffer))"
   ]
  }
 ],
 "metadata": {
  "interpreter": {
   "hash": "20ac7aad763b689ebdaff2f53a3073c7ed55a0f51860968fbf5603f714378c4e"
  },
  "kernelspec": {
   "display_name": "Python 3.10.4 64-bit",
   "language": "python",
   "name": "python3"
  },
  "language_info": {
   "codemirror_mode": {
    "name": "ipython",
    "version": 3
   },
   "file_extension": ".py",
   "mimetype": "text/x-python",
   "name": "python",
   "nbconvert_exporter": "python",
   "pygments_lexer": "ipython3",
   "version": "3.10.4"
  },
  "orig_nbformat": 4
 },
 "nbformat": 4,
 "nbformat_minor": 2
}
