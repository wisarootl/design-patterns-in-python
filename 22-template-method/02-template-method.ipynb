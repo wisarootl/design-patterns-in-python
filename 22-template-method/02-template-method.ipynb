{
 "cells": [
  {
   "cell_type": "code",
   "execution_count": 1,
   "metadata": {},
   "outputs": [],
   "source": [
    "# template method is similar to strategy\n",
    "\n",
    "from abc import ABC"
   ]
  },
  {
   "cell_type": "code",
   "execution_count": 2,
   "metadata": {},
   "outputs": [],
   "source": [
    "class Game(ABC):\n",
    "\n",
    "    def __init__(self, number_of_players):\n",
    "        self.number_of_players = number_of_players\n",
    "        self.current_player = 0\n",
    "\n",
    "    def run(self):\n",
    "        self.start()\n",
    "        while not self.have_winner:\n",
    "            self.take_turn()\n",
    "        print(f'Player {self.winning_player} wins!')\n",
    "\n",
    "    def start(self): pass\n",
    "\n",
    "    @property\n",
    "    def have_winner(self): pass\n",
    "\n",
    "    def take_turn(self): pass\n",
    "\n",
    "    @property\n",
    "    def winning_player(self): pass\n"
   ]
  },
  {
   "cell_type": "code",
   "execution_count": 7,
   "metadata": {},
   "outputs": [],
   "source": [
    "class Chess(Game):\n",
    "    def __init__(self):\n",
    "        super().__init__(2)\n",
    "        self.max_turns = 10\n",
    "        self.turn = 1\n",
    "\n",
    "    def start(self):\n",
    "        print(f'Starting a game of chess with {self.number_of_players} players.')\n",
    "\n",
    "    @property\n",
    "    def have_winner(self):\n",
    "        return self.turn == self.max_turns\n",
    "\n",
    "    def take_turn(self):\n",
    "        print(f'Turn {self.turn} taken by player {self.current_player}')\n",
    "        self.turn += 1\n",
    "        self.current_player = 1 - self.current_player\n",
    "\n",
    "    @property\n",
    "    def winning_player(self):\n",
    "        return self.current_player"
   ]
  },
  {
   "cell_type": "code",
   "execution_count": 8,
   "metadata": {},
   "outputs": [
    {
     "name": "stdout",
     "output_type": "stream",
     "text": [
      "Starting a game of chess with 2 players.\n",
      "Turn 1 taken by player 0\n",
      "Turn 2 taken by player 1\n",
      "Turn 3 taken by player 0\n",
      "Turn 4 taken by player 1\n",
      "Turn 5 taken by player 0\n",
      "Turn 6 taken by player 1\n",
      "Turn 7 taken by player 0\n",
      "Turn 8 taken by player 1\n",
      "Turn 9 taken by player 0\n",
      "Player 1 wins!\n"
     ]
    }
   ],
   "source": [
    "chess = Chess()\n",
    "chess.run()"
   ]
  }
 ],
 "metadata": {
  "interpreter": {
   "hash": "20ac7aad763b689ebdaff2f53a3073c7ed55a0f51860968fbf5603f714378c4e"
  },
  "kernelspec": {
   "display_name": "Python 3.10.4 64-bit",
   "language": "python",
   "name": "python3"
  },
  "language_info": {
   "codemirror_mode": {
    "name": "ipython",
    "version": 3
   },
   "file_extension": ".py",
   "mimetype": "text/x-python",
   "name": "python",
   "nbconvert_exporter": "python",
   "pygments_lexer": "ipython3",
   "version": "3.10.4"
  },
  "orig_nbformat": 4
 },
 "nbformat": 4,
 "nbformat_minor": 2
}
