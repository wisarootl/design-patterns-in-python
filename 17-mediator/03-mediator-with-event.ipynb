{
 "cells": [
  {
   "cell_type": "code",
   "execution_count": 1,
   "metadata": {},
   "outputs": [],
   "source": [
    "class Event(list):\n",
    "    def __call__(self, *args, **kwargs):\n",
    "        for item in self:\n",
    "            item(*args, **kwargs)"
   ]
  },
  {
   "cell_type": "code",
   "execution_count": 8,
   "metadata": {},
   "outputs": [],
   "source": [
    "# Game is mediator\n",
    "class Game:\n",
    "    def __init__(self):\n",
    "        self.events = Event()\n",
    "\n",
    "    def fire(self, args):\n",
    "        self.events(args)\n",
    "\n",
    "class GoalScoredInfo:\n",
    "    def __init__(self, who_scored, goals_scored):\n",
    "        self.goals_scored = goals_scored\n",
    "        self.who_scored = who_scored\n",
    "\n",
    "class Player:\n",
    "    def __init__(self, name, game):\n",
    "        self.name = name\n",
    "        self.game = game\n",
    "        self.goals_scored = 0\n",
    "\n",
    "    def score(self):\n",
    "        self.goals_scored += 1\n",
    "        args = GoalScoredInfo(self.name, self.goals_scored)\n",
    "        self.game.fire(args)\n",
    "\n",
    "class Coach:\n",
    "    def __init__(self, game):\n",
    "        game.events.append(self.celebrate_goal)\n",
    "\n",
    "    def celebrate_goal(self, args):\n",
    "        if isinstance(args, GoalScoredInfo) and args.goals_scored < 3:\n",
    "            print(f'Coach says: well done, {args.who_scored}!')\n"
   ]
  },
  {
   "cell_type": "code",
   "execution_count": 9,
   "metadata": {},
   "outputs": [
    {
     "name": "stdout",
     "output_type": "stream",
     "text": [
      "1\n",
      "Coach says: well done, Sam!\n",
      "2\n",
      "Coach says: well done, Sam!\n",
      "3\n"
     ]
    }
   ],
   "source": [
    "game = Game()\n",
    "player = Player('Sam', game)\n",
    "coach = Coach(game)\n",
    "\n",
    "player.score()\n",
    "player.score()\n",
    "player.score()"
   ]
  }
 ],
 "metadata": {
  "interpreter": {
   "hash": "20ac7aad763b689ebdaff2f53a3073c7ed55a0f51860968fbf5603f714378c4e"
  },
  "kernelspec": {
   "display_name": "Python 3.10.4 64-bit",
   "language": "python",
   "name": "python3"
  },
  "language_info": {
   "codemirror_mode": {
    "name": "ipython",
    "version": 3
   },
   "file_extension": ".py",
   "mimetype": "text/x-python",
   "name": "python",
   "nbconvert_exporter": "python",
   "pygments_lexer": "ipython3",
   "version": "3.10.4"
  },
  "orig_nbformat": 4
 },
 "nbformat": 4,
 "nbformat_minor": 2
}
