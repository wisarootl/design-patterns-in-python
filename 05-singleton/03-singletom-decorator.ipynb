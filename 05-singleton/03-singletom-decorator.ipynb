{
 "cells": [
  {
   "cell_type": "code",
   "execution_count": 1,
   "metadata": {},
   "outputs": [],
   "source": [
    "# decorator singleton\n",
    "def singleton(class_):\n",
    "    instances = {}\n",
    "\n",
    "    def get_instance(*args, **kwargs):\n",
    "        if class_ not in instances:\n",
    "            instances[class_] = class_(*args, **kwargs)\n",
    "        return instances[class_]\n",
    "\n",
    "    return get_instance\n"
   ]
  },
  {
   "cell_type": "code",
   "execution_count": 2,
   "metadata": {},
   "outputs": [],
   "source": [
    "@singleton\n",
    "class Database:\n",
    "\n",
    "    # initialize get called only once.\n",
    "    # Therefore, decorator is proper approach to implement singleton\n",
    "    def __init__(self):\n",
    "        print('Loading database')"
   ]
  },
  {
   "cell_type": "code",
   "execution_count": 3,
   "metadata": {},
   "outputs": [
    {
     "name": "stdout",
     "output_type": "stream",
     "text": [
      "Loading database\n",
      "True\n"
     ]
    }
   ],
   "source": [
    "d1 = Database()\n",
    "d2 = Database()\n",
    "print(d1 == d2)"
   ]
  }
 ],
 "metadata": {
  "interpreter": {
   "hash": "20ac7aad763b689ebdaff2f53a3073c7ed55a0f51860968fbf5603f714378c4e"
  },
  "kernelspec": {
   "display_name": "Python 3.10.4 64-bit",
   "language": "python",
   "name": "python3"
  },
  "language_info": {
   "codemirror_mode": {
    "name": "ipython",
    "version": 3
   },
   "file_extension": ".py",
   "mimetype": "text/x-python",
   "name": "python",
   "nbconvert_exporter": "python",
   "pygments_lexer": "ipython3",
   "version": "3.10.4"
  },
  "orig_nbformat": 4
 },
 "nbformat": 4,
 "nbformat_minor": 2
}
