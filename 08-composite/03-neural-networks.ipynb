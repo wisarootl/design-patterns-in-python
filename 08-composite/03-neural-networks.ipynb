{
 "cells": [
  {
   "cell_type": "code",
   "execution_count": 27,
   "metadata": {},
   "outputs": [],
   "source": [
    "from abc import ABC\n",
    "from collections.abc import Iterable"
   ]
  },
  {
   "cell_type": "code",
   "execution_count": 28,
   "metadata": {},
   "outputs": [],
   "source": [
    "class Connectable(Iterable, ABC):\n",
    "    def connect_to(self, other):\n",
    "        if self == other:\n",
    "            return\n",
    "\n",
    "        for s in self:\n",
    "            for o in other:\n",
    "                s.outputs.append(o)\n",
    "                o.inputs.append(s)"
   ]
  },
  {
   "cell_type": "code",
   "execution_count": 29,
   "metadata": {},
   "outputs": [],
   "source": [
    "# class Neuron(Connectable):\n",
    "class Neuron(Connectable):\n",
    "    def __init__(self, name):\n",
    "        self.name = name\n",
    "        self.inputs = []\n",
    "        self.outputs = []\n",
    "\n",
    "    # def connect_to(self, other):\n",
    "    #     self.outputs.append(other)\n",
    "    #     other.inputs.append(self)\n",
    "\n",
    "    def __iter__(self):\n",
    "        yield self\n",
    "\n",
    "    def __str__(self):\n",
    "        return f'{self.name}, {len(self.inputs)} inputs, {len(self.outputs)} outputs'"
   ]
  },
  {
   "cell_type": "code",
   "execution_count": 30,
   "metadata": {},
   "outputs": [],
   "source": [
    "class NeuronLayer(list, Connectable):\n",
    "    def __init__(self, name, count):\n",
    "        super().__init__()\n",
    "        self.name = name\n",
    "        for x in range(0, count):\n",
    "            self.append(Neuron(f'{name}-{x}'))\n",
    "\n",
    "    def __str__(self):\n",
    "        return f'{self.name} with {len(self)} neurons'"
   ]
  },
  {
   "cell_type": "code",
   "execution_count": 31,
   "metadata": {},
   "outputs": [],
   "source": [
    "# def connect_to(self, other):\n",
    "#     if self == other:\n",
    "#         return\n",
    "\n",
    "#     for s in self:\n",
    "#         for o in other:\n",
    "#             s.outputs.append(o)\n",
    "#             o.inputs.append(s)"
   ]
  },
  {
   "cell_type": "code",
   "execution_count": 37,
   "metadata": {},
   "outputs": [],
   "source": [
    "neuron1 = Neuron('n1')\n",
    "neuron2 = Neuron('n2')\n",
    "layer1 = NeuronLayer('L1', 3)\n",
    "layer2 = NeuronLayer('L2', 4)"
   ]
  },
  {
   "cell_type": "code",
   "execution_count": 38,
   "metadata": {},
   "outputs": [],
   "source": [
    "neuron1.connect_to(neuron2)\n",
    "neuron1.connect_to(layer1)\n",
    "layer1.connect_to(neuron2)\n",
    "layer1.connect_to(layer2)\n"
   ]
  },
  {
   "cell_type": "code",
   "execution_count": 39,
   "metadata": {},
   "outputs": [
    {
     "name": "stdout",
     "output_type": "stream",
     "text": [
      "n1, 0 inputs, 4 outputs\n",
      "n2, 4 inputs, 0 outputs\n",
      "L1 with 3 neurons\n",
      "L2 with 4 neurons\n"
     ]
    }
   ],
   "source": [
    "print(neuron1)\n",
    "print(neuron2)\n",
    "print(layer1)\n",
    "print(layer2)"
   ]
  }
 ],
 "metadata": {
  "interpreter": {
   "hash": "20ac7aad763b689ebdaff2f53a3073c7ed55a0f51860968fbf5603f714378c4e"
  },
  "kernelspec": {
   "display_name": "Python 3.10.4 64-bit",
   "language": "python",
   "name": "python3"
  },
  "language_info": {
   "codemirror_mode": {
    "name": "ipython",
    "version": 3
   },
   "file_extension": ".py",
   "mimetype": "text/x-python",
   "name": "python",
   "nbconvert_exporter": "python",
   "pygments_lexer": "ipython3",
   "version": "3.10.4"
  },
  "orig_nbformat": 4
 },
 "nbformat": 4,
 "nbformat_minor": 2
}
