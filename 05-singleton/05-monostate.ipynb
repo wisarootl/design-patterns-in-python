{
 "cells": [
  {
   "cell_type": "markdown",
   "metadata": {},
   "source": [
    "Monostate is a variation of the singleton.\n",
    "\n",
    "It is normal object but map to the same dictionary"
   ]
  },
  {
   "cell_type": "code",
   "execution_count": 1,
   "metadata": {},
   "outputs": [],
   "source": [
    "# not recommended to implement singleton\n",
    "# recommend to implement singleton by decorator or metaclass\n",
    "\n",
    "class CEO:\n",
    "    __shared_state = {\n",
    "        'name': 'Steve',\n",
    "        'age': 55\n",
    "    }\n",
    "\n",
    "    def __init__(self):\n",
    "        self.__dict__ = self.__shared_state\n",
    "\n",
    "    def __str__(self):\n",
    "        return f'{self.name} is {self.age} years old'"
   ]
  },
  {
   "cell_type": "code",
   "execution_count": 2,
   "metadata": {},
   "outputs": [
    {
     "name": "stdout",
     "output_type": "stream",
     "text": [
      "ceo1 : Steve is 55 years old\n",
      "ceo1 : Steve is 77 years old\n",
      "ceo2 : Steve is 77 years old\n"
     ]
    }
   ],
   "source": [
    "ceo1 = CEO()\n",
    "print('ceo1 :', ceo1)\n",
    "\n",
    "ceo2 = CEO()\n",
    "ceo2.age = 77\n",
    "print('ceo1 :', ceo1)\n",
    "print('ceo2 :', ceo2)"
   ]
  },
  {
   "cell_type": "code",
   "execution_count": 3,
   "metadata": {},
   "outputs": [],
   "source": [
    "# not recommended to implement singleton\n",
    "# recommend to implement singleton by decorator or metaclass\n",
    "\n",
    "class Monostate:\n",
    "    _shared_state = {}\n",
    "\n",
    "    def __new__(cls, *args, **kwargs):\n",
    "        obj = super(Monostate, cls).__new__(cls, *args, **kwargs)\n",
    "        obj.__dict__ = cls._shared_state\n",
    "        return obj"
   ]
  },
  {
   "cell_type": "code",
   "execution_count": 4,
   "metadata": {},
   "outputs": [],
   "source": [
    "class CFO(Monostate):\n",
    "    def __init__(self):\n",
    "        self.name = ''\n",
    "        self.money_managed = 0\n",
    "\n",
    "    def __str__(self):\n",
    "        return f'{self.name} manages ${self.money_managed}bn'\n"
   ]
  },
  {
   "cell_type": "code",
   "execution_count": 5,
   "metadata": {},
   "outputs": [
    {
     "name": "stdout",
     "output_type": "stream",
     "text": [
      "Sheryl manages $1bn\n",
      "Ruth manages $10bn\n",
      "Ruth manages $10bn\n"
     ]
    }
   ],
   "source": [
    "cfo1 = CFO()\n",
    "cfo1.name = 'Sheryl'\n",
    "cfo1.money_managed = 1\n",
    "print(cfo1)\n",
    "\n",
    "cfo2 = CFO()\n",
    "cfo2.name = 'Ruth'\n",
    "cfo2.money_managed = 10\n",
    "print(cfo1, cfo2, sep='\\n')"
   ]
  },
  {
   "cell_type": "code",
   "execution_count": 6,
   "metadata": {},
   "outputs": [
    {
     "data": {
      "text/plain": [
       "False"
      ]
     },
     "execution_count": 6,
     "metadata": {},
     "output_type": "execute_result"
    }
   ],
   "source": [
    "cfo1 == cfo2"
   ]
  },
  {
   "cell_type": "code",
   "execution_count": 9,
   "metadata": {},
   "outputs": [
    {
     "data": {
      "text/plain": [
       "False"
      ]
     },
     "execution_count": 9,
     "metadata": {},
     "output_type": "execute_result"
    }
   ],
   "source": [
    "cfo1 is cfo2"
   ]
  }
 ],
 "metadata": {
  "interpreter": {
   "hash": "20ac7aad763b689ebdaff2f53a3073c7ed55a0f51860968fbf5603f714378c4e"
  },
  "kernelspec": {
   "display_name": "Python 3.10.4 64-bit",
   "language": "python",
   "name": "python3"
  },
  "language_info": {
   "codemirror_mode": {
    "name": "ipython",
    "version": 3
   },
   "file_extension": ".py",
   "mimetype": "text/x-python",
   "name": "python",
   "nbconvert_exporter": "python",
   "pygments_lexer": "ipython3",
   "version": "3.10.4"
  },
  "orig_nbformat": 4
 },
 "nbformat": 4,
 "nbformat_minor": 2
}
