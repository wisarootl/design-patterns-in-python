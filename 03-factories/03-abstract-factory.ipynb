{
 "cells": [
  {
   "cell_type": "code",
   "execution_count": 1,
   "metadata": {},
   "outputs": [],
   "source": [
    "from abc import ABC\n",
    "from enum import Enum, auto"
   ]
  },
  {
   "cell_type": "code",
   "execution_count": 2,
   "metadata": {},
   "outputs": [],
   "source": [
    "class HotDrink(ABC):\n",
    "    def consume(self):\n",
    "        pass\n",
    "\n",
    "\n",
    "class Tea(HotDrink):\n",
    "    def consume(self):\n",
    "        print('This tea is nice but I\\'d prefer it with milk')\n",
    "\n",
    "\n",
    "class Coffee(HotDrink):\n",
    "    def consume(self):\n",
    "        print('This coffee is delicious')"
   ]
  },
  {
   "cell_type": "code",
   "execution_count": 3,
   "metadata": {},
   "outputs": [],
   "source": [
    "class HotDrinkFactory(ABC):\n",
    "    def prepare(self, amount):\n",
    "        pass\n",
    "\n",
    "class TeaFactory(HotDrinkFactory):\n",
    "    def prepare(self, amount):\n",
    "        print(f'Put in tea bag, boil water, pour {amount}ml, enjoy!')\n",
    "        return Tea()\n",
    "\n",
    "\n",
    "class CoffeeFactory(HotDrinkFactory):\n",
    "    def prepare(self, amount):\n",
    "        print(f'Grind some beans, boil water, pour {amount}ml, enjoy!')\n",
    "        return Coffee()"
   ]
  },
  {
   "cell_type": "code",
   "execution_count": 4,
   "metadata": {},
   "outputs": [],
   "source": [
    "class HotDrinkMachine:\n",
    "    class AvailableDrink(Enum):  # violates OCP\n",
    "        COFFEE = auto()\n",
    "        TEA = auto()\n",
    "\n",
    "    factories = []\n",
    "    initialized = False\n",
    "\n",
    "    def __init__(self):\n",
    "        if not self.initialized:\n",
    "            self.initialized = True\n",
    "            for d in self.AvailableDrink:\n",
    "                name = d.name[0] + d.name[1:].lower()\n",
    "                factory_name = name + 'Factory'\n",
    "                factory_instance = eval(factory_name)()\n",
    "                self.factories.append((name, factory_instance))\n",
    "\n",
    "    def make_drink(self):\n",
    "        print('Available drinks:')\n",
    "        for f in self.factories:\n",
    "            print(f[0])\n",
    "\n",
    "        s = input(f'Please pick drink (0-{len(self.factories)-1}): ')\n",
    "        idx = int(s)\n",
    "        s = input(f'Specify amount: ')\n",
    "        amount = int(s)\n",
    "        return self.factories[idx][1].prepare(amount)"
   ]
  },
  {
   "cell_type": "code",
   "execution_count": 5,
   "metadata": {},
   "outputs": [],
   "source": [
    "def make_drink(type):\n",
    "    if type == 'tea':\n",
    "        return TeaFactory().prepare(200)\n",
    "    elif type == 'coffee':\n",
    "        return CoffeeFactory().prepare(50)\n",
    "    else:\n",
    "        return None\n"
   ]
  },
  {
   "cell_type": "code",
   "execution_count": 6,
   "metadata": {},
   "outputs": [
    {
     "name": "stdout",
     "output_type": "stream",
     "text": [
      "Put in tea bag, boil water, pour 200ml, enjoy!\n",
      "This tea is nice but I'd prefer it with milk\n"
     ]
    }
   ],
   "source": [
    "# entry = input('What kind of drink would you like?')\n",
    "drink = make_drink('tea')\n",
    "drink.consume()"
   ]
  },
  {
   "cell_type": "code",
   "execution_count": 7,
   "metadata": {},
   "outputs": [
    {
     "name": "stdout",
     "output_type": "stream",
     "text": [
      "Available drinks:\n",
      "Coffee\n",
      "Tea\n",
      "Grind some beans, boil water, pour 10ml, enjoy!\n",
      "This coffee is delicious\n"
     ]
    }
   ],
   "source": [
    "hdm = HotDrinkMachine()\n",
    "drink = hdm.make_drink()\n",
    "drink.consume()"
   ]
  }
 ],
 "metadata": {
  "interpreter": {
   "hash": "20ac7aad763b689ebdaff2f53a3073c7ed55a0f51860968fbf5603f714378c4e"
  },
  "kernelspec": {
   "display_name": "Python 3.10.4 64-bit",
   "language": "python",
   "name": "python3"
  },
  "language_info": {
   "codemirror_mode": {
    "name": "ipython",
    "version": 3
   },
   "file_extension": ".py",
   "mimetype": "text/x-python",
   "name": "python",
   "nbconvert_exporter": "python",
   "pygments_lexer": "ipython3",
   "version": "3.10.4"
  },
  "orig_nbformat": 4
 },
 "nbformat": 4,
 "nbformat_minor": 2
}
