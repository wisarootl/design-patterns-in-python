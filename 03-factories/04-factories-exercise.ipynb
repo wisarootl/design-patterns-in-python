{
 "cells": [
  {
   "cell_type": "markdown",
   "metadata": {},
   "source": [
    "# Factory Coding Exercise"
   ]
  },
  {
   "cell_type": "markdown",
   "metadata": {},
   "source": [
    "You are given a class called `Person`. The person has two attributes: `id` , and `name`.\n",
    "\n",
    "Please implement a `PersonFactory` that has a non-static `create_person()` method that takes a person's name and return a person initialized with this name and an id.\n",
    "\n",
    "The `id` of the person should be set as a 0-based index of the object created. So, the first person the factory makes should have `Id=0`, second `Id=1` and so on."
   ]
  },
  {
   "cell_type": "markdown",
   "metadata": {},
   "source": [
    "# Solution"
   ]
  },
  {
   "cell_type": "code",
   "execution_count": 12,
   "metadata": {},
   "outputs": [],
   "source": [
    "class Person:\n",
    "    def __init__(self, id, name):\n",
    "        self.id = id\n",
    "        self.name = name\n",
    "\n",
    "class PersonFactory:\n",
    "    id = 0\n",
    "\n",
    "    @staticmethod\n",
    "    def create_person(name):\n",
    "        p = Person(PersonFactory.id, name)\n",
    "        PersonFactory.id += 1\n",
    "        return p"
   ]
  },
  {
   "cell_type": "code",
   "execution_count": 13,
   "metadata": {},
   "outputs": [],
   "source": [
    "\n",
    "pf = PersonFactory()\n",
    "p1 = pf.create_person('Chris')\n",
    "p2 = pf.create_person('Sarah')"
   ]
  },
  {
   "cell_type": "code",
   "execution_count": 14,
   "metadata": {},
   "outputs": [
    {
     "name": "stdout",
     "output_type": "stream",
     "text": [
      "Chris\n",
      "0\n",
      "1\n"
     ]
    }
   ],
   "source": [
    "print(p1.name)\n",
    "print(p1.id)\n",
    "print(p2.id)"
   ]
  },
  {
   "cell_type": "code",
   "execution_count": 15,
   "metadata": {},
   "outputs": [],
   "source": [
    "from unittest import TestCase\n",
    "\n",
    "class Evaluate(TestCase):\n",
    "    def test_exercise(self):\n",
    "        pf = PersonFactory()\n",
    "\n",
    "        p1 = pf.create_person('Chris')\n",
    "        self.assertEqual(p1.name, 'Chris')\n",
    "        self.assertEqual(p1.id, 0)\n",
    "        print('pass test p1')\n",
    "\n",
    "        p2 = pf.create_person('Sarah')\n",
    "        self.assertEqual(p2.id, 1)\n",
    "        print('pass test p2')"
   ]
  }
 ],
 "metadata": {
  "interpreter": {
   "hash": "20ac7aad763b689ebdaff2f53a3073c7ed55a0f51860968fbf5603f714378c4e"
  },
  "kernelspec": {
   "display_name": "Python 3.10.4 64-bit",
   "language": "python",
   "name": "python3"
  },
  "language_info": {
   "codemirror_mode": {
    "name": "ipython",
    "version": 3
   },
   "file_extension": ".py",
   "mimetype": "text/x-python",
   "name": "python",
   "nbconvert_exporter": "python",
   "pygments_lexer": "ipython3",
   "version": "3.10.4"
  },
  "orig_nbformat": 4
 },
 "nbformat": 4,
 "nbformat_minor": 2
}
