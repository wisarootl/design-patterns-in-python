{
 "cells": [
  {
   "cell_type": "markdown",
   "metadata": {},
   "source": [
    "# 2. Open-Closed Principles (OCP)\n",
    "OCP = open for extension, closed for modification\n",
    "\n",
    "The open-closed principle states that software entities should be open for extension, but closed for modification.\n",
    "\n",
    "This implies that such entities – classes, functions, and so on – should be created in a way that their core functionalities can be extended to other entities without altering the initial entity's source code."
   ]
  },
  {
   "cell_type": "code",
   "execution_count": 23,
   "metadata": {},
   "outputs": [],
   "source": [
    "# from enum import Enum\n",
    "\n",
    "# class Color(Enum):\n",
    "class Color():\n",
    "  RED = 1\n",
    "  GREEN = 2\n",
    "  BLUE = 3\n",
    "\n",
    "\n",
    "# class Size(Enum):\n",
    "class Size():\n",
    "    SMALL = 1\n",
    "    MEDIUM = 2\n",
    "    LARGE = 3\n",
    "\n",
    "\n",
    "class Product:\n",
    "    def __init__(self, name, color, size):\n",
    "        self.name = name\n",
    "        self.color = color\n",
    "        self.size = size"
   ]
  },
  {
   "cell_type": "code",
   "execution_count": 24,
   "metadata": {},
   "outputs": [],
   "source": [
    "# OCP = open for extension, closed for modification\n",
    "\n",
    "class ProductFilter:\n",
    "    def filter_by_color(self, products, color):\n",
    "        for p in products:\n",
    "            if p.color == color: yield p\n",
    "\n",
    "    def filter_by_size(self, products, size):\n",
    "        for p in products:\n",
    "            if p.size == size: yield p\n",
    "\n",
    "    def filter_by_size_and_color(self, products, size, color):\n",
    "        for p in products:\n",
    "            if p.color == color and p.size == size:\n",
    "                yield p\n",
    "\n",
    "    # This is bad example\n",
    "    # state space explosion\n",
    "    # 3 criteria\n",
    "    # c s w cs sw cw csw = 7 methods\n",
    "\n",
    "    # OCP = open for extension, closed for modification"
   ]
  },
  {
   "cell_type": "code",
   "execution_count": 25,
   "metadata": {},
   "outputs": [],
   "source": [
    "# Enterprise pattern is out-of-scope of design pattern\n",
    "\n",
    "# Specification pattern is one of enterprise pattern\n",
    "\n",
    "\n",
    "class Specification:\n",
    "    def is_satisfied(self, item):\n",
    "        pass\n",
    "\n",
    "    # and operator makes life easier\n",
    "    # operator overloading is is a specific case of polymorphism, \n",
    "    # where different operators have different implementations \n",
    "    # depending on their arguments.\n",
    "    def __and__(self, other):\n",
    "        return AndSpecification(self, other)\n",
    "\n",
    "\n",
    "class Filter:\n",
    "    def filter(self, items, spec):\n",
    "        pass\n"
   ]
  },
  {
   "cell_type": "code",
   "execution_count": 26,
   "metadata": {},
   "outputs": [],
   "source": [
    "class ColorSpecification(Specification):\n",
    "    def __init__(self, color):\n",
    "        self.color = color\n",
    "\n",
    "    def is_satisfied(self, item):\n",
    "        return item.color == self.color\n",
    "\n",
    "\n",
    "class SizeSpecification(Specification):\n",
    "    def __init__(self, size):\n",
    "        self.size = size\n",
    "\n",
    "    def is_satisfied(self, item):\n",
    "        return item.size == self.size\n",
    "\n",
    "# class AndSpecification(Specification):\n",
    "#     def __init__(self, spec1, spec2):\n",
    "#         self.spec2 = spec2\n",
    "#         self.spec1 = spec1\n",
    "\n",
    "#     def is_satisfied(self, item):\n",
    "#         return self.spec1.is_satisfied(item) and \\\n",
    "#                self.spec2.is_satisfied(item)\n",
    "\n",
    "\n",
    "class AndSpecification(Specification):\n",
    "    def __init__(self, *args):\n",
    "        self.args = args\n",
    "\n",
    "    def is_satisfied(self, item):\n",
    "        return all(map(\n",
    "            lambda spec: spec.is_satisfied(item), self.args))\n",
    "\n",
    "class BetterFilter(Filter):\n",
    "    def filter(self, items, spec):\n",
    "        for item in items:\n",
    "            if spec.is_satisfied(item):\n",
    "                yield item"
   ]
  },
  {
   "cell_type": "code",
   "execution_count": 27,
   "metadata": {},
   "outputs": [],
   "source": [
    "apple = Product('Apple', Color.GREEN, Size.SMALL)\n",
    "tree = Product('Tree', Color.GREEN, Size.LARGE)\n",
    "house = Product('House', Color.BLUE, Size.LARGE)\n",
    "products = [apple, tree, house]"
   ]
  },
  {
   "cell_type": "code",
   "execution_count": 28,
   "metadata": {},
   "outputs": [
    {
     "name": "stdout",
     "output_type": "stream",
     "text": [
      "Green products (old):\n",
      " - Apple is green\n",
      " - Tree is green\n"
     ]
    }
   ],
   "source": [
    "# old approach\n",
    "\n",
    "pf = ProductFilter()\n",
    "print('Green products (old):')\n",
    "for p in pf.filter_by_color(products, Color.GREEN):\n",
    "    print(f' - {p.name} is green')"
   ]
  },
  {
   "cell_type": "code",
   "execution_count": 29,
   "metadata": {},
   "outputs": [
    {
     "name": "stdout",
     "output_type": "stream",
     "text": [
      "Green products (new):\n",
      " - Apple is green\n",
      " - Tree is green\n",
      "Large products:\n",
      " - Tree is large\n",
      " - House is large\n",
      "Large blue items:\n",
      " - House is large and blue\n"
     ]
    }
   ],
   "source": [
    "# OCP approach\n",
    "\n",
    "bf = BetterFilter()\n",
    "\n",
    "\n",
    "print('Green products (new):')\n",
    "green = ColorSpecification(Color.GREEN)\n",
    "for p in bf.filter(products, green):\n",
    "    print(f' - {p.name} is green')\n",
    "\n",
    "print('Large products:')\n",
    "large = SizeSpecification(Size.LARGE)\n",
    "for p in bf.filter(products, large):\n",
    "    print(f' - {p.name} is large')\n",
    "\n",
    "print('Large blue items:')\n",
    "# large_blue = AndSpecification(large, ColorSpecification(Color.BLUE))\n",
    "large_blue = large and ColorSpecification(Color.BLUE)\n",
    "for p in bf.filter(products, large_blue):\n",
    "    print(f' - {p.name} is large and blue')"
   ]
  }
 ],
 "metadata": {
  "interpreter": {
   "hash": "20ac7aad763b689ebdaff2f53a3073c7ed55a0f51860968fbf5603f714378c4e"
  },
  "kernelspec": {
   "display_name": "Python 3.10.4 64-bit",
   "language": "python",
   "name": "python3"
  },
  "language_info": {
   "codemirror_mode": {
    "name": "ipython",
    "version": 3
   },
   "file_extension": ".py",
   "mimetype": "text/x-python",
   "name": "python",
   "nbconvert_exporter": "python",
   "pygments_lexer": "ipython3",
   "version": "3.10.4"
  },
  "orig_nbformat": 4
 },
 "nbformat": 4,
 "nbformat_minor": 2
}
