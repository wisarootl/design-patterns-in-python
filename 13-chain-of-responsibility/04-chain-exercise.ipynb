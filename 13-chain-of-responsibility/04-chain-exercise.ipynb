{
 "cells": [
  {
   "cell_type": "markdown",
   "metadata": {},
   "source": [
    "# Chain of Responsibility Coding Exercise"
   ]
  },
  {
   "cell_type": "markdown",
   "metadata": {},
   "source": [
    "You are given a game scenario with classes Goblin and GoblinKing. Please implement the following rules:\n",
    "- A goblin has base 1 attack/1 defense (1/1), a goblin king is 3/3.\n",
    "- When the Goblin King is in play, every other goblin gets +1 Attack.\n",
    "- Goblins get +1 to Defense for every other Goblin in play (a GoblinKing is a Goblin!).\n",
    "\n",
    "Example:\n",
    "- Suppose you have 3 ordinary goblins in play. Each one is a 1/3 (1/1 + 0/2 defense bonus).\n",
    "- A goblin king comes into play. Now every goblin is a 2/4 (1/1 + 0/3 defense bonus from each other + 1/0 from goblin king)\n",
    "\n",
    "The state of all the goblins has to be consistent as goblins are added and removed from the game.\n",
    "\n",
    "Here is an example of the kind of test that will be run on the system:\n",
    "\n",
    "```python\n",
    "class FirstTestSuite(unittest.TestCase):\n",
    "    def test(self):\n",
    "        game = Game()\n",
    "        goblin = Goblin(game)\n",
    "        game.creatures.append(goblin)\n",
    " \n",
    "        self.assertEqual(1, goblin.attack)\n",
    "        self.assertEqual(1, goblin.defense)\n",
    "```\n",
    "\n",
    "**Note:** creature removal (unsubscription) does not need to be implemented."
   ]
  },
  {
   "cell_type": "code",
   "execution_count": 1,
   "metadata": {},
   "outputs": [],
   "source": [
    "import unittest\n",
    "from abc import ABC\n",
    "from enum import Enum"
   ]
  },
  {
   "cell_type": "code",
   "execution_count": 2,
   "metadata": {},
   "outputs": [],
   "source": [
    "class Creature(ABC):\n",
    "    def __init__(self, game, attack, defense):\n",
    "        self.initial_defense = defense\n",
    "        self.initial_attack = attack\n",
    "        self.game = game\n",
    "\n",
    "    @property\n",
    "    def attack(self): pass\n",
    "\n",
    "    @property\n",
    "    def defense(self): pass\n",
    "\n",
    "    def query(self, source, query): pass\n",
    "        \n",
    "    def __str__(self):\n",
    "        return f'{self.__class__.__name__} ({self.attack}/{self.defense})'"
   ]
  },
  {
   "cell_type": "code",
   "execution_count": 3,
   "metadata": {},
   "outputs": [],
   "source": [
    "class WhatToQuery(Enum):\n",
    "    ATTACK = 1\n",
    "    DEFENSE = 2\n",
    "\n",
    "class Goblin(Creature):\n",
    "\n",
    "    def __init__(self, game, attack=1, defense=1):\n",
    "        super().__init__(game, attack, defense)\n",
    "\n",
    "    @property\n",
    "    def attack(self):\n",
    "        q = Query(self.initial_attack, WhatToQuery.ATTACK)\n",
    "        for c in self.game.creatures:\n",
    "            c.query(self, q)\n",
    "        return q.value\n",
    "\n",
    "    @property\n",
    "    def defense(self):\n",
    "        q = Query(self.initial_defense, WhatToQuery.DEFENSE)\n",
    "        for c in self.game.creatures:\n",
    "            c.query(self, q)\n",
    "        return q.value\n",
    "\n",
    "    def query(self, source, query):\n",
    "        if self != source and query.what_to_query == WhatToQuery.DEFENSE:\n",
    "            query.value += 1\n",
    "        \n",
    "class GoblinKing(Goblin):\n",
    "\n",
    "    def __init__(self, game):\n",
    "        super().__init__(game, 3, 3)\n",
    "\n",
    "    def query(self, source, query):\n",
    "        if self != source and query.what_to_query == WhatToQuery.ATTACK:\n",
    "            query.value += 1\n",
    "        else:\n",
    "            super().query(source, query)"
   ]
  },
  {
   "cell_type": "code",
   "execution_count": 4,
   "metadata": {},
   "outputs": [],
   "source": [
    "class Query:\n",
    "    def __init__(self, initial_value, what_to_query):\n",
    "        self.what_to_query = what_to_query\n",
    "        self.value = initial_value\n",
    "\n",
    "class Game:\n",
    "    def __init__(self):\n",
    "        self.creatures = []"
   ]
  },
  {
   "cell_type": "code",
   "execution_count": 5,
   "metadata": {},
   "outputs": [
    {
     "name": "stdout",
     "output_type": "stream",
     "text": [
      "Goblin (1/1)\n"
     ]
    }
   ],
   "source": [
    "game = Game()\n",
    "goblin = Goblin(game)\n",
    "game.creatures.append(goblin)\n",
    "print(goblin)"
   ]
  },
  {
   "cell_type": "code",
   "execution_count": 6,
   "metadata": {},
   "outputs": [
    {
     "name": "stdout",
     "output_type": "stream",
     "text": [
      "Goblin (1/2)\n"
     ]
    }
   ],
   "source": [
    "goblin2 = Goblin(game)\n",
    "game.creatures.append(goblin2)\n",
    "print(goblin)"
   ]
  },
  {
   "cell_type": "code",
   "execution_count": 7,
   "metadata": {},
   "outputs": [
    {
     "name": "stdout",
     "output_type": "stream",
     "text": [
      "Goblin (2/3)\n"
     ]
    }
   ],
   "source": [
    "goblin3 = GoblinKing(game)\n",
    "game.creatures.append(goblin3)\n",
    "print(goblin)"
   ]
  },
  {
   "cell_type": "code",
   "execution_count": 9,
   "metadata": {},
   "outputs": [
    {
     "name": "stderr",
     "output_type": "stream",
     "text": [
      "test (__main__.FirstTestSuite) ... ok\n",
      "\n",
      "----------------------------------------------------------------------\n",
      "Ran 1 test in 0.001s\n",
      "\n",
      "OK\n"
     ]
    },
    {
     "data": {
      "text/plain": [
       "<unittest.main.TestProgram at 0x1bea8ff7970>"
      ]
     },
     "execution_count": 9,
     "metadata": {},
     "output_type": "execute_result"
    }
   ],
   "source": [
    "class FirstTestSuite(unittest.TestCase):\n",
    "    def test(self):\n",
    "        game = Game()\n",
    "        goblin = Goblin(game)\n",
    "        game.creatures.append(goblin)\n",
    "\n",
    "        self.assertEqual(1, goblin.attack)\n",
    "        self.assertEqual(1, goblin.defense)\n",
    "\n",
    "        goblin2 = Goblin(game)\n",
    "        game.creatures.append(goblin2)\n",
    "\n",
    "        self.assertEqual(1, goblin.attack)\n",
    "        self.assertEqual(2, goblin.defense)\n",
    "\n",
    "        goblin3 = GoblinKing(game)\n",
    "        game.creatures.append(goblin3)\n",
    "\n",
    "        self.assertEqual(2, goblin.attack)\n",
    "        self.assertEqual(3, goblin.defense)\n",
    "\n",
    "unittest.main(argv=['ignored', '-v'], exit=False)"
   ]
  }
 ],
 "metadata": {
  "interpreter": {
   "hash": "20ac7aad763b689ebdaff2f53a3073c7ed55a0f51860968fbf5603f714378c4e"
  },
  "kernelspec": {
   "display_name": "Python 3.10.4 64-bit",
   "language": "python",
   "name": "python3"
  },
  "language_info": {
   "codemirror_mode": {
    "name": "ipython",
    "version": 3
   },
   "file_extension": ".py",
   "mimetype": "text/x-python",
   "name": "python",
   "nbconvert_exporter": "python",
   "pygments_lexer": "ipython3",
   "version": "3.10.4"
  },
  "orig_nbformat": 4
 },
 "nbformat": 4,
 "nbformat_minor": 2
}
