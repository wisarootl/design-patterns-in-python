{
 "cells": [
  {
   "cell_type": "markdown",
   "metadata": {},
   "source": [
    "# Decorator Coding Exercise"
   ]
  },
  {
   "cell_type": "markdown",
   "metadata": {},
   "source": [
    "You are given two types, Circle and Square, and a decorator called ColoredShape.\n",
    "\n",
    "The decorator adds the color to the string output for a given shape, just as we did in the lecture.\n",
    "\n",
    "There's a trick though: the decorator now has a resize() method that should resize the underlying shape. However, only the Circle has a resize() method; the Square does not — do not add it!\n",
    "\n",
    "You are asked to complete the implementation of Circle, Square and ColoredShape.\n",
    "\n",
    "Here is a sample unit test that should pass:"
   ]
  },
  {
   "cell_type": "markdown",
   "metadata": {},
   "source": [
    "```python\n",
    "class Evaluate(TestCase):\n",
    "  def test_circle(self):\n",
    "    circle = ColoredShape(Circle(5), 'red')\n",
    "    self.assertEqual(\n",
    "      'A circle of radius 5 has the color red',\n",
    "      str(circle)\n",
    "    )\n",
    "    circle.resize(2)\n",
    "    self.assertEqual(\n",
    "      'A circle of radius 10 has the color red',\n",
    "      str(circle)\n",
    "    )\n",
    "```"
   ]
  },
  {
   "cell_type": "code",
   "execution_count": 1,
   "metadata": {},
   "outputs": [],
   "source": [
    "class Circle:\n",
    "  def __init__(self, radius):\n",
    "    self.radius = radius\n",
    "\n",
    "  def resize(self, factor):\n",
    "    self.radius *= factor\n",
    "\n",
    "  def __str__(self):\n",
    "    return 'A circle of radius %s' % self.radius\n",
    "\n",
    "class Square:\n",
    "  def __init__(self, side):\n",
    "    self.side = side\n",
    "\n",
    "  def __str__(self):\n",
    "    return 'A square with side %s' % self.side\n",
    "\n",
    "\n",
    "class ColoredShape:\n",
    "  def __init__(self, shape, color):\n",
    "    self.color = color\n",
    "    self.shape = shape\n",
    "\n",
    "  # Alternative, we can implement as same as 04-dynamic-decorator.\n",
    "  # It will inherit all method from shape and \n",
    "  # raise error if the method is not existing in underlying shape\n",
    "  def resize(self, factor):\n",
    "    r = getattr(self.shape, 'resize', None)\n",
    "    if callable(r):\n",
    "      self.shape.resize(factor)\n",
    "\n",
    "  def __str__(self):\n",
    "    return \"%s has the color %s\" %\\\n",
    "           (self.shape, self.color)\n",
    "  \n",
    "  "
   ]
  },
  {
   "cell_type": "code",
   "execution_count": 3,
   "metadata": {},
   "outputs": [
    {
     "name": "stdout",
     "output_type": "stream",
     "text": [
      "A circle of radius 5 has the color red\n",
      "A circle of radius 10 has the color red\n"
     ]
    }
   ],
   "source": [
    "circle = ColoredShape(Circle(5), 'red')\n",
    "print(circle)\n",
    "circle.resize(2)\n",
    "print(circle)"
   ]
  },
  {
   "cell_type": "code",
   "execution_count": 7,
   "metadata": {},
   "outputs": [
    {
     "data": {
      "text/plain": [
       "False"
      ]
     },
     "execution_count": 7,
     "metadata": {},
     "output_type": "execute_result"
    }
   ],
   "source": [
    "square = Square(4)\n",
    "r = getattr(square, 'resize', None)\n",
    "callable(r)"
   ]
  },
  {
   "cell_type": "code",
   "execution_count": 11,
   "metadata": {},
   "outputs": [
    {
     "name": "stdout",
     "output_type": "stream",
     "text": [
      "A square with side 2 has the color blue\n",
      "A square with side 2 has the color blue\n"
     ]
    }
   ],
   "source": [
    "square = ColoredShape(Square(2), 'blue')\n",
    "print(square)\n",
    "square.resize(2)\n",
    "print(square)"
   ]
  }
 ],
 "metadata": {
  "interpreter": {
   "hash": "20ac7aad763b689ebdaff2f53a3073c7ed55a0f51860968fbf5603f714378c4e"
  },
  "kernelspec": {
   "display_name": "Python 3.10.4 64-bit",
   "language": "python",
   "name": "python3"
  },
  "language_info": {
   "codemirror_mode": {
    "name": "ipython",
    "version": 3
   },
   "file_extension": ".py",
   "mimetype": "text/x-python",
   "name": "python",
   "nbconvert_exporter": "python",
   "pygments_lexer": "ipython3",
   "version": "3.10.4"
  },
  "orig_nbformat": 4
 },
 "nbformat": 4,
 "nbformat_minor": 2
}
