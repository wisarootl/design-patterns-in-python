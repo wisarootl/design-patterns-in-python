{
 "cells": [
  {
   "cell_type": "code",
   "execution_count": 1,
   "metadata": {},
   "outputs": [],
   "source": [
    "import random\n",
    "import string\n",
    "import sys"
   ]
  },
  {
   "cell_type": "code",
   "execution_count": 2,
   "metadata": {},
   "outputs": [],
   "source": [
    "class User:\n",
    "    def __init__(self, name):\n",
    "        self.name = name"
   ]
  },
  {
   "cell_type": "code",
   "execution_count": 3,
   "metadata": {},
   "outputs": [],
   "source": [
    "class User2:\n",
    "    strings = []\n",
    "\n",
    "    def __init__(self, full_name):\n",
    "        def get_or_add(s):\n",
    "            if s not in self.strings:\n",
    "                self.strings.append(s)\n",
    "            return self.strings.index(s)\n",
    "            \n",
    "        self.names = [get_or_add(x) for x in full_name.split(' ')]\n",
    "\n",
    "    def __str__(self):\n",
    "        return ' '.join([self.strings[x] for x in self.names])"
   ]
  },
  {
   "cell_type": "code",
   "execution_count": 4,
   "metadata": {},
   "outputs": [],
   "source": [
    "def random_string():\n",
    "    chars = string.ascii_lowercase\n",
    "    # chars = 'abcdefghijklmnopqrstuvwxyz'\n",
    "    return ''.join([random.choice(chars) for x in range(8)])"
   ]
  },
  {
   "cell_type": "code",
   "execution_count": 5,
   "metadata": {},
   "outputs": [
    {
     "name": "stdout",
     "output_type": "stream",
     "text": [
      "[0, 1]\n",
      "[2, 1]\n",
      "['Jim', 'Jones', 'Frank']\n"
     ]
    }
   ],
   "source": [
    "users = []\n",
    "\n",
    "first_names = [random_string() for _ in range(100)]\n",
    "last_names = [random_string() for _ in range(100)]\n",
    "\n",
    "for first in first_names:\n",
    "    for last in last_names:\n",
    "        users.append(User(f'{first} {last}'))\n",
    "\n",
    "u2 = User2('Jim Jones')\n",
    "u3 = User2('Frank Jones')\n",
    "print(u2.names)\n",
    "print(u3.names)\n",
    "print(User2.strings)"
   ]
  },
  {
   "cell_type": "code",
   "execution_count": 6,
   "metadata": {},
   "outputs": [],
   "source": [
    "users2 = []\n",
    "\n",
    "for first in first_names:\n",
    "    for last in last_names:\n",
    "        users2.append(User2(f'{first} {last}'))"
   ]
  },
  {
   "cell_type": "code",
   "execution_count": 8,
   "metadata": {},
   "outputs": [
    {
     "name": "stdout",
     "output_type": "stream",
     "text": [
      "203\n"
     ]
    }
   ],
   "source": [
    "print(len(User2.strings))"
   ]
  }
 ],
 "metadata": {
  "interpreter": {
   "hash": "20ac7aad763b689ebdaff2f53a3073c7ed55a0f51860968fbf5603f714378c4e"
  },
  "kernelspec": {
   "display_name": "Python 3.10.4 64-bit",
   "language": "python",
   "name": "python3"
  },
  "language_info": {
   "codemirror_mode": {
    "name": "ipython",
    "version": 3
   },
   "file_extension": ".py",
   "mimetype": "text/x-python",
   "name": "python",
   "nbconvert_exporter": "python",
   "pygments_lexer": "ipython3",
   "version": "3.10.4"
  },
  "orig_nbformat": 4
 },
 "nbformat": 4,
 "nbformat_minor": 2
}
