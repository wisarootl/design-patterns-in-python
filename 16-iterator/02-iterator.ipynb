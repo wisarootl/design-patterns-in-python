{
 "cells": [
  {
   "cell_type": "code",
   "execution_count": 1,
   "metadata": {},
   "outputs": [],
   "source": [
    "class Node:\n",
    "  def __init__(self, value, left=None, right=None):\n",
    "    self.right = right\n",
    "    self.left = left\n",
    "    self.value = value\n",
    "\n",
    "    self.parent = None\n",
    "\n",
    "    if left:\n",
    "      self.left.parent = self\n",
    "    if right:\n",
    "      self.right.parent = self\n",
    "\n",
    "  def __iter__(self):\n",
    "    return InOrderIterator(self)"
   ]
  },
  {
   "cell_type": "code",
   "execution_count": 2,
   "metadata": {},
   "outputs": [],
   "source": [
    "class InOrderIterator:\n",
    "  def __init__(self, root):\n",
    "    self.root = self.current = root\n",
    "    self.yielded_start = False\n",
    "    while self.current.left:\n",
    "      self.current = self.current.left\n",
    "\n",
    "  def __next__(self):\n",
    "    if not self.yielded_start:\n",
    "      self.yielded_start = True\n",
    "      return self.current\n",
    "\n",
    "    if self.current.right:\n",
    "      self.current = self.current.right\n",
    "      while self.current.left:\n",
    "        self.current = self.current.left\n",
    "      return self.current\n",
    "    else:\n",
    "      p = self.current.parent\n",
    "      while p and self.current == p.right:\n",
    "        self.current = p\n",
    "        p = p.parent\n",
    "      self.current = p\n",
    "      if self.current:\n",
    "        return self.current\n",
    "      else:\n",
    "        raise StopIteration"
   ]
  },
  {
   "cell_type": "code",
   "execution_count": 3,
   "metadata": {},
   "outputs": [],
   "source": [
    "def traverse_in_order(root):\n",
    "  def traverse(current):\n",
    "    if current.left:\n",
    "      for left in traverse(current.left):\n",
    "        yield left\n",
    "    yield current\n",
    "    if current.right:\n",
    "      for right in traverse(current.right):\n",
    "        yield right\n",
    "  for node in traverse(root):\n",
    "    yield node"
   ]
  },
  {
   "cell_type": "code",
   "execution_count": 4,
   "metadata": {},
   "outputs": [
    {
     "name": "stdout",
     "output_type": "stream",
     "text": [
      "[2, 1, 3]\n"
     ]
    }
   ],
   "source": [
    "#   1\n",
    "#  / \\\n",
    "# 2   3\n",
    "\n",
    "# in-order: 213\n",
    "# preorder: 123\n",
    "# postorder: 231\n",
    "\n",
    "root = Node(1,\n",
    "              Node(2),\n",
    "              Node(3))\n",
    "\n",
    "it = iter(root)\n",
    "print([next(it).value for x in range(3)])"
   ]
  },
  {
   "cell_type": "code",
   "execution_count": 6,
   "metadata": {},
   "outputs": [
    {
     "name": "stdout",
     "output_type": "stream",
     "text": [
      "2\n",
      "1\n",
      "3\n"
     ]
    }
   ],
   "source": [
    "for y in traverse_in_order(root):\n",
    "    print(y.value)"
   ]
  }
 ],
 "metadata": {
  "interpreter": {
   "hash": "20ac7aad763b689ebdaff2f53a3073c7ed55a0f51860968fbf5603f714378c4e"
  },
  "kernelspec": {
   "display_name": "Python 3.10.4 64-bit",
   "language": "python",
   "name": "python3"
  },
  "language_info": {
   "codemirror_mode": {
    "name": "ipython",
    "version": 3
   },
   "file_extension": ".py",
   "mimetype": "text/x-python",
   "name": "python",
   "nbconvert_exporter": "python",
   "pygments_lexer": "ipython3",
   "version": "3.10.4"
  },
  "orig_nbformat": 4
 },
 "nbformat": 4,
 "nbformat_minor": 2
}
