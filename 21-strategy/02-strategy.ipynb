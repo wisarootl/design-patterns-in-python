{
 "cells": [
  {
   "cell_type": "code",
   "execution_count": 1,
   "metadata": {},
   "outputs": [],
   "source": [
    "from abc import ABC\n",
    "from enum import Enum, auto"
   ]
  },
  {
   "cell_type": "code",
   "execution_count": 2,
   "metadata": {},
   "outputs": [],
   "source": [
    "class OutputFormat(Enum):\n",
    "    MARKDOWN = auto()\n",
    "    HTML = auto()"
   ]
  },
  {
   "cell_type": "code",
   "execution_count": 3,
   "metadata": {},
   "outputs": [],
   "source": [
    "# not required but a good idea\n",
    "class ListStrategy(ABC):\n",
    "    def start(self, buffer): pass\n",
    "\n",
    "    def end(self, buffer): pass\n",
    "\n",
    "    def add_list_item(self, buffer, item): pass"
   ]
  },
  {
   "cell_type": "code",
   "execution_count": 4,
   "metadata": {},
   "outputs": [],
   "source": [
    "class MarkdownListStrategy(ListStrategy):\n",
    "\n",
    "    def add_list_item(self, buffer, item):\n",
    "        buffer.append(f' * {item}\\n')"
   ]
  },
  {
   "cell_type": "code",
   "execution_count": 5,
   "metadata": {},
   "outputs": [],
   "source": [
    "class HtmlListStrategy(ListStrategy):\n",
    "\n",
    "    def start(self, buffer):\n",
    "        buffer.append('<ul>\\n')\n",
    "\n",
    "    def end(self, buffer):\n",
    "        buffer.append('</ul>\\n')\n",
    "\n",
    "    def add_list_item(self, buffer, item):\n",
    "        buffer.append(f'  <li>{item}</li>\\n')"
   ]
  },
  {
   "cell_type": "code",
   "execution_count": 6,
   "metadata": {},
   "outputs": [],
   "source": [
    "class TextProcessor:\n",
    "    def __init__(self, list_strategy=HtmlListStrategy()):\n",
    "        self.buffer = []\n",
    "        self.list_strategy = list_strategy\n",
    "\n",
    "    def append_list(self, items):\n",
    "        self.list_strategy.start(self.buffer)\n",
    "        for item in items:\n",
    "            self.list_strategy.add_list_item(\n",
    "                self.buffer, item\n",
    "            )\n",
    "        self.list_strategy.end(self.buffer)\n",
    "\n",
    "    def set_output_format(self, format):\n",
    "        if format == OutputFormat.MARKDOWN:\n",
    "            self.list_strategy = MarkdownListStrategy()\n",
    "        elif format == OutputFormat.HTML:\n",
    "            self.list_strategy = HtmlListStrategy()\n",
    "\n",
    "    def clear(self):\n",
    "        self.buffer.clear()\n",
    "\n",
    "    def __str__(self):\n",
    "        return ''.join(self.buffer)"
   ]
  },
  {
   "cell_type": "code",
   "execution_count": 14,
   "metadata": {},
   "outputs": [
    {
     "name": "stdout",
     "output_type": "stream",
     "text": [
      " * foo\n",
      " * bar\n",
      " * baz\n",
      "\n"
     ]
    }
   ],
   "source": [
    "items = ['foo', 'bar', 'baz']\n",
    "\n",
    "tp = TextProcessor()\n",
    "tp.set_output_format(OutputFormat.MARKDOWN)\n",
    "tp.append_list(items)\n",
    "print(tp)"
   ]
  },
  {
   "cell_type": "code",
   "execution_count": 15,
   "metadata": {},
   "outputs": [
    {
     "name": "stdout",
     "output_type": "stream",
     "text": [
      "<ul>\n",
      "  <li>foo</li>\n",
      "  <li>bar</li>\n",
      "  <li>baz</li>\n",
      "</ul>\n",
      "\n"
     ]
    }
   ],
   "source": [
    "tp.set_output_format(OutputFormat.HTML)\n",
    "tp.clear()\n",
    "tp.append_list(items)\n",
    "print(tp)"
   ]
  }
 ],
 "metadata": {
  "interpreter": {
   "hash": "20ac7aad763b689ebdaff2f53a3073c7ed55a0f51860968fbf5603f714378c4e"
  },
  "kernelspec": {
   "display_name": "Python 3.10.4 64-bit",
   "language": "python",
   "name": "python3"
  },
  "language_info": {
   "codemirror_mode": {
    "name": "ipython",
    "version": 3
   },
   "file_extension": ".py",
   "mimetype": "text/x-python",
   "name": "python",
   "nbconvert_exporter": "python",
   "pygments_lexer": "ipython3",
   "version": "3.10.4"
  },
  "orig_nbformat": 4
 },
 "nbformat": 4,
 "nbformat_minor": 2
}
