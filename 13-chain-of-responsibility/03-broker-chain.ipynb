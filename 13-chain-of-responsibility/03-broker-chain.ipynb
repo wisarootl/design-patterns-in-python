{
 "cells": [
  {
   "cell_type": "code",
   "execution_count": 1,
   "metadata": {},
   "outputs": [],
   "source": [
    "# 1) event broker (observer design pattern)\n",
    "# 2) command-query separation (cqs)\n",
    "# 3) observer\n",
    "\n",
    "from abc import ABC\n",
    "from enum import Enum"
   ]
  },
  {
   "cell_type": "code",
   "execution_count": 2,
   "metadata": {},
   "outputs": [],
   "source": [
    "class Event(list):\n",
    "    def __call__(self, *args, **kwargs):\n",
    "        for item in self:\n",
    "            item(*args, **kwargs)"
   ]
  },
  {
   "cell_type": "code",
   "execution_count": 3,
   "metadata": {},
   "outputs": [],
   "source": [
    "class WhatToQuery(Enum):\n",
    "    ATTACK = 1\n",
    "    DEFENSE = 2\n",
    "\n",
    "class Query:\n",
    "    def __init__(self, creature_name, what_to_query, default_value):\n",
    "        self.value = default_value  # bidirectional\n",
    "        self.what_to_query = what_to_query\n",
    "        self.creature_name = creature_name"
   ]
  },
  {
   "cell_type": "code",
   "execution_count": 4,
   "metadata": {},
   "outputs": [],
   "source": [
    "# event broker\n",
    "class Game:\n",
    "    def __init__(self):\n",
    "        self.queries = Event()\n",
    "\n",
    "    def perform_query(self, sender, query):\n",
    "        self.queries(sender, query)"
   ]
  },
  {
   "cell_type": "code",
   "execution_count": 5,
   "metadata": {},
   "outputs": [],
   "source": [
    "class CreatureModifier(ABC):\n",
    "    def __init__(self, game, creature):\n",
    "        self.creature = creature\n",
    "        self.game = game\n",
    "        self.game.queries.append(self.handle)\n",
    "\n",
    "    def handle(self, sender, query):\n",
    "        pass\n",
    "\n",
    "    def __enter__(self):\n",
    "        print('enter')\n",
    "        return self\n",
    "\n",
    "    def __exit__(self, exc_type, exc_val, exc_tb):\n",
    "        print('exit')\n",
    "        self.game.queries.remove(self.handle)\n",
    "\n",
    "\n",
    "class DoubleAttackModifier(CreatureModifier):\n",
    "    def handle(self, sender, query):\n",
    "        if (sender.name == self.creature.name and\n",
    "                query.what_to_query == WhatToQuery.ATTACK):\n",
    "            query.value *= 2\n",
    "\n",
    "class IncreaseDefenseModifier(CreatureModifier):\n",
    "    def handle(self, sender, query):\n",
    "        if (sender.name == self.creature.name and\n",
    "                query.what_to_query == WhatToQuery.DEFENSE):\n",
    "            query.value += 3"
   ]
  },
  {
   "cell_type": "code",
   "execution_count": 6,
   "metadata": {},
   "outputs": [],
   "source": [
    "class Creature:\n",
    "    def __init__(self, game, name, attack, defense):\n",
    "        self.initial_defense = defense\n",
    "        self.initial_attack = attack\n",
    "        self.name = name\n",
    "        self.game = game\n",
    "\n",
    "    @property\n",
    "    def attack(self):\n",
    "        q = Query(self.name, WhatToQuery.ATTACK, self.initial_attack)\n",
    "        self.game.perform_query(self, q)\n",
    "        return q.value\n",
    "\n",
    "    @property\n",
    "    def defense(self):\n",
    "        q = Query(self.name, WhatToQuery.DEFENSE, self.initial_attack)\n",
    "        self.game.perform_query(self, q)\n",
    "        return q.value\n",
    "        \n",
    "    def __str__(self):\n",
    "        return f'{self.name} ({self.attack}/{self.defense})'"
   ]
  },
  {
   "cell_type": "code",
   "execution_count": 7,
   "metadata": {},
   "outputs": [
    {
     "name": "stdout",
     "output_type": "stream",
     "text": [
      "Strong Goblin (2/2)\n",
      "Strong Goblin (4/2)\n"
     ]
    }
   ],
   "source": [
    "game = Game()\n",
    "goblin = Creature(game, 'Strong Goblin', 2, 2)\n",
    "print(goblin)\n",
    "DoubleAttackModifier(game, goblin)\n",
    "print(goblin)"
   ]
  },
  {
   "cell_type": "code",
   "execution_count": 8,
   "metadata": {},
   "outputs": [
    {
     "name": "stdout",
     "output_type": "stream",
     "text": [
      "Strong Goblin (2/2)\n",
      "enter\n",
      "Strong Goblin (4/2)\n",
      "exit\n",
      "Strong Goblin (2/2)\n"
     ]
    }
   ],
   "source": [
    "game = Game()\n",
    "goblin = Creature(game, 'Strong Goblin', 2, 2)\n",
    "print(goblin)\n",
    "# call __enter__\n",
    "with DoubleAttackModifier(game, goblin):\n",
    "    print(goblin)\n",
    "\n",
    "print(goblin)"
   ]
  }
 ],
 "metadata": {
  "interpreter": {
   "hash": "20ac7aad763b689ebdaff2f53a3073c7ed55a0f51860968fbf5603f714378c4e"
  },
  "kernelspec": {
   "display_name": "Python 3.10.4 64-bit",
   "language": "python",
   "name": "python3"
  },
  "language_info": {
   "codemirror_mode": {
    "name": "ipython",
    "version": 3
   },
   "file_extension": ".py",
   "mimetype": "text/x-python",
   "name": "python",
   "nbconvert_exporter": "python",
   "pygments_lexer": "ipython3",
   "version": "3.10.4"
  },
  "orig_nbformat": 4
 },
 "nbformat": 4,
 "nbformat_minor": 2
}
