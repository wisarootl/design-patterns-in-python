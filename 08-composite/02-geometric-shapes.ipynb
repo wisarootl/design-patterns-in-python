{
 "cells": [
  {
   "cell_type": "code",
   "execution_count": 1,
   "metadata": {},
   "outputs": [],
   "source": [
    "class GraphicObject:\n",
    "    def __init__(self, color=None):\n",
    "        self.color = color\n",
    "        self.children = []\n",
    "        self._name = 'Group'\n",
    "\n",
    "    @property\n",
    "    def name(self):\n",
    "        return self._name\n",
    "\n",
    "    def _print(self, items, depth):\n",
    "        items.append('*' * depth)\n",
    "        if self.color:\n",
    "            items.append(self.color)\n",
    "        items.append(f'{self.name}\\n')\n",
    "        for child in self.children:\n",
    "            child._print(items, depth + 1)\n",
    "\n",
    "    \n",
    "    def __str__(self):\n",
    "        items = []\n",
    "        self._print(items, 0)\n",
    "        return ''.join(items)"
   ]
  },
  {
   "cell_type": "code",
   "execution_count": 2,
   "metadata": {},
   "outputs": [],
   "source": [
    "class Circle(GraphicObject):\n",
    "    @property\n",
    "    def name(self):\n",
    "        return 'Circle'\n",
    "\n",
    "\n",
    "class Square(GraphicObject):\n",
    "    @property\n",
    "    def name(self):\n",
    "        return 'Square'"
   ]
  },
  {
   "cell_type": "code",
   "execution_count": 5,
   "metadata": {},
   "outputs": [
    {
     "name": "stdout",
     "output_type": "stream",
     "text": [
      "My Drawing\n",
      "*RedSquare\n",
      "*YellowCircle\n",
      "*Group\n",
      "**BlueCircle\n",
      "**BlueSquare\n",
      "\n"
     ]
    }
   ],
   "source": [
    "drawing = GraphicObject()\n",
    "drawing._name = 'My Drawing'\n",
    "drawing.children.append(Square('Red'))\n",
    "drawing.children.append(Circle('Yellow'))\n",
    "\n",
    "\n",
    "group = GraphicObject()  # no name\n",
    "group.children.append(Circle('Blue'))\n",
    "group.children.append(Square('Blue'))\n",
    "drawing.children.append(group)\n",
    "\n",
    "print(drawing)"
   ]
  }
 ],
 "metadata": {
  "interpreter": {
   "hash": "20ac7aad763b689ebdaff2f53a3073c7ed55a0f51860968fbf5603f714378c4e"
  },
  "kernelspec": {
   "display_name": "Python 3.10.4 64-bit",
   "language": "python",
   "name": "python3"
  },
  "language_info": {
   "codemirror_mode": {
    "name": "ipython",
    "version": 3
   },
   "file_extension": ".py",
   "mimetype": "text/x-python",
   "name": "python",
   "nbconvert_exporter": "python",
   "pygments_lexer": "ipython3",
   "version": "3.10.4"
  },
  "orig_nbformat": 4
 },
 "nbformat": 4,
 "nbformat_minor": 2
}
