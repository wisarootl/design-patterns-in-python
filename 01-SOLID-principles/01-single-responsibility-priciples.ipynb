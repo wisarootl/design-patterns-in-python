{
 "cells": [
  {
   "cell_type": "markdown",
   "metadata": {},
   "source": [
    "Object-Oriented Programming (OOP)\n",
    "1. Encapsulation\n",
    "2. Abstraction\n",
    "3. Inheritance\n",
    "4. Polymorphism"
   ]
  },
  {
   "cell_type": "markdown",
   "metadata": {},
   "source": [
    "# 1. Single Responsibility Principle (SOR)\n",
    "\n",
    "SOR = class should have only one reason to change\n",
    "\n",
    "Single Responsibility Principle (SOR) == Separation of Concern (SOC)\n",
    "\n",
    "The idea behind the SRP is that every class, module, or function in a program should have one responsibility/purpose in a program. As a commonly used definition, \"every class should have only one reason to change\"."
   ]
  },
  {
   "cell_type": "code",
   "execution_count": 1,
   "metadata": {},
   "outputs": [],
   "source": [
    "class Journal:\n",
    "    def __init__(self):\n",
    "        self.entries = []\n",
    "        self.count = 0\n",
    "\n",
    "    def add_entry(self, text):\n",
    "        self.count += 1\n",
    "        self.entries.append(f\"{self.count}: {text}\")\n",
    "\n",
    "    def remove_entry(self, pos):\n",
    "        del self.entries[pos]\n",
    "\n",
    "    def __str__(self):\n",
    "        return '\\n'.join(self.entries)\n",
    "\n",
    "    # save load load_from_web is secondary responsibility\n",
    "    # def save(self, filename):\n",
    "    #   pass\n",
    "\n",
    "    # def load(self, file):\n",
    "    #   pass\n",
    "\n",
    "    # def load_from_web(self, uri):\n",
    "    #   pass\n"
   ]
  },
  {
   "cell_type": "code",
   "execution_count": 2,
   "metadata": {},
   "outputs": [],
   "source": [
    "class PersistenceManager:\n",
    "    @staticmethod\n",
    "    def save_to_file(journal, filename):\n",
    "        file = open(filename, 'w')\n",
    "        file.write(str(journal))\n",
    "        file.close()"
   ]
  },
  {
   "cell_type": "code",
   "execution_count": 3,
   "metadata": {},
   "outputs": [
    {
     "name": "stdout",
     "output_type": "stream",
     "text": [
      "Journal entries:\n",
      "1: I cried today.\n",
      "2: I ate a bug.\n",
      "1: I cried today.\n",
      "2: I ate a bug.\n"
     ]
    }
   ],
   "source": [
    "j = Journal()\n",
    "j.add_entry('I cried today.')\n",
    "j.add_entry('I ate a bug.')\n",
    "print(f'Journal entries:\\n{j}')\n",
    "\n",
    "file = r'./test.txt'\n",
    "PersistenceManager.save_to_file(j, file)\n",
    "\n",
    "with open(file) as fh:\n",
    "    print(fh.read())"
   ]
  }
 ],
 "metadata": {
  "interpreter": {
   "hash": "20ac7aad763b689ebdaff2f53a3073c7ed55a0f51860968fbf5603f714378c4e"
  },
  "kernelspec": {
   "display_name": "Python 3.10.4 64-bit",
   "language": "python",
   "name": "python3"
  },
  "language_info": {
   "codemirror_mode": {
    "name": "ipython",
    "version": 3
   },
   "file_extension": ".py",
   "mimetype": "text/x-python",
   "name": "python",
   "nbconvert_exporter": "python",
   "pygments_lexer": "ipython3",
   "version": "3.10.4"
  },
  "orig_nbformat": 4
 },
 "nbformat": 4,
 "nbformat_minor": 2
}
