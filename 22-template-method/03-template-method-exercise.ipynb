{
 "cells": [
  {
   "cell_type": "markdown",
   "metadata": {},
   "source": [
    "# Template Method Coding Exercise"
   ]
  },
  {
   "cell_type": "markdown",
   "metadata": {},
   "source": [
    "Imagine a typical collectible card game which has cards representing creatures. Each creature has two values: Attack and Health. Creatures can fight each other, dealing their Attack damage, thereby reducing their opponent's health.\n",
    "\n",
    "The class CardGame implements the logic for two creatures fighting one another. However, the exact mechanics of how damage is dealt is different:\n",
    "\n",
    "- `TemporaryCardDamage`: In some games (e.g., Magic: the Gathering), unless the creature has been killed, its health returns to the original value at the end of combat.\n",
    "\n",
    "- `PermanentCardDamage`: In other games (e.g., Hearthstone), health damage persists.\n",
    "\n",
    "You are asked to implement classes `TemporaryCardDamageGame` and `PermanentCardDamageGame` that would allow us to simulate combat between creatures.\n",
    "\n",
    "Some examples:\n",
    "\n",
    "- With temporary damage, creatures 1/2 and 1/3 can never kill one another. With permanent damage, second creature will win after 2 rounds of combat.\n",
    "\n",
    "- With either temporary or permanent damage, two 2/2 creatures kill one another."
   ]
  },
  {
   "cell_type": "code",
   "execution_count": 1,
   "metadata": {},
   "outputs": [],
   "source": [
    "from abc import ABC\n",
    "from unittest import TestCase, main"
   ]
  },
  {
   "cell_type": "code",
   "execution_count": 2,
   "metadata": {},
   "outputs": [],
   "source": [
    "class Creature:\n",
    "    def __init__(self, attack, health):\n",
    "        self.health = health\n",
    "        self.attack = attack\n",
    "\n",
    "class CardGame(ABC):\n",
    "    def __init__(self, creatures):\n",
    "        self.creatures = creatures\n",
    "\n",
    "    # return -1 if both creatures alive or both dead after combat\n",
    "    # otherwise, return the _index_ of winning creature\n",
    "    def combat(self, c1_index, c2_index):\n",
    "        first = self.creatures[c1_index]\n",
    "        second = self.creatures[c2_index]\n",
    "        self.hit(first, second)\n",
    "        self.hit(second, first)\n",
    "        first_alive = first.health > 0\n",
    "        second_alive = second.health > 0\n",
    "        if first_alive == second_alive: return -1\n",
    "        return c1_index if first_alive else c2_index\n",
    "\n",
    "    def hit(self, attacker, defender):\n",
    "        pass  # implement this in derived classes\n",
    "\n",
    "\n",
    "class TemporaryDamageCardGame(CardGame):\n",
    "    def hit(self, attacker, defender):\n",
    "        old_health = defender.health\n",
    "        defender.health -= attacker.attack\n",
    "        if defender.health > 0:\n",
    "            defender.health = old_health\n",
    "\n",
    "\n",
    "class PermanentDamageCardGame(CardGame):\n",
    "    def hit(self, attacker, defender):\n",
    "        defender.health -= attacker.attack"
   ]
  },
  {
   "cell_type": "code",
   "execution_count": 3,
   "metadata": {},
   "outputs": [
    {
     "data": {
      "text/plain": [
       "-1"
      ]
     },
     "execution_count": 3,
     "metadata": {},
     "output_type": "execute_result"
    }
   ],
   "source": [
    "c1 = Creature(1, 2)\n",
    "c2 = Creature(1, 2)\n",
    "game = TemporaryDamageCardGame([c1, c2])\n",
    "game.combat(0, 1) # no one die\n",
    "game.combat(0, 1) # no one die"
   ]
  },
  {
   "cell_type": "code",
   "execution_count": 4,
   "metadata": {},
   "outputs": [
    {
     "data": {
      "text/plain": [
       "1"
      ]
     },
     "execution_count": 4,
     "metadata": {},
     "output_type": "execute_result"
    }
   ],
   "source": [
    "c1 = Creature(1, 1)\n",
    "c2 = Creature(2, 2)\n",
    "game = TemporaryDamageCardGame([c1, c2])\n",
    "game.combat(0, 1) # c1 die, return c2 (idx = 1)"
   ]
  },
  {
   "cell_type": "code",
   "execution_count": 5,
   "metadata": {},
   "outputs": [
    {
     "data": {
      "text/plain": [
       "-1"
      ]
     },
     "execution_count": 5,
     "metadata": {},
     "output_type": "execute_result"
    }
   ],
   "source": [
    "c1 = Creature(2, 1)\n",
    "c2 = Creature(2, 2)\n",
    "game = TemporaryDamageCardGame([c1, c2])\n",
    "game.combat(0, 1) # both die"
   ]
  },
  {
   "cell_type": "code",
   "execution_count": 6,
   "metadata": {},
   "outputs": [
    {
     "name": "stdout",
     "output_type": "stream",
     "text": [
      "-1\n",
      "c1.health : 1\n",
      "c2.health : 2\n",
      "1\n"
     ]
    }
   ],
   "source": [
    "c1 = Creature(1, 2)\n",
    "c2 = Creature(1, 3)\n",
    "game = PermanentDamageCardGame([c1, c2])\n",
    "print(game.combat(0, 1)) # no one die, return -1\n",
    "print('c1.health :', c1.health)\n",
    "print('c2.health :', c2.health)\n",
    "print(game.combat(0, 1)) # c2 win (idx = 1)"
   ]
  },
  {
   "cell_type": "code",
   "execution_count": 7,
   "metadata": {},
   "outputs": [
    {
     "name": "stderr",
     "output_type": "stream",
     "text": [
      "test_double_murder (__main__.Evaluate) ... ok\n",
      "test_impasse (__main__.Evaluate) ... ok\n",
      "test_permanent_damage_death (__main__.Evaluate) ... ok\n",
      "test_temporary_murder (__main__.Evaluate) ... ok\n",
      "\n",
      "----------------------------------------------------------------------\n",
      "Ran 4 tests in 0.004s\n",
      "\n",
      "OK\n"
     ]
    },
    {
     "data": {
      "text/plain": [
       "<unittest.main.TestProgram at 0x223c8ed56f0>"
      ]
     },
     "execution_count": 7,
     "metadata": {},
     "output_type": "execute_result"
    }
   ],
   "source": [
    "class Evaluate(TestCase):\n",
    "    def test_impasse(self):\n",
    "        c1 = Creature(1, 2)\n",
    "        c2 = Creature(1, 2)\n",
    "        game = TemporaryDamageCardGame([c1, c2])\n",
    "        self.assertEqual(-1, game.combat(0, 1), 'Combat should yield -1 since nobody died.')\n",
    "        self.assertEqual(-1, game.combat(0, 1), 'Combat should yield -1 since nobody died.')\n",
    "\n",
    "    def test_temporary_murder(self):\n",
    "        c1 = Creature(1, 1)\n",
    "        c2 = Creature(2, 2)\n",
    "        game = TemporaryDamageCardGame([c1, c2])\n",
    "        self.assertEqual(1, game.combat(0, 1))\n",
    "\n",
    "    def test_double_murder(self):\n",
    "        c1 = Creature(2, 1)\n",
    "        c2 = Creature(2, 2)\n",
    "        game = TemporaryDamageCardGame([c1, c2])\n",
    "        self.assertEqual(-1, game.combat(0, 1))\n",
    "\n",
    "    def test_permanent_damage_death(self):\n",
    "        c1 = Creature(1, 2)\n",
    "        c2 = Creature(1, 3)\n",
    "        game = PermanentDamageCardGame([c1, c2])\n",
    "        self.assertEqual(-1, game.combat(0, 1), 'Nobody should win this battle.')\n",
    "        self.assertEqual(1, c1.health)\n",
    "        self.assertEqual(2, c2.health)\n",
    "        self.assertEqual(1, game.combat(0, 1), 'Creature at index 1 should win this')\n",
    "        \n",
    "main(argv=['ignored', '-v'], exit=False)"
   ]
  }
 ],
 "metadata": {
  "interpreter": {
   "hash": "20ac7aad763b689ebdaff2f53a3073c7ed55a0f51860968fbf5603f714378c4e"
  },
  "kernelspec": {
   "display_name": "Python 3.10.4 64-bit",
   "language": "python",
   "name": "python3"
  },
  "language_info": {
   "codemirror_mode": {
    "name": "ipython",
    "version": 3
   },
   "file_extension": ".py",
   "mimetype": "text/x-python",
   "name": "python",
   "nbconvert_exporter": "python",
   "pygments_lexer": "ipython3",
   "version": "3.10.4"
  },
  "orig_nbformat": 4
 },
 "nbformat": 4,
 "nbformat_minor": 2
}
