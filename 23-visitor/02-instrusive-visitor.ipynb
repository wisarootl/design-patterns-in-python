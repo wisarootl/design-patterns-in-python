{
 "cells": [
  {
   "cell_type": "code",
   "execution_count": 1,
   "metadata": {},
   "outputs": [],
   "source": [
    "class DoubleExpression:\n",
    "    def __init__(self, value):\n",
    "        self.value = value\n",
    "\n",
    "    def print(self, buffer):\n",
    "        buffer.append(str(self.value))\n",
    "\n",
    "    def eval(self): return self.value"
   ]
  },
  {
   "cell_type": "code",
   "execution_count": 2,
   "metadata": {},
   "outputs": [],
   "source": [
    "class AdditionExpression:\n",
    "    def __init__(self, left, right):\n",
    "        self.right = right\n",
    "        self.left = left\n",
    "\n",
    "    def print(self, buffer):\n",
    "        buffer.append('(')\n",
    "        self.left.print(buffer)\n",
    "        buffer.append('+')\n",
    "        self.right.print(buffer)\n",
    "        buffer.append(')')\n",
    "\n",
    "    def eval(self):\n",
    "        return self.left.eval() + self.right.eval()"
   ]
  },
  {
   "cell_type": "code",
   "execution_count": 5,
   "metadata": {},
   "outputs": [
    {
     "name": "stdout",
     "output_type": "stream",
     "text": [
      "(1+(2+3)) = 6\n"
     ]
    }
   ],
   "source": [
    "# represents 1+(2+3)\n",
    "e = AdditionExpression(\n",
    "    DoubleExpression(1),\n",
    "    AdditionExpression(\n",
    "        DoubleExpression(2),\n",
    "        DoubleExpression(3)\n",
    "    )\n",
    ")\n",
    "\n",
    "buffer = []\n",
    "e.print(buffer)\n",
    "print(''.join(buffer), '=', e.eval())"
   ]
  }
 ],
 "metadata": {
  "interpreter": {
   "hash": "20ac7aad763b689ebdaff2f53a3073c7ed55a0f51860968fbf5603f714378c4e"
  },
  "kernelspec": {
   "display_name": "Python 3.10.4 64-bit",
   "language": "python",
   "name": "python3"
  },
  "language_info": {
   "codemirror_mode": {
    "name": "ipython",
    "version": 3
   },
   "file_extension": ".py",
   "mimetype": "text/x-python",
   "name": "python",
   "nbconvert_exporter": "python",
   "pygments_lexer": "ipython3",
   "version": "3.10.4"
  },
  "orig_nbformat": 4
 },
 "nbformat": 4,
 "nbformat_minor": 2
}
