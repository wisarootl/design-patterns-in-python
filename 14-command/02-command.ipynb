{
 "cells": [
  {
   "cell_type": "code",
   "execution_count": 1,
   "metadata": {},
   "outputs": [],
   "source": [
    "from abc import ABC\n",
    "from enum import Enum"
   ]
  },
  {
   "cell_type": "code",
   "execution_count": 2,
   "metadata": {},
   "outputs": [],
   "source": [
    "class BankAccount:\n",
    "    OVERDRAFT_LIMIT = -500\n",
    "\n",
    "    def __init__(self, balance=0):\n",
    "        self.balance = balance\n",
    "\n",
    "    def deposit(self, amount):\n",
    "        self.balance += amount\n",
    "        print(f'Deposited {amount}, balance = {self.balance}')\n",
    "\n",
    "    def withdraw(self, amount):\n",
    "        if self.balance - amount >= BankAccount.OVERDRAFT_LIMIT:\n",
    "            self.balance -= amount\n",
    "            print(f'Withdrew {amount}, balance = {self.balance}')\n",
    "            return True\n",
    "        return False\n",
    "\n",
    "    def __str__(self):\n",
    "        return f'Balance = {self.balance}'"
   ]
  },
  {
   "cell_type": "code",
   "execution_count": 3,
   "metadata": {},
   "outputs": [],
   "source": [
    "# optional\n",
    "class Command(ABC):\n",
    "    def invoke(self):\n",
    "        pass\n",
    "\n",
    "    def undo(self):\n",
    "        pass"
   ]
  },
  {
   "cell_type": "code",
   "execution_count": 4,
   "metadata": {},
   "outputs": [],
   "source": [
    "class BankAccountCommand(Command):\n",
    "\n",
    "    class Action(Enum):\n",
    "        DEPOSIT = 0\n",
    "        WITHDRAW = 1\n",
    "\n",
    "    def __init__(self, account, action, amount):\n",
    "        self.amount = amount\n",
    "        self.action = action\n",
    "        self.account = account\n",
    "        self.success = None\n",
    "\n",
    "    def invoke(self):\n",
    "        if self.action == self.Action.DEPOSIT:\n",
    "            self.account.deposit(self.amount)\n",
    "            self.success = True\n",
    "        elif self.action == self.Action.WITHDRAW:\n",
    "            self.success = self.account.withdraw(self.amount)\n",
    "\n",
    "    def undo(self):\n",
    "        if not self.success:\n",
    "            return\n",
    "        # strictly speaking this is not correct\n",
    "        # (you don't undo a deposit by withdrawing)\n",
    "        # but it works for this demo, so...\n",
    "        if self.action == self.Action.DEPOSIT:\n",
    "            self.account.withdraw(self.amount)\n",
    "        elif self.action == self.Action.WITHDRAW:\n",
    "            self.account.deposit(self.amount)"
   ]
  },
  {
   "cell_type": "code",
   "execution_count": 5,
   "metadata": {},
   "outputs": [
    {
     "name": "stdout",
     "output_type": "stream",
     "text": [
      "Deposited 100, balance = 100\n",
      "After $100 deposit: Balance = 100\n",
      "Withdrew 100, balance = 0\n",
      "$100 deposit undone: Balance = 0\n"
     ]
    }
   ],
   "source": [
    "ba = BankAccount()\n",
    "cmd = BankAccountCommand(ba, BankAccountCommand.Action.DEPOSIT, 100)\n",
    "cmd.invoke()\n",
    "print('After $100 deposit:', ba)\n",
    "\n",
    "cmd.undo()\n",
    "print('$100 deposit undone:', ba)"
   ]
  },
  {
   "cell_type": "code",
   "execution_count": 6,
   "metadata": {},
   "outputs": [
    {
     "name": "stdout",
     "output_type": "stream",
     "text": [
      "After impossible withdrawal: Balance = 0\n",
      "After undo: Balance = 0\n"
     ]
    }
   ],
   "source": [
    "illegal_cmd = BankAccountCommand(ba, BankAccountCommand.Action.WITHDRAW, 1000)\n",
    "illegal_cmd.invoke()\n",
    "print('After impossible withdrawal:', ba)\n",
    "illegal_cmd.undo()\n",
    "print('After undo:', ba)"
   ]
  }
 ],
 "metadata": {
  "interpreter": {
   "hash": "20ac7aad763b689ebdaff2f53a3073c7ed55a0f51860968fbf5603f714378c4e"
  },
  "kernelspec": {
   "display_name": "Python 3.10.4 64-bit",
   "language": "python",
   "name": "python3"
  },
  "language_info": {
   "codemirror_mode": {
    "name": "ipython",
    "version": 3
   },
   "file_extension": ".py",
   "mimetype": "text/x-python",
   "name": "python",
   "nbconvert_exporter": "python",
   "pygments_lexer": "ipython3",
   "version": "3.10.4"
  },
  "orig_nbformat": 4
 },
 "nbformat": 4,
 "nbformat_minor": 2
}
