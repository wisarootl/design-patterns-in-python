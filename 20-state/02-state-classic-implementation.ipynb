{
 "cells": [
  {
   "cell_type": "code",
   "execution_count": 1,
   "metadata": {},
   "outputs": [],
   "source": [
    "# classic implementation is interesting but not practical :)\n",
    "from abc import ABC"
   ]
  },
  {
   "cell_type": "code",
   "execution_count": 2,
   "metadata": {},
   "outputs": [],
   "source": [
    "class Switch:\n",
    "    def __init__(self):\n",
    "        self.state = OffState()\n",
    "\n",
    "    def on(self):\n",
    "        self.state.on(self)\n",
    "\n",
    "    def off(self):\n",
    "        self.state.off(self)"
   ]
  },
  {
   "cell_type": "code",
   "execution_count": 3,
   "metadata": {},
   "outputs": [],
   "source": [
    "class State(ABC):\n",
    "    def on(self, switch):\n",
    "        print('Light is already on')\n",
    "\n",
    "    def off(self, switch):\n",
    "        print('Light is already off')"
   ]
  },
  {
   "cell_type": "code",
   "execution_count": 4,
   "metadata": {},
   "outputs": [],
   "source": [
    "class OnState(State):\n",
    "    def __init__(self):\n",
    "        print('Light turned on')\n",
    "\n",
    "    def off(self, switch):\n",
    "        print('Turning light off...')\n",
    "        switch.state = OffState()\n",
    "\n",
    "\n",
    "class OffState(State):\n",
    "    def __init__(self):\n",
    "        print('Light turned off')\n",
    "\n",
    "    def on(self, switch):\n",
    "        print('Turning light on...')\n",
    "        switch.state = OnState()"
   ]
  },
  {
   "cell_type": "code",
   "execution_count": 5,
   "metadata": {},
   "outputs": [
    {
     "name": "stdout",
     "output_type": "stream",
     "text": [
      "Light turned off\n",
      "Turning light on...\n",
      "Light turned on\n"
     ]
    }
   ],
   "source": [
    "sw = Switch()\n",
    "sw.on()"
   ]
  },
  {
   "cell_type": "code",
   "execution_count": 6,
   "metadata": {},
   "outputs": [
    {
     "name": "stdout",
     "output_type": "stream",
     "text": [
      "Turning light off...\n",
      "Light turned off\n"
     ]
    }
   ],
   "source": [
    "sw.off() "
   ]
  },
  {
   "cell_type": "code",
   "execution_count": 7,
   "metadata": {},
   "outputs": [
    {
     "name": "stdout",
     "output_type": "stream",
     "text": [
      "Light is already off\n"
     ]
    }
   ],
   "source": [
    "sw.off()"
   ]
  }
 ],
 "metadata": {
  "interpreter": {
   "hash": "20ac7aad763b689ebdaff2f53a3073c7ed55a0f51860968fbf5603f714378c4e"
  },
  "kernelspec": {
   "display_name": "Python 3.10.4 64-bit",
   "language": "python",
   "name": "python3"
  },
  "language_info": {
   "codemirror_mode": {
    "name": "ipython",
    "version": 3
   },
   "file_extension": ".py",
   "mimetype": "text/x-python",
   "name": "python",
   "nbconvert_exporter": "python",
   "pygments_lexer": "ipython3",
   "version": "3.10.4"
  },
  "orig_nbformat": 4
 },
 "nbformat": 4,
 "nbformat_minor": 2
}
