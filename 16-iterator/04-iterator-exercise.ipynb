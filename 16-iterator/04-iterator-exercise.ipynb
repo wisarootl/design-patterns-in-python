{
 "cells": [
  {
   "cell_type": "markdown",
   "metadata": {},
   "source": [
    "# Iterator Coding Exercise"
   ]
  },
  {
   "cell_type": "markdown",
   "metadata": {},
   "source": [
    "Given the following definition of a `Node` , please implement **preorder traversal** right inside Node. The sequence returned should be the sequence of values, not their containing nodes."
   ]
  },
  {
   "cell_type": "code",
   "execution_count": 1,
   "metadata": {},
   "outputs": [],
   "source": [
    "import unittest"
   ]
  },
  {
   "cell_type": "code",
   "execution_count": 2,
   "metadata": {},
   "outputs": [],
   "source": [
    "class Node:\n",
    "  def __init__(self, value, left=None, right=None):\n",
    "    self.right = right\n",
    "    self.left = left\n",
    "    self.value = value\n",
    "\n",
    "    self.parent = None\n",
    "\n",
    "    if left:\n",
    "      self.left.parent = self\n",
    "    if right:\n",
    "      self.right.parent = self\n",
    "\n",
    "  def traverse_preorder(self):\n",
    "    yield self.value\n",
    "    if self.left:\n",
    "      yield from self.left.traverse_preorder()\n",
    "    if self.right:\n",
    "      yield from self.right.traverse_preorder()"
   ]
  },
  {
   "cell_type": "code",
   "execution_count": 3,
   "metadata": {},
   "outputs": [
    {
     "name": "stdout",
     "output_type": "stream",
     "text": [
      "abcde\n"
     ]
    }
   ],
   "source": [
    "node = Node('a',\n",
    "            Node('b',\n",
    "                  Node('c'),\n",
    "                  Node('d')),\n",
    "            Node('e'))\n",
    "\n",
    "output = ''.join([x for x in node.traverse_preorder()])\n",
    "expected = 'abcde'\n",
    "print(expected)\n",
    "\n",
    "assert output== expected"
   ]
  },
  {
   "cell_type": "code",
   "execution_count": 4,
   "metadata": {},
   "outputs": [
    {
     "name": "stderr",
     "output_type": "stream",
     "text": [
      "test_exercise (__main__.Evaluate) ... ok\n",
      "\n",
      "----------------------------------------------------------------------\n",
      "Ran 1 test in 0.002s\n",
      "\n",
      "OK\n"
     ]
    },
    {
     "data": {
      "text/plain": [
       "<unittest.main.TestProgram at 0x1c5155e5e10>"
      ]
     },
     "execution_count": 4,
     "metadata": {},
     "output_type": "execute_result"
    }
   ],
   "source": [
    "class Evaluate(unittest.TestCase):\n",
    "  def test_exercise(self):\n",
    "    node = Node('a',\n",
    "                Node('b',\n",
    "                     Node('c'),\n",
    "                     Node('d')),\n",
    "                Node('e'))\n",
    "    self.assertEqual(\n",
    "      'abcde',\n",
    "      ''.join([x for x in node.traverse_preorder()])\n",
    "    )\n",
    "    pass\n",
    "\n",
    "unittest.main(argv=['ignored', '-v'], exit=False)"
   ]
  }
 ],
 "metadata": {
  "interpreter": {
   "hash": "20ac7aad763b689ebdaff2f53a3073c7ed55a0f51860968fbf5603f714378c4e"
  },
  "kernelspec": {
   "display_name": "Python 3.10.4 64-bit",
   "language": "python",
   "name": "python3"
  },
  "language_info": {
   "codemirror_mode": {
    "name": "ipython",
    "version": 3
   },
   "file_extension": ".py",
   "mimetype": "text/x-python",
   "name": "python",
   "nbconvert_exporter": "python",
   "pygments_lexer": "ipython3",
   "version": "3.10.4"
  },
  "orig_nbformat": 4
 },
 "nbformat": 4,
 "nbformat_minor": 2
}
