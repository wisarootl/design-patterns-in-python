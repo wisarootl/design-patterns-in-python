{
 "cells": [
  {
   "cell_type": "markdown",
   "metadata": {},
   "source": [
    "# Composite Coding Exercise"
   ]
  },
  {
   "cell_type": "markdown",
   "metadata": {},
   "source": [
    "Consider the code presented below. We have two classes called SingleValue and ManyValues. SingleValue stores just one numeric value, but ManyValues can store either numeric values or SingleValue objects.\n",
    "\n",
    "You are asked to give both SingleValue and ManyValues a property member called sum that returns a sum of all the values that the object contains. Please ensure that there is only a single method that realizes the property sum, not multiple methods.\n",
    "\n",
    "Here is a sample unit test:\n",
    "\n",
    "```python\n",
    "class FirstTestSuite(unittest.TestCase):\n",
    "    def test(self):\n",
    "        single_value = SingleValue(11)\n",
    "        other_values = ManyValues()\n",
    "        other_values.append(22)\n",
    "        other_values.append(33)\n",
    "        # make a list of all values\n",
    "        all_values = ManyValues()\n",
    "        all_values.append(single_value)\n",
    "        all_values.append(other_values)\n",
    "        self.assertEqual(all_values.sum, 66)\n",
    "```"
   ]
  },
  {
   "cell_type": "code",
   "execution_count": 1,
   "metadata": {},
   "outputs": [],
   "source": [
    "from unittest import TestCase, main\n",
    "from abc import ABC\n",
    "from collections.abc import Iterable"
   ]
  },
  {
   "cell_type": "code",
   "execution_count": 2,
   "metadata": {},
   "outputs": [],
   "source": [
    "class ValueContainer(Iterable, ABC):\n",
    "    @property\n",
    "    def sum(self):\n",
    "        result = 0\n",
    "        for c in self:\n",
    "            for i in c:\n",
    "                result += i\n",
    "        return result\n",
    "\n",
    "\n",
    "class SingleValue:\n",
    "    def __init__(self, value):\n",
    "        self.value = value\n",
    "\n",
    "    def __iter__(self):\n",
    "        yield self.value\n",
    "\n",
    "\n",
    "class ManyValues(list, ValueContainer):\n",
    "    pass"
   ]
  },
  {
   "cell_type": "code",
   "execution_count": 3,
   "metadata": {},
   "outputs": [
    {
     "name": "stdout",
     "output_type": "stream",
     "text": [
      "66\n"
     ]
    }
   ],
   "source": [
    "single_value = SingleValue(11)\n",
    "other_values = ManyValues()\n",
    "other_values.append(22)\n",
    "other_values.append(33)\n",
    "# make a list of all values\n",
    "all_values = ManyValues()\n",
    "all_values.append(single_value)\n",
    "all_values.append(other_values)\n",
    "print(all_values.sum) # 66"
   ]
  },
  {
   "cell_type": "code",
   "execution_count": 4,
   "metadata": {},
   "outputs": [
    {
     "name": "stderr",
     "output_type": "stream",
     "text": [
      "test_exercise (__main__.Evaluate) ... ok\n",
      "\n",
      "----------------------------------------------------------------------\n",
      "Ran 1 test in 0.002s\n",
      "\n",
      "OK\n"
     ]
    },
    {
     "name": "stdout",
     "output_type": "stream",
     "text": [
      "pass test\n"
     ]
    },
    {
     "data": {
      "text/plain": [
       "<unittest.main.TestProgram at 0x23d098cf9a0>"
      ]
     },
     "execution_count": 4,
     "metadata": {},
     "output_type": "execute_result"
    }
   ],
   "source": [
    "class Evaluate(TestCase):\n",
    "    def test_exercise(self):\n",
    "        single_value = SingleValue(11)\n",
    "        other_values = ManyValues()\n",
    "        other_values.append(22)\n",
    "        other_values.append(33)\n",
    "        # make a list of all values\n",
    "        all_values = ManyValues()\n",
    "        all_values.append(single_value)\n",
    "        all_values.append(other_values)\n",
    "        self.assertEqual(all_values.sum, 66)\n",
    "        print('pass test')\n",
    "\n",
    "main(argv=['ignored', '-v'], exit=False)"
   ]
  }
 ],
 "metadata": {
  "interpreter": {
   "hash": "20ac7aad763b689ebdaff2f53a3073c7ed55a0f51860968fbf5603f714378c4e"
  },
  "kernelspec": {
   "display_name": "Python 3.10.4 64-bit",
   "language": "python",
   "name": "python3"
  },
  "language_info": {
   "codemirror_mode": {
    "name": "ipython",
    "version": 3
   },
   "file_extension": ".py",
   "mimetype": "text/x-python",
   "name": "python",
   "nbconvert_exporter": "python",
   "pygments_lexer": "ipython3",
   "version": "3.10.4"
  },
  "orig_nbformat": 4
 },
 "nbformat": 4,
 "nbformat_minor": 2
}
